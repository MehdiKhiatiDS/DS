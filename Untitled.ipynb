{
 "cells": [
  {
   "cell_type": "code",
   "execution_count": 78,
   "metadata": {},
   "outputs": [],
   "source": [
    "import pandas as pd\n",
    "from flask import request\n",
    "import requests\n",
    "import json\n",
    "import seaborn as sns\n",
    "import matplotlib.pyplot as plt\n",
    "\n",
    "from sklearn.feature_extraction.text import CountVectorizer, TfidfVectorizer\n",
    "from sklearn.metrics.pairwise import cosine_similarity\n",
    "from sklearn.neighbors import NearestNeighbors\n",
    "from sklearn.decomposition import PCA"
   ]
  },
  {
   "cell_type": "code",
   "execution_count": 79,
   "metadata": {},
   "outputs": [],
   "source": [
    "API_KEY = 'dRhAoLy'\n",
    "\n",
    "request_url = f\"http://strainapi.evanbusse.com/{API_KEY}/strains/search/all\"\n",
    "response = requests.get(request_url)\n",
    "data = json.loads(response.text) "
   ]
  },
  {
   "cell_type": "code",
   "execution_count": 80,
   "metadata": {},
   "outputs": [],
   "source": [
    "# !pip install https://github.com/explosion/spacy-models/releases/download/en_core_web_md-2.0.0/en_core_web_md-2.0.0.tar.gz"
   ]
  },
  {
   "cell_type": "code",
   "execution_count": 81,
   "metadata": {},
   "outputs": [],
   "source": [
    "# !pip install spacy download en"
   ]
  },
  {
   "cell_type": "code",
   "execution_count": 3,
   "metadata": {
    "collapsed": true,
    "jupyter": {
     "outputs_hidden": true
    }
   },
   "outputs": [
    {
     "name": "stdout",
     "output_type": "stream",
     "text": [
      "Requirement already satisfied: en_core_web_lg==2.2.5 from https://github.com/explosion/spacy-models/releases/download/en_core_web_lg-2.2.5/en_core_web_lg-2.2.5.tar.gz#egg=en_core_web_lg==2.2.5 in /Users/Medy/opt/anaconda3/lib/python3.7/site-packages (2.2.5)\n",
      "Requirement already satisfied: spacy>=2.2.2 in /Users/Medy/opt/anaconda3/lib/python3.7/site-packages (from en_core_web_lg==2.2.5) (2.2.3)\n",
      "Requirement already satisfied: wasabi<1.1.0,>=0.4.0 in /Users/Medy/opt/anaconda3/lib/python3.7/site-packages (from spacy>=2.2.2->en_core_web_lg==2.2.5) (0.6.0)\n",
      "Requirement already satisfied: catalogue<1.1.0,>=0.0.7 in /Users/Medy/opt/anaconda3/lib/python3.7/site-packages (from spacy>=2.2.2->en_core_web_lg==2.2.5) (1.0.0)\n",
      "Requirement already satisfied: cymem<2.1.0,>=2.0.2 in /Users/Medy/opt/anaconda3/lib/python3.7/site-packages (from spacy>=2.2.2->en_core_web_lg==2.2.5) (2.0.3)\n",
      "Requirement already satisfied: srsly<1.1.0,>=0.1.0 in /Users/Medy/opt/anaconda3/lib/python3.7/site-packages (from spacy>=2.2.2->en_core_web_lg==2.2.5) (1.0.1)\n",
      "Requirement already satisfied: plac<1.2.0,>=0.9.6 in /Users/Medy/opt/anaconda3/lib/python3.7/site-packages (from spacy>=2.2.2->en_core_web_lg==2.2.5) (1.1.3)\n",
      "Requirement already satisfied: preshed<3.1.0,>=3.0.2 in /Users/Medy/opt/anaconda3/lib/python3.7/site-packages (from spacy>=2.2.2->en_core_web_lg==2.2.5) (3.0.2)\n",
      "Requirement already satisfied: setuptools in /Users/Medy/opt/anaconda3/lib/python3.7/site-packages (from spacy>=2.2.2->en_core_web_lg==2.2.5) (41.4.0)\n",
      "Requirement already satisfied: blis<0.5.0,>=0.4.0 in /Users/Medy/opt/anaconda3/lib/python3.7/site-packages (from spacy>=2.2.2->en_core_web_lg==2.2.5) (0.4.1)\n",
      "Requirement already satisfied: requests<3.0.0,>=2.13.0 in /Users/Medy/opt/anaconda3/lib/python3.7/site-packages (from spacy>=2.2.2->en_core_web_lg==2.2.5) (2.22.0)\n",
      "Requirement already satisfied: thinc<7.4.0,>=7.3.0 in /Users/Medy/opt/anaconda3/lib/python3.7/site-packages (from spacy>=2.2.2->en_core_web_lg==2.2.5) (7.3.1)\n",
      "Requirement already satisfied: murmurhash<1.1.0,>=0.28.0 in /Users/Medy/opt/anaconda3/lib/python3.7/site-packages (from spacy>=2.2.2->en_core_web_lg==2.2.5) (1.0.2)\n",
      "Requirement already satisfied: numpy>=1.15.0 in /Users/Medy/opt/anaconda3/lib/python3.7/site-packages (from spacy>=2.2.2->en_core_web_lg==2.2.5) (1.17.2)\n",
      "Requirement already satisfied: importlib-metadata>=0.20; python_version < \"3.8\" in /Users/Medy/opt/anaconda3/lib/python3.7/site-packages (from catalogue<1.1.0,>=0.0.7->spacy>=2.2.2->en_core_web_lg==2.2.5) (0.23)\n",
      "Requirement already satisfied: chardet<3.1.0,>=3.0.2 in /Users/Medy/opt/anaconda3/lib/python3.7/site-packages (from requests<3.0.0,>=2.13.0->spacy>=2.2.2->en_core_web_lg==2.2.5) (3.0.4)\n",
      "Requirement already satisfied: certifi>=2017.4.17 in /Users/Medy/opt/anaconda3/lib/python3.7/site-packages (from requests<3.0.0,>=2.13.0->spacy>=2.2.2->en_core_web_lg==2.2.5) (2019.9.11)\n",
      "Requirement already satisfied: urllib3!=1.25.0,!=1.25.1,<1.26,>=1.21.1 in /Users/Medy/opt/anaconda3/lib/python3.7/site-packages (from requests<3.0.0,>=2.13.0->spacy>=2.2.2->en_core_web_lg==2.2.5) (1.24.2)\n",
      "Requirement already satisfied: idna<2.9,>=2.5 in /Users/Medy/opt/anaconda3/lib/python3.7/site-packages (from requests<3.0.0,>=2.13.0->spacy>=2.2.2->en_core_web_lg==2.2.5) (2.8)\n",
      "Requirement already satisfied: tqdm<5.0.0,>=4.10.0 in /Users/Medy/opt/anaconda3/lib/python3.7/site-packages (from thinc<7.4.0,>=7.3.0->spacy>=2.2.2->en_core_web_lg==2.2.5) (4.42.0)\n",
      "Requirement already satisfied: zipp>=0.5 in /Users/Medy/opt/anaconda3/lib/python3.7/site-packages (from importlib-metadata>=0.20; python_version < \"3.8\"->catalogue<1.1.0,>=0.0.7->spacy>=2.2.2->en_core_web_lg==2.2.5) (0.6.0)\n",
      "Requirement already satisfied: more-itertools in /Users/Medy/opt/anaconda3/lib/python3.7/site-packages (from zipp>=0.5->importlib-metadata>=0.20; python_version < \"3.8\"->catalogue<1.1.0,>=0.0.7->spacy>=2.2.2->en_core_web_lg==2.2.5) (7.2.0)\n",
      "\u001b[38;5;2m✔ Download and installation successful\u001b[0m\n",
      "You can now load the model via spacy.load('en_core_web_lg')\n"
     ]
    }
   ],
   "source": [
    "!python -m spacy download en_core_web_lg"
   ]
  },
  {
   "cell_type": "code",
   "execution_count": 82,
   "metadata": {},
   "outputs": [],
   "source": [
    "import spacy\n",
    "nlp = spacy.load('en_core_web_lg')"
   ]
  },
  {
   "cell_type": "code",
   "execution_count": 83,
   "metadata": {},
   "outputs": [],
   "source": [
    "df1 = pd.read_json('http://strainapi.evanbusse.com/uEH5NtA/strains/search/all')"
   ]
  },
  {
   "cell_type": "code",
   "execution_count": 84,
   "metadata": {},
   "outputs": [
    {
     "data": {
      "text/html": [
       "<div>\n",
       "<style scoped>\n",
       "    .dataframe tbody tr th:only-of-type {\n",
       "        vertical-align: middle;\n",
       "    }\n",
       "\n",
       "    .dataframe tbody tr th {\n",
       "        vertical-align: top;\n",
       "    }\n",
       "\n",
       "    .dataframe thead th {\n",
       "        text-align: right;\n",
       "    }\n",
       "</style>\n",
       "<table border=\"1\" class=\"dataframe\">\n",
       "  <thead>\n",
       "    <tr style=\"text-align: right;\">\n",
       "      <th></th>\n",
       "      <th>Afpak</th>\n",
       "      <th>African</th>\n",
       "      <th>Afternoon Delight</th>\n",
       "      <th>Afwreck</th>\n",
       "      <th>Agent Orange</th>\n",
       "      <th>Agent Tangie</th>\n",
       "      <th>Alaska</th>\n",
       "      <th>Alaska Thunder Grape</th>\n",
       "      <th>Alaskan Ice</th>\n",
       "      <th>Alaskan Thunder Fuck</th>\n",
       "      <th>...</th>\n",
       "      <th>Yogi Diesel</th>\n",
       "      <th>Yumboldt</th>\n",
       "      <th>Yummy</th>\n",
       "      <th>Zen</th>\n",
       "      <th>Zeta Sage</th>\n",
       "      <th>Zeus OG</th>\n",
       "      <th>Zkittlez</th>\n",
       "      <th>Zombie OG</th>\n",
       "      <th>Zoom Pie</th>\n",
       "      <th>ʻAlenuihāhā</th>\n",
       "    </tr>\n",
       "  </thead>\n",
       "  <tbody>\n",
       "    <tr>\n",
       "      <th>id</th>\n",
       "      <td>1</td>\n",
       "      <td>2</td>\n",
       "      <td>3</td>\n",
       "      <td>4</td>\n",
       "      <td>5</td>\n",
       "      <td>6</td>\n",
       "      <td>8</td>\n",
       "      <td>9</td>\n",
       "      <td>10</td>\n",
       "      <td>11</td>\n",
       "      <td>...</td>\n",
       "      <td>2152</td>\n",
       "      <td>2153</td>\n",
       "      <td>2154</td>\n",
       "      <td>2156</td>\n",
       "      <td>2157</td>\n",
       "      <td>2158</td>\n",
       "      <td>2159</td>\n",
       "      <td>2160</td>\n",
       "      <td>2161</td>\n",
       "      <td>2162</td>\n",
       "    </tr>\n",
       "    <tr>\n",
       "      <th>race</th>\n",
       "      <td>hybrid</td>\n",
       "      <td>sativa</td>\n",
       "      <td>hybrid</td>\n",
       "      <td>hybrid</td>\n",
       "      <td>hybrid</td>\n",
       "      <td>hybrid</td>\n",
       "      <td>sativa</td>\n",
       "      <td>hybrid</td>\n",
       "      <td>sativa</td>\n",
       "      <td>sativa</td>\n",
       "      <td>...</td>\n",
       "      <td>hybrid</td>\n",
       "      <td>indica</td>\n",
       "      <td>hybrid</td>\n",
       "      <td>hybrid</td>\n",
       "      <td>sativa</td>\n",
       "      <td>hybrid</td>\n",
       "      <td>indica</td>\n",
       "      <td>indica</td>\n",
       "      <td>indica</td>\n",
       "      <td>hybrid</td>\n",
       "    </tr>\n",
       "    <tr>\n",
       "      <th>flavors</th>\n",
       "      <td>[Earthy, Chemical, Pine]</td>\n",
       "      <td>[Spicy/Herbal, Pungent, Earthy]</td>\n",
       "      <td>[Pepper, Flowery, Pine]</td>\n",
       "      <td>[Pine, Earthy, Flowery]</td>\n",
       "      <td>[Citrus, Orange, Sweet]</td>\n",
       "      <td>[Skunk, Pepper, Citrus]</td>\n",
       "      <td>[Earthy, Woody, Pungent]</td>\n",
       "      <td>[Grape, Pepper, Skunk]</td>\n",
       "      <td>[Earthy, Pine, Minty]</td>\n",
       "      <td>[Earthy, Woody, Pine]</td>\n",
       "      <td>...</td>\n",
       "      <td>[Citrus, Diesel, Pine]</td>\n",
       "      <td>[Sweet, Pungent, Earthy]</td>\n",
       "      <td>[Sweet, Earthy, Pungent]</td>\n",
       "      <td>[Earthy, Woody, Flowery]</td>\n",
       "      <td>[Sage, Diesel, Sweet]</td>\n",
       "      <td>[Earthy, Woody, Pine]</td>\n",
       "      <td>[Sweet, Berry, Grape]</td>\n",
       "      <td>[Earthy, Pungent, Sweet]</td>\n",
       "      <td>[Berry, Earthy, Pungent]</td>\n",
       "      <td>[Sweet, Tropical, Pineapple]</td>\n",
       "    </tr>\n",
       "    <tr>\n",
       "      <th>effects</th>\n",
       "      <td>{'positive': ['Relaxed', 'Hungry', 'Happy', 'S...</td>\n",
       "      <td>{'positive': ['Euphoric', 'Happy', 'Creative',...</td>\n",
       "      <td>{'positive': ['Relaxed', 'Hungry', 'Euphoric',...</td>\n",
       "      <td>{'positive': ['Relaxed', 'Happy', 'Creative', ...</td>\n",
       "      <td>{'positive': ['Relaxed', 'Euphoric', 'Happy', ...</td>\n",
       "      <td>{'positive': ['Euphoric', 'Happy', 'Creative',...</td>\n",
       "      <td>{'positive': ['Relaxed', 'Euphoric', 'Happy', ...</td>\n",
       "      <td>{'positive': ['Relaxed', 'Euphoric', 'Creative...</td>\n",
       "      <td>{'positive': ['Euphoric', 'Happy', 'Creative',...</td>\n",
       "      <td>{'positive': ['Relaxed', 'Euphoric', 'Happy', ...</td>\n",
       "      <td>...</td>\n",
       "      <td>{'positive': ['Euphoric', 'Uplifted', 'Tingly'...</td>\n",
       "      <td>{'positive': ['Relaxed', 'Euphoric', 'Happy', ...</td>\n",
       "      <td>{'positive': ['Relaxed', 'Creative', 'Energeti...</td>\n",
       "      <td>{'positive': ['Relaxed', 'Happy', 'Energetic',...</td>\n",
       "      <td>{'positive': ['Relaxed', 'Happy', 'Energetic',...</td>\n",
       "      <td>{'positive': ['Relaxed', 'Happy', 'Energetic',...</td>\n",
       "      <td>{'positive': ['Relaxed', 'Euphoric', 'Happy', ...</td>\n",
       "      <td>{'positive': ['Relaxed', 'Euphoric', 'Happy', ...</td>\n",
       "      <td>{'positive': ['Relaxed', 'Hungry', 'Happy', 'U...</td>\n",
       "      <td>{'positive': ['Euphoric', 'Happy', 'Creative',...</td>\n",
       "    </tr>\n",
       "  </tbody>\n",
       "</table>\n",
       "<p>4 rows × 1970 columns</p>\n",
       "</div>"
      ],
      "text/plain": [
       "                                                     Afpak  \\\n",
       "id                                                       1   \n",
       "race                                                hybrid   \n",
       "flavors                           [Earthy, Chemical, Pine]   \n",
       "effects  {'positive': ['Relaxed', 'Hungry', 'Happy', 'S...   \n",
       "\n",
       "                                                   African  \\\n",
       "id                                                       2   \n",
       "race                                                sativa   \n",
       "flavors                    [Spicy/Herbal, Pungent, Earthy]   \n",
       "effects  {'positive': ['Euphoric', 'Happy', 'Creative',...   \n",
       "\n",
       "                                         Afternoon Delight  \\\n",
       "id                                                       3   \n",
       "race                                                hybrid   \n",
       "flavors                            [Pepper, Flowery, Pine]   \n",
       "effects  {'positive': ['Relaxed', 'Hungry', 'Euphoric',...   \n",
       "\n",
       "                                                   Afwreck  \\\n",
       "id                                                       4   \n",
       "race                                                hybrid   \n",
       "flavors                            [Pine, Earthy, Flowery]   \n",
       "effects  {'positive': ['Relaxed', 'Happy', 'Creative', ...   \n",
       "\n",
       "                                              Agent Orange  \\\n",
       "id                                                       5   \n",
       "race                                                hybrid   \n",
       "flavors                            [Citrus, Orange, Sweet]   \n",
       "effects  {'positive': ['Relaxed', 'Euphoric', 'Happy', ...   \n",
       "\n",
       "                                              Agent Tangie  \\\n",
       "id                                                       6   \n",
       "race                                                hybrid   \n",
       "flavors                            [Skunk, Pepper, Citrus]   \n",
       "effects  {'positive': ['Euphoric', 'Happy', 'Creative',...   \n",
       "\n",
       "                                                    Alaska  \\\n",
       "id                                                       8   \n",
       "race                                                sativa   \n",
       "flavors                           [Earthy, Woody, Pungent]   \n",
       "effects  {'positive': ['Relaxed', 'Euphoric', 'Happy', ...   \n",
       "\n",
       "                                      Alaska Thunder Grape  \\\n",
       "id                                                       9   \n",
       "race                                                hybrid   \n",
       "flavors                             [Grape, Pepper, Skunk]   \n",
       "effects  {'positive': ['Relaxed', 'Euphoric', 'Creative...   \n",
       "\n",
       "                                               Alaskan Ice  \\\n",
       "id                                                      10   \n",
       "race                                                sativa   \n",
       "flavors                              [Earthy, Pine, Minty]   \n",
       "effects  {'positive': ['Euphoric', 'Happy', 'Creative',...   \n",
       "\n",
       "                                      Alaskan Thunder Fuck  ...  \\\n",
       "id                                                      11  ...   \n",
       "race                                                sativa  ...   \n",
       "flavors                              [Earthy, Woody, Pine]  ...   \n",
       "effects  {'positive': ['Relaxed', 'Euphoric', 'Happy', ...  ...   \n",
       "\n",
       "                                               Yogi Diesel  \\\n",
       "id                                                    2152   \n",
       "race                                                hybrid   \n",
       "flavors                             [Citrus, Diesel, Pine]   \n",
       "effects  {'positive': ['Euphoric', 'Uplifted', 'Tingly'...   \n",
       "\n",
       "                                                  Yumboldt  \\\n",
       "id                                                    2153   \n",
       "race                                                indica   \n",
       "flavors                           [Sweet, Pungent, Earthy]   \n",
       "effects  {'positive': ['Relaxed', 'Euphoric', 'Happy', ...   \n",
       "\n",
       "                                                     Yummy  \\\n",
       "id                                                    2154   \n",
       "race                                                hybrid   \n",
       "flavors                           [Sweet, Earthy, Pungent]   \n",
       "effects  {'positive': ['Relaxed', 'Creative', 'Energeti...   \n",
       "\n",
       "                                                       Zen  \\\n",
       "id                                                    2156   \n",
       "race                                                hybrid   \n",
       "flavors                           [Earthy, Woody, Flowery]   \n",
       "effects  {'positive': ['Relaxed', 'Happy', 'Energetic',...   \n",
       "\n",
       "                                                 Zeta Sage  \\\n",
       "id                                                    2157   \n",
       "race                                                sativa   \n",
       "flavors                              [Sage, Diesel, Sweet]   \n",
       "effects  {'positive': ['Relaxed', 'Happy', 'Energetic',...   \n",
       "\n",
       "                                                   Zeus OG  \\\n",
       "id                                                    2158   \n",
       "race                                                hybrid   \n",
       "flavors                              [Earthy, Woody, Pine]   \n",
       "effects  {'positive': ['Relaxed', 'Happy', 'Energetic',...   \n",
       "\n",
       "                                                  Zkittlez  \\\n",
       "id                                                    2159   \n",
       "race                                                indica   \n",
       "flavors                              [Sweet, Berry, Grape]   \n",
       "effects  {'positive': ['Relaxed', 'Euphoric', 'Happy', ...   \n",
       "\n",
       "                                                 Zombie OG  \\\n",
       "id                                                    2160   \n",
       "race                                                indica   \n",
       "flavors                           [Earthy, Pungent, Sweet]   \n",
       "effects  {'positive': ['Relaxed', 'Euphoric', 'Happy', ...   \n",
       "\n",
       "                                                  Zoom Pie  \\\n",
       "id                                                    2161   \n",
       "race                                                indica   \n",
       "flavors                           [Berry, Earthy, Pungent]   \n",
       "effects  {'positive': ['Relaxed', 'Hungry', 'Happy', 'U...   \n",
       "\n",
       "                                               ʻAlenuihāhā  \n",
       "id                                                    2162  \n",
       "race                                                hybrid  \n",
       "flavors                       [Sweet, Tropical, Pineapple]  \n",
       "effects  {'positive': ['Euphoric', 'Happy', 'Creative',...  \n",
       "\n",
       "[4 rows x 1970 columns]"
      ]
     },
     "execution_count": 84,
     "metadata": {},
     "output_type": "execute_result"
    }
   ],
   "source": [
    "df1.head()"
   ]
  },
  {
   "cell_type": "code",
   "execution_count": 85,
   "metadata": {},
   "outputs": [
    {
     "data": {
      "text/html": [
       "<div>\n",
       "<style scoped>\n",
       "    .dataframe tbody tr th:only-of-type {\n",
       "        vertical-align: middle;\n",
       "    }\n",
       "\n",
       "    .dataframe tbody tr th {\n",
       "        vertical-align: top;\n",
       "    }\n",
       "\n",
       "    .dataframe thead th {\n",
       "        text-align: right;\n",
       "    }\n",
       "</style>\n",
       "<table border=\"1\" class=\"dataframe\">\n",
       "  <thead>\n",
       "    <tr style=\"text-align: right;\">\n",
       "      <th></th>\n",
       "      <th>id</th>\n",
       "      <th>race</th>\n",
       "      <th>flavors</th>\n",
       "      <th>effects</th>\n",
       "    </tr>\n",
       "  </thead>\n",
       "  <tbody>\n",
       "    <tr>\n",
       "      <th>Afpak</th>\n",
       "      <td>1</td>\n",
       "      <td>hybrid</td>\n",
       "      <td>[Earthy, Chemical, Pine]</td>\n",
       "      <td>{'positive': ['Relaxed', 'Hungry', 'Happy', 'S...</td>\n",
       "    </tr>\n",
       "    <tr>\n",
       "      <th>African</th>\n",
       "      <td>2</td>\n",
       "      <td>sativa</td>\n",
       "      <td>[Spicy/Herbal, Pungent, Earthy]</td>\n",
       "      <td>{'positive': ['Euphoric', 'Happy', 'Creative',...</td>\n",
       "    </tr>\n",
       "    <tr>\n",
       "      <th>Afternoon Delight</th>\n",
       "      <td>3</td>\n",
       "      <td>hybrid</td>\n",
       "      <td>[Pepper, Flowery, Pine]</td>\n",
       "      <td>{'positive': ['Relaxed', 'Hungry', 'Euphoric',...</td>\n",
       "    </tr>\n",
       "    <tr>\n",
       "      <th>Afwreck</th>\n",
       "      <td>4</td>\n",
       "      <td>hybrid</td>\n",
       "      <td>[Pine, Earthy, Flowery]</td>\n",
       "      <td>{'positive': ['Relaxed', 'Happy', 'Creative', ...</td>\n",
       "    </tr>\n",
       "    <tr>\n",
       "      <th>Agent Orange</th>\n",
       "      <td>5</td>\n",
       "      <td>hybrid</td>\n",
       "      <td>[Citrus, Orange, Sweet]</td>\n",
       "      <td>{'positive': ['Relaxed', 'Euphoric', 'Happy', ...</td>\n",
       "    </tr>\n",
       "    <tr>\n",
       "      <th>...</th>\n",
       "      <td>...</td>\n",
       "      <td>...</td>\n",
       "      <td>...</td>\n",
       "      <td>...</td>\n",
       "    </tr>\n",
       "    <tr>\n",
       "      <th>Zeus OG</th>\n",
       "      <td>2158</td>\n",
       "      <td>hybrid</td>\n",
       "      <td>[Earthy, Woody, Pine]</td>\n",
       "      <td>{'positive': ['Relaxed', 'Happy', 'Energetic',...</td>\n",
       "    </tr>\n",
       "    <tr>\n",
       "      <th>Zkittlez</th>\n",
       "      <td>2159</td>\n",
       "      <td>indica</td>\n",
       "      <td>[Sweet, Berry, Grape]</td>\n",
       "      <td>{'positive': ['Relaxed', 'Euphoric', 'Happy', ...</td>\n",
       "    </tr>\n",
       "    <tr>\n",
       "      <th>Zombie OG</th>\n",
       "      <td>2160</td>\n",
       "      <td>indica</td>\n",
       "      <td>[Earthy, Pungent, Sweet]</td>\n",
       "      <td>{'positive': ['Relaxed', 'Euphoric', 'Happy', ...</td>\n",
       "    </tr>\n",
       "    <tr>\n",
       "      <th>Zoom Pie</th>\n",
       "      <td>2161</td>\n",
       "      <td>indica</td>\n",
       "      <td>[Berry, Earthy, Pungent]</td>\n",
       "      <td>{'positive': ['Relaxed', 'Hungry', 'Happy', 'U...</td>\n",
       "    </tr>\n",
       "    <tr>\n",
       "      <th>ʻAlenuihāhā</th>\n",
       "      <td>2162</td>\n",
       "      <td>hybrid</td>\n",
       "      <td>[Sweet, Tropical, Pineapple]</td>\n",
       "      <td>{'positive': ['Euphoric', 'Happy', 'Creative',...</td>\n",
       "    </tr>\n",
       "  </tbody>\n",
       "</table>\n",
       "<p>1970 rows × 4 columns</p>\n",
       "</div>"
      ],
      "text/plain": [
       "                     id    race                          flavors  \\\n",
       "Afpak                 1  hybrid         [Earthy, Chemical, Pine]   \n",
       "African               2  sativa  [Spicy/Herbal, Pungent, Earthy]   \n",
       "Afternoon Delight     3  hybrid          [Pepper, Flowery, Pine]   \n",
       "Afwreck               4  hybrid          [Pine, Earthy, Flowery]   \n",
       "Agent Orange          5  hybrid          [Citrus, Orange, Sweet]   \n",
       "...                 ...     ...                              ...   \n",
       "Zeus OG            2158  hybrid            [Earthy, Woody, Pine]   \n",
       "Zkittlez           2159  indica            [Sweet, Berry, Grape]   \n",
       "Zombie OG          2160  indica         [Earthy, Pungent, Sweet]   \n",
       "Zoom Pie           2161  indica         [Berry, Earthy, Pungent]   \n",
       "ʻAlenuihāhā        2162  hybrid     [Sweet, Tropical, Pineapple]   \n",
       "\n",
       "                                                             effects  \n",
       "Afpak              {'positive': ['Relaxed', 'Hungry', 'Happy', 'S...  \n",
       "African            {'positive': ['Euphoric', 'Happy', 'Creative',...  \n",
       "Afternoon Delight  {'positive': ['Relaxed', 'Hungry', 'Euphoric',...  \n",
       "Afwreck            {'positive': ['Relaxed', 'Happy', 'Creative', ...  \n",
       "Agent Orange       {'positive': ['Relaxed', 'Euphoric', 'Happy', ...  \n",
       "...                                                              ...  \n",
       "Zeus OG            {'positive': ['Relaxed', 'Happy', 'Energetic',...  \n",
       "Zkittlez           {'positive': ['Relaxed', 'Euphoric', 'Happy', ...  \n",
       "Zombie OG          {'positive': ['Relaxed', 'Euphoric', 'Happy', ...  \n",
       "Zoom Pie           {'positive': ['Relaxed', 'Hungry', 'Happy', 'U...  \n",
       "ʻAlenuihāhā        {'positive': ['Euphoric', 'Happy', 'Creative',...  \n",
       "\n",
       "[1970 rows x 4 columns]"
      ]
     },
     "execution_count": 85,
     "metadata": {},
     "output_type": "execute_result"
    }
   ],
   "source": [
    "df1.head().T"
   ]
  },
  {
   "cell_type": "code",
   "execution_count": 86,
   "metadata": {},
   "outputs": [],
   "source": [
    "cannabis = df1.head().T"
   ]
  },
  {
   "cell_type": "code",
   "execution_count": 87,
   "metadata": {},
   "outputs": [
    {
     "data": {
      "text/html": [
       "<div>\n",
       "<style scoped>\n",
       "    .dataframe tbody tr th:only-of-type {\n",
       "        vertical-align: middle;\n",
       "    }\n",
       "\n",
       "    .dataframe tbody tr th {\n",
       "        vertical-align: top;\n",
       "    }\n",
       "\n",
       "    .dataframe thead th {\n",
       "        text-align: right;\n",
       "    }\n",
       "</style>\n",
       "<table border=\"1\" class=\"dataframe\">\n",
       "  <thead>\n",
       "    <tr style=\"text-align: right;\">\n",
       "      <th></th>\n",
       "      <th>id</th>\n",
       "      <th>race</th>\n",
       "      <th>flavors</th>\n",
       "      <th>effects</th>\n",
       "    </tr>\n",
       "  </thead>\n",
       "  <tbody>\n",
       "    <tr>\n",
       "      <th>Afpak</th>\n",
       "      <td>1</td>\n",
       "      <td>hybrid</td>\n",
       "      <td>[Earthy, Chemical, Pine]</td>\n",
       "      <td>{'positive': ['Relaxed', 'Hungry', 'Happy', 'S...</td>\n",
       "    </tr>\n",
       "    <tr>\n",
       "      <th>African</th>\n",
       "      <td>2</td>\n",
       "      <td>sativa</td>\n",
       "      <td>[Spicy/Herbal, Pungent, Earthy]</td>\n",
       "      <td>{'positive': ['Euphoric', 'Happy', 'Creative',...</td>\n",
       "    </tr>\n",
       "    <tr>\n",
       "      <th>Afternoon Delight</th>\n",
       "      <td>3</td>\n",
       "      <td>hybrid</td>\n",
       "      <td>[Pepper, Flowery, Pine]</td>\n",
       "      <td>{'positive': ['Relaxed', 'Hungry', 'Euphoric',...</td>\n",
       "    </tr>\n",
       "    <tr>\n",
       "      <th>Afwreck</th>\n",
       "      <td>4</td>\n",
       "      <td>hybrid</td>\n",
       "      <td>[Pine, Earthy, Flowery]</td>\n",
       "      <td>{'positive': ['Relaxed', 'Happy', 'Creative', ...</td>\n",
       "    </tr>\n",
       "    <tr>\n",
       "      <th>Agent Orange</th>\n",
       "      <td>5</td>\n",
       "      <td>hybrid</td>\n",
       "      <td>[Citrus, Orange, Sweet]</td>\n",
       "      <td>{'positive': ['Relaxed', 'Euphoric', 'Happy', ...</td>\n",
       "    </tr>\n",
       "  </tbody>\n",
       "</table>\n",
       "</div>"
      ],
      "text/plain": [
       "                  id    race                          flavors  \\\n",
       "Afpak              1  hybrid         [Earthy, Chemical, Pine]   \n",
       "African            2  sativa  [Spicy/Herbal, Pungent, Earthy]   \n",
       "Afternoon Delight  3  hybrid          [Pepper, Flowery, Pine]   \n",
       "Afwreck            4  hybrid          [Pine, Earthy, Flowery]   \n",
       "Agent Orange       5  hybrid          [Citrus, Orange, Sweet]   \n",
       "\n",
       "                                                             effects  \n",
       "Afpak              {'positive': ['Relaxed', 'Hungry', 'Happy', 'S...  \n",
       "African            {'positive': ['Euphoric', 'Happy', 'Creative',...  \n",
       "Afternoon Delight  {'positive': ['Relaxed', 'Hungry', 'Euphoric',...  \n",
       "Afwreck            {'positive': ['Relaxed', 'Happy', 'Creative', ...  \n",
       "Agent Orange       {'positive': ['Relaxed', 'Euphoric', 'Happy', ...  "
      ]
     },
     "execution_count": 87,
     "metadata": {},
     "output_type": "execute_result"
    }
   ],
   "source": [
    "cannabis.head()"
   ]
  },
  {
   "cell_type": "code",
   "execution_count": 88,
   "metadata": {},
   "outputs": [
    {
     "data": {
      "text/plain": [
       "{'positive': ['Relaxed', 'Euphoric', 'Happy', 'Uplifted', 'Sleepy'], 'negative': ['Dizzy', 'Dry Mouth', 'Paranoid', 'Dry Eyes', 'Anxious'], 'medical': ['Depression', 'Insomnia', 'Pain', 'Stress', 'Lack of Appetite']}     12\n",
       "{'positive': ['Relaxed', 'Hungry', 'Euphoric', 'Happy', 'Sleepy'], 'negative': ['Dizzy', 'Dry Mouth', 'Paranoid', 'Dry Eyes', 'Anxious'], 'medical': ['Depression', 'Insomnia', 'Pain', 'Stress', 'Lack of Appetite']}       10\n",
       "{'positive': ['Relaxed', 'Euphoric', 'Happy', 'Uplifted', 'Sleepy'], 'negative': ['Dizzy', 'Dry Mouth', 'Paranoid', 'Dry Eyes'], 'medical': ['Depression', 'Insomnia', 'Pain', 'Stress', 'Lack of Appetite', 'Headache']}     9\n",
       "{'positive': ['Relaxed', 'Hungry', 'Euphoric', 'Happy', 'Sleepy'], 'negative': ['Dizzy', 'Dry Mouth', 'Paranoid', 'Dry Eyes'], 'medical': ['Depression', 'Insomnia', 'Pain', 'Stress', 'Lack of Appetite', 'Headache']}       7\n",
       "{'positive': ['Relaxed', 'Euphoric', 'Happy', 'Uplifted', 'Sleepy'], 'negative': ['Dizzy', 'Dry Mouth', 'Paranoid', 'Dry Eyes'], 'medical': ['Depression', 'Insomnia', 'Pain', 'Stress', 'Headache', 'Muscle Spasms']}        6\n",
       "                                                                                                                                                                                                                             ..\n",
       "{'positive': ['Relaxed', 'Hungry', 'Sleepy', 'Giggly', 'Aroused'], 'negative': ['Dry Eyes'], 'medical': ['Insomnia', 'Pain', 'Stress', 'Nausea', 'Headaches']}                                                                1\n",
       "{'positive': ['Relaxed', 'Euphoric', 'Happy'], 'negative': ['Dry Mouth'], 'medical': ['Depression', 'Insomnia', 'Stress', 'Lack of Appetite', 'Headache', 'Headaches']}                                                       1\n",
       "{'positive': ['Relaxed', 'Hungry', 'Euphoric', 'Happy', 'Uplifted'], 'negative': ['Dizzy', 'Dry Mouth', 'Paranoid', 'Dry Eyes', 'Anxious'], 'medical': ['Depression', 'Insomnia', 'Pain', 'Stress', 'Muscle Spasms']}         1\n",
       "{'positive': ['Creative', 'Aroused'], 'negative': ['Dizzy', 'Dry Eyes', 'Anxious'], 'medical': ['Pain', 'Stress', 'Lack of Appetite', 'Nausea', 'Spasticity']}                                                                1\n",
       "{'positive': ['Relaxed', 'Euphoric', 'Happy', 'Uplifted', 'Sleepy'], 'negative': ['Dry Mouth'], 'medical': ['Depression', 'Insomnia', 'Stress', 'Headaches', 'Eye Pressure']}                                                 1\n",
       "Name: effects, Length: 1810, dtype: int64"
      ]
     },
     "execution_count": 88,
     "metadata": {},
     "output_type": "execute_result"
    }
   ],
   "source": [
    "cannabis['effects'].value_counts()"
   ]
  },
  {
   "cell_type": "code",
   "execution_count": 89,
   "metadata": {},
   "outputs": [
    {
     "data": {
      "text/plain": [
       "{'positive': ['Relaxed', 'Hungry', 'Happy', 'Sleepy'],\n",
       " 'negative': ['Dizzy'],\n",
       " 'medical': ['Depression', 'Insomnia', 'Pain', 'Stress', 'Lack of Appetite']}"
      ]
     },
     "execution_count": 89,
     "metadata": {},
     "output_type": "execute_result"
    }
   ],
   "source": [
    "cannabis['effects'][0]"
   ]
  },
  {
   "cell_type": "code",
   "execution_count": 90,
   "metadata": {},
   "outputs": [
    {
     "data": {
      "text/plain": [
       "['Earthy', 'Chemical', 'Pine']"
      ]
     },
     "execution_count": 90,
     "metadata": {},
     "output_type": "execute_result"
    }
   ],
   "source": [
    "cannabis['flavors'][0]"
   ]
  },
  {
   "cell_type": "code",
   "execution_count": 91,
   "metadata": {},
   "outputs": [],
   "source": [
    "# df2 = pd.read_json('http://strainapi.evanbusse.com/API_KEY/searchdata/effects')"
   ]
  },
  {
   "cell_type": "code",
   "execution_count": 92,
   "metadata": {},
   "outputs": [
    {
     "data": {
      "text/plain": [
       "id         object\n",
       "race       object\n",
       "flavors    object\n",
       "effects    object\n",
       "dtype: object"
      ]
     },
     "execution_count": 92,
     "metadata": {},
     "output_type": "execute_result"
    }
   ],
   "source": [
    "cannabis.dtypes"
   ]
  },
  {
   "cell_type": "code",
   "execution_count": 93,
   "metadata": {},
   "outputs": [
    {
     "data": {
      "text/plain": [
       "id         0\n",
       "race       0\n",
       "flavors    0\n",
       "effects    0\n",
       "dtype: int64"
      ]
     },
     "execution_count": 93,
     "metadata": {},
     "output_type": "execute_result"
    }
   ],
   "source": [
    "cannabis.isnull().sum()"
   ]
  },
  {
   "cell_type": "code",
   "execution_count": 95,
   "metadata": {},
   "outputs": [],
   "source": [
    "mydic = cannabis['effects'][0]"
   ]
  },
  {
   "cell_type": "code",
   "execution_count": 96,
   "metadata": {},
   "outputs": [
    {
     "data": {
      "text/plain": [
       "dict"
      ]
     },
     "execution_count": 96,
     "metadata": {},
     "output_type": "execute_result"
    }
   ],
   "source": [
    "type(mydic)"
   ]
  },
  {
   "cell_type": "code",
   "execution_count": 97,
   "metadata": {},
   "outputs": [],
   "source": [
    "mydic_str= str(mydic)"
   ]
  },
  {
   "cell_type": "code",
   "execution_count": 98,
   "metadata": {},
   "outputs": [
    {
     "data": {
      "text/plain": [
       "str"
      ]
     },
     "execution_count": 98,
     "metadata": {},
     "output_type": "execute_result"
    }
   ],
   "source": [
    "type(mydic_str)"
   ]
  },
  {
   "cell_type": "code",
   "execution_count": 99,
   "metadata": {},
   "outputs": [],
   "source": [
    "from pandas.io.json import json_normalize\n",
    "\n",
    "df2 = json_normalize(cannabis['effects'])"
   ]
  },
  {
   "cell_type": "code",
   "execution_count": 100,
   "metadata": {},
   "outputs": [
    {
     "data": {
      "text/html": [
       "<div>\n",
       "<style scoped>\n",
       "    .dataframe tbody tr th:only-of-type {\n",
       "        vertical-align: middle;\n",
       "    }\n",
       "\n",
       "    .dataframe tbody tr th {\n",
       "        vertical-align: top;\n",
       "    }\n",
       "\n",
       "    .dataframe thead th {\n",
       "        text-align: right;\n",
       "    }\n",
       "</style>\n",
       "<table border=\"1\" class=\"dataframe\">\n",
       "  <thead>\n",
       "    <tr style=\"text-align: right;\">\n",
       "      <th></th>\n",
       "      <th>positive</th>\n",
       "      <th>negative</th>\n",
       "      <th>medical</th>\n",
       "    </tr>\n",
       "  </thead>\n",
       "  <tbody>\n",
       "    <tr>\n",
       "      <th>0</th>\n",
       "      <td>[Relaxed, Hungry, Happy, Sleepy]</td>\n",
       "      <td>[Dizzy]</td>\n",
       "      <td>[Depression, Insomnia, Pain, Stress, Lack of A...</td>\n",
       "    </tr>\n",
       "    <tr>\n",
       "      <th>1</th>\n",
       "      <td>[Euphoric, Happy, Creative, Energetic, Talkative]</td>\n",
       "      <td>[Dry Mouth]</td>\n",
       "      <td>[Depression, Pain, Stress, Lack of Appetite, N...</td>\n",
       "    </tr>\n",
       "    <tr>\n",
       "      <th>2</th>\n",
       "      <td>[Relaxed, Hungry, Euphoric, Uplifted, Tingly]</td>\n",
       "      <td>[Dizzy, Dry Mouth, Paranoid]</td>\n",
       "      <td>[Depression, Insomnia, Pain, Stress, Cramps, H...</td>\n",
       "    </tr>\n",
       "    <tr>\n",
       "      <th>3</th>\n",
       "      <td>[Relaxed, Happy, Creative, Uplifted, Sleepy]</td>\n",
       "      <td>[Dizzy, Dry Mouth, Paranoid, Dry Eyes]</td>\n",
       "      <td>[Pain, Stress, Headache, Fatigue, Headaches, M...</td>\n",
       "    </tr>\n",
       "    <tr>\n",
       "      <th>4</th>\n",
       "      <td>[Relaxed, Euphoric, Happy, Energetic, Uplifted]</td>\n",
       "      <td>[Dizzy, Dry Mouth, Paranoid, Dry Eyes]</td>\n",
       "      <td>[Depression, Pain, Stress, Nausea, Headache, H...</td>\n",
       "    </tr>\n",
       "  </tbody>\n",
       "</table>\n",
       "</div>"
      ],
      "text/plain": [
       "                                            positive  \\\n",
       "0                   [Relaxed, Hungry, Happy, Sleepy]   \n",
       "1  [Euphoric, Happy, Creative, Energetic, Talkative]   \n",
       "2      [Relaxed, Hungry, Euphoric, Uplifted, Tingly]   \n",
       "3       [Relaxed, Happy, Creative, Uplifted, Sleepy]   \n",
       "4    [Relaxed, Euphoric, Happy, Energetic, Uplifted]   \n",
       "\n",
       "                                 negative  \\\n",
       "0                                 [Dizzy]   \n",
       "1                             [Dry Mouth]   \n",
       "2            [Dizzy, Dry Mouth, Paranoid]   \n",
       "3  [Dizzy, Dry Mouth, Paranoid, Dry Eyes]   \n",
       "4  [Dizzy, Dry Mouth, Paranoid, Dry Eyes]   \n",
       "\n",
       "                                             medical  \n",
       "0  [Depression, Insomnia, Pain, Stress, Lack of A...  \n",
       "1  [Depression, Pain, Stress, Lack of Appetite, N...  \n",
       "2  [Depression, Insomnia, Pain, Stress, Cramps, H...  \n",
       "3  [Pain, Stress, Headache, Fatigue, Headaches, M...  \n",
       "4  [Depression, Pain, Stress, Nausea, Headache, H...  "
      ]
     },
     "execution_count": 100,
     "metadata": {},
     "output_type": "execute_result"
    }
   ],
   "source": [
    "df2.head()"
   ]
  },
  {
   "cell_type": "code",
   "execution_count": 102,
   "metadata": {},
   "outputs": [
    {
     "data": {
      "text/plain": [
       "(1970, 3)"
      ]
     },
     "execution_count": 102,
     "metadata": {},
     "output_type": "execute_result"
    }
   ],
   "source": [
    "df2.shape"
   ]
  },
  {
   "cell_type": "code",
   "execution_count": 103,
   "metadata": {},
   "outputs": [
    {
     "data": {
      "text/html": [
       "<div>\n",
       "<style scoped>\n",
       "    .dataframe tbody tr th:only-of-type {\n",
       "        vertical-align: middle;\n",
       "    }\n",
       "\n",
       "    .dataframe tbody tr th {\n",
       "        vertical-align: top;\n",
       "    }\n",
       "\n",
       "    .dataframe thead th {\n",
       "        text-align: right;\n",
       "    }\n",
       "</style>\n",
       "<table border=\"1\" class=\"dataframe\">\n",
       "  <thead>\n",
       "    <tr style=\"text-align: right;\">\n",
       "      <th></th>\n",
       "      <th>positive</th>\n",
       "      <th>negative</th>\n",
       "      <th>medical</th>\n",
       "    </tr>\n",
       "  </thead>\n",
       "  <tbody>\n",
       "    <tr>\n",
       "      <th>0</th>\n",
       "      <td>[Relaxed, Hungry, Happy, Sleepy]</td>\n",
       "      <td>[Dizzy]</td>\n",
       "      <td>[Depression, Insomnia, Pain, Stress, Lack of A...</td>\n",
       "    </tr>\n",
       "    <tr>\n",
       "      <th>1</th>\n",
       "      <td>[Euphoric, Happy, Creative, Energetic, Talkative]</td>\n",
       "      <td>[Dry Mouth]</td>\n",
       "      <td>[Depression, Pain, Stress, Lack of Appetite, N...</td>\n",
       "    </tr>\n",
       "    <tr>\n",
       "      <th>2</th>\n",
       "      <td>[Relaxed, Hungry, Euphoric, Uplifted, Tingly]</td>\n",
       "      <td>[Dizzy, Dry Mouth, Paranoid]</td>\n",
       "      <td>[Depression, Insomnia, Pain, Stress, Cramps, H...</td>\n",
       "    </tr>\n",
       "    <tr>\n",
       "      <th>3</th>\n",
       "      <td>[Relaxed, Happy, Creative, Uplifted, Sleepy]</td>\n",
       "      <td>[Dizzy, Dry Mouth, Paranoid, Dry Eyes]</td>\n",
       "      <td>[Pain, Stress, Headache, Fatigue, Headaches, M...</td>\n",
       "    </tr>\n",
       "    <tr>\n",
       "      <th>4</th>\n",
       "      <td>[Relaxed, Euphoric, Happy, Energetic, Uplifted]</td>\n",
       "      <td>[Dizzy, Dry Mouth, Paranoid, Dry Eyes]</td>\n",
       "      <td>[Depression, Pain, Stress, Nausea, Headache, H...</td>\n",
       "    </tr>\n",
       "    <tr>\n",
       "      <th>...</th>\n",
       "      <td>...</td>\n",
       "      <td>...</td>\n",
       "      <td>...</td>\n",
       "    </tr>\n",
       "    <tr>\n",
       "      <th>1965</th>\n",
       "      <td>[Relaxed, Happy, Energetic, Uplifted, Focused]</td>\n",
       "      <td>[Dizzy, Dry Mouth, Paranoid, Dry Eyes]</td>\n",
       "      <td>[Depression, Insomnia, Pain, Stress, Fatigue]</td>\n",
       "    </tr>\n",
       "    <tr>\n",
       "      <th>1966</th>\n",
       "      <td>[Relaxed, Euphoric, Happy, Uplifted, Sleepy]</td>\n",
       "      <td>[Dizzy, Dry Mouth, Dry Eyes]</td>\n",
       "      <td>[Depression, Insomnia, Pain, Stress, Nausea, H...</td>\n",
       "    </tr>\n",
       "    <tr>\n",
       "      <th>1967</th>\n",
       "      <td>[Relaxed, Euphoric, Happy, Sleepy, Giggly]</td>\n",
       "      <td>[Dizzy, Dry Mouth, Paranoid, Dry Eyes]</td>\n",
       "      <td>[Depression, Insomnia, Pain, Stress, Lack of A...</td>\n",
       "    </tr>\n",
       "    <tr>\n",
       "      <th>1968</th>\n",
       "      <td>[Relaxed, Hungry, Happy, Uplifted, Giggly]</td>\n",
       "      <td>[]</td>\n",
       "      <td>[Insomnia, Pain, Cramps, Lack of Appetite, Mus...</td>\n",
       "    </tr>\n",
       "    <tr>\n",
       "      <th>1969</th>\n",
       "      <td>[Euphoric, Happy, Creative, Energetic, Aroused]</td>\n",
       "      <td>[Dizzy, Dry Mouth, Paranoid, Anxious]</td>\n",
       "      <td>[Depression, Stress, Fatigue]</td>\n",
       "    </tr>\n",
       "  </tbody>\n",
       "</table>\n",
       "<p>1970 rows × 3 columns</p>\n",
       "</div>"
      ],
      "text/plain": [
       "                                               positive  \\\n",
       "0                      [Relaxed, Hungry, Happy, Sleepy]   \n",
       "1     [Euphoric, Happy, Creative, Energetic, Talkative]   \n",
       "2         [Relaxed, Hungry, Euphoric, Uplifted, Tingly]   \n",
       "3          [Relaxed, Happy, Creative, Uplifted, Sleepy]   \n",
       "4       [Relaxed, Euphoric, Happy, Energetic, Uplifted]   \n",
       "...                                                 ...   \n",
       "1965     [Relaxed, Happy, Energetic, Uplifted, Focused]   \n",
       "1966       [Relaxed, Euphoric, Happy, Uplifted, Sleepy]   \n",
       "1967         [Relaxed, Euphoric, Happy, Sleepy, Giggly]   \n",
       "1968         [Relaxed, Hungry, Happy, Uplifted, Giggly]   \n",
       "1969    [Euphoric, Happy, Creative, Energetic, Aroused]   \n",
       "\n",
       "                                    negative  \\\n",
       "0                                    [Dizzy]   \n",
       "1                                [Dry Mouth]   \n",
       "2               [Dizzy, Dry Mouth, Paranoid]   \n",
       "3     [Dizzy, Dry Mouth, Paranoid, Dry Eyes]   \n",
       "4     [Dizzy, Dry Mouth, Paranoid, Dry Eyes]   \n",
       "...                                      ...   \n",
       "1965  [Dizzy, Dry Mouth, Paranoid, Dry Eyes]   \n",
       "1966            [Dizzy, Dry Mouth, Dry Eyes]   \n",
       "1967  [Dizzy, Dry Mouth, Paranoid, Dry Eyes]   \n",
       "1968                                      []   \n",
       "1969   [Dizzy, Dry Mouth, Paranoid, Anxious]   \n",
       "\n",
       "                                                medical  \n",
       "0     [Depression, Insomnia, Pain, Stress, Lack of A...  \n",
       "1     [Depression, Pain, Stress, Lack of Appetite, N...  \n",
       "2     [Depression, Insomnia, Pain, Stress, Cramps, H...  \n",
       "3     [Pain, Stress, Headache, Fatigue, Headaches, M...  \n",
       "4     [Depression, Pain, Stress, Nausea, Headache, H...  \n",
       "...                                                 ...  \n",
       "1965      [Depression, Insomnia, Pain, Stress, Fatigue]  \n",
       "1966  [Depression, Insomnia, Pain, Stress, Nausea, H...  \n",
       "1967  [Depression, Insomnia, Pain, Stress, Lack of A...  \n",
       "1968  [Insomnia, Pain, Cramps, Lack of Appetite, Mus...  \n",
       "1969                      [Depression, Stress, Fatigue]  \n",
       "\n",
       "[1970 rows x 3 columns]"
      ]
     },
     "execution_count": 103,
     "metadata": {},
     "output_type": "execute_result"
    }
   ],
   "source": [
    "df2"
   ]
  },
  {
   "cell_type": "code",
   "execution_count": 104,
   "metadata": {},
   "outputs": [],
   "source": [
    "df2.insert(0, 'id', range(1, 1 + len(df2)))"
   ]
  },
  {
   "cell_type": "code",
   "execution_count": 105,
   "metadata": {},
   "outputs": [
    {
     "data": {
      "text/html": [
       "<div>\n",
       "<style scoped>\n",
       "    .dataframe tbody tr th:only-of-type {\n",
       "        vertical-align: middle;\n",
       "    }\n",
       "\n",
       "    .dataframe tbody tr th {\n",
       "        vertical-align: top;\n",
       "    }\n",
       "\n",
       "    .dataframe thead th {\n",
       "        text-align: right;\n",
       "    }\n",
       "</style>\n",
       "<table border=\"1\" class=\"dataframe\">\n",
       "  <thead>\n",
       "    <tr style=\"text-align: right;\">\n",
       "      <th></th>\n",
       "      <th>id</th>\n",
       "      <th>positive</th>\n",
       "      <th>negative</th>\n",
       "      <th>medical</th>\n",
       "    </tr>\n",
       "  </thead>\n",
       "  <tbody>\n",
       "    <tr>\n",
       "      <th>0</th>\n",
       "      <td>1</td>\n",
       "      <td>[Relaxed, Hungry, Happy, Sleepy]</td>\n",
       "      <td>[Dizzy]</td>\n",
       "      <td>[Depression, Insomnia, Pain, Stress, Lack of A...</td>\n",
       "    </tr>\n",
       "    <tr>\n",
       "      <th>1</th>\n",
       "      <td>2</td>\n",
       "      <td>[Euphoric, Happy, Creative, Energetic, Talkative]</td>\n",
       "      <td>[Dry Mouth]</td>\n",
       "      <td>[Depression, Pain, Stress, Lack of Appetite, N...</td>\n",
       "    </tr>\n",
       "    <tr>\n",
       "      <th>2</th>\n",
       "      <td>3</td>\n",
       "      <td>[Relaxed, Hungry, Euphoric, Uplifted, Tingly]</td>\n",
       "      <td>[Dizzy, Dry Mouth, Paranoid]</td>\n",
       "      <td>[Depression, Insomnia, Pain, Stress, Cramps, H...</td>\n",
       "    </tr>\n",
       "    <tr>\n",
       "      <th>3</th>\n",
       "      <td>4</td>\n",
       "      <td>[Relaxed, Happy, Creative, Uplifted, Sleepy]</td>\n",
       "      <td>[Dizzy, Dry Mouth, Paranoid, Dry Eyes]</td>\n",
       "      <td>[Pain, Stress, Headache, Fatigue, Headaches, M...</td>\n",
       "    </tr>\n",
       "    <tr>\n",
       "      <th>4</th>\n",
       "      <td>5</td>\n",
       "      <td>[Relaxed, Euphoric, Happy, Energetic, Uplifted]</td>\n",
       "      <td>[Dizzy, Dry Mouth, Paranoid, Dry Eyes]</td>\n",
       "      <td>[Depression, Pain, Stress, Nausea, Headache, H...</td>\n",
       "    </tr>\n",
       "  </tbody>\n",
       "</table>\n",
       "</div>"
      ],
      "text/plain": [
       "   id                                           positive  \\\n",
       "0   1                   [Relaxed, Hungry, Happy, Sleepy]   \n",
       "1   2  [Euphoric, Happy, Creative, Energetic, Talkative]   \n",
       "2   3      [Relaxed, Hungry, Euphoric, Uplifted, Tingly]   \n",
       "3   4       [Relaxed, Happy, Creative, Uplifted, Sleepy]   \n",
       "4   5    [Relaxed, Euphoric, Happy, Energetic, Uplifted]   \n",
       "\n",
       "                                 negative  \\\n",
       "0                                 [Dizzy]   \n",
       "1                             [Dry Mouth]   \n",
       "2            [Dizzy, Dry Mouth, Paranoid]   \n",
       "3  [Dizzy, Dry Mouth, Paranoid, Dry Eyes]   \n",
       "4  [Dizzy, Dry Mouth, Paranoid, Dry Eyes]   \n",
       "\n",
       "                                             medical  \n",
       "0  [Depression, Insomnia, Pain, Stress, Lack of A...  \n",
       "1  [Depression, Pain, Stress, Lack of Appetite, N...  \n",
       "2  [Depression, Insomnia, Pain, Stress, Cramps, H...  \n",
       "3  [Pain, Stress, Headache, Fatigue, Headaches, M...  \n",
       "4  [Depression, Pain, Stress, Nausea, Headache, H...  "
      ]
     },
     "execution_count": 105,
     "metadata": {},
     "output_type": "execute_result"
    }
   ],
   "source": [
    "df2.head()"
   ]
  },
  {
   "cell_type": "code",
   "execution_count": 106,
   "metadata": {},
   "outputs": [],
   "source": [
    "result = pd.merge(cannabis, df2, on=['id'])"
   ]
  },
  {
   "cell_type": "code",
   "execution_count": 107,
   "metadata": {},
   "outputs": [
    {
     "data": {
      "text/html": [
       "<div>\n",
       "<style scoped>\n",
       "    .dataframe tbody tr th:only-of-type {\n",
       "        vertical-align: middle;\n",
       "    }\n",
       "\n",
       "    .dataframe tbody tr th {\n",
       "        vertical-align: top;\n",
       "    }\n",
       "\n",
       "    .dataframe thead th {\n",
       "        text-align: right;\n",
       "    }\n",
       "</style>\n",
       "<table border=\"1\" class=\"dataframe\">\n",
       "  <thead>\n",
       "    <tr style=\"text-align: right;\">\n",
       "      <th></th>\n",
       "      <th>id</th>\n",
       "      <th>race</th>\n",
       "      <th>flavors</th>\n",
       "      <th>effects</th>\n",
       "      <th>positive</th>\n",
       "      <th>negative</th>\n",
       "      <th>medical</th>\n",
       "    </tr>\n",
       "  </thead>\n",
       "  <tbody>\n",
       "    <tr>\n",
       "      <th>0</th>\n",
       "      <td>1</td>\n",
       "      <td>hybrid</td>\n",
       "      <td>[Earthy, Chemical, Pine]</td>\n",
       "      <td>{'positive': ['Relaxed', 'Hungry', 'Happy', 'S...</td>\n",
       "      <td>[Relaxed, Hungry, Happy, Sleepy]</td>\n",
       "      <td>[Dizzy]</td>\n",
       "      <td>[Depression, Insomnia, Pain, Stress, Lack of A...</td>\n",
       "    </tr>\n",
       "    <tr>\n",
       "      <th>1</th>\n",
       "      <td>2</td>\n",
       "      <td>sativa</td>\n",
       "      <td>[Spicy/Herbal, Pungent, Earthy]</td>\n",
       "      <td>{'positive': ['Euphoric', 'Happy', 'Creative',...</td>\n",
       "      <td>[Euphoric, Happy, Creative, Energetic, Talkative]</td>\n",
       "      <td>[Dry Mouth]</td>\n",
       "      <td>[Depression, Pain, Stress, Lack of Appetite, N...</td>\n",
       "    </tr>\n",
       "    <tr>\n",
       "      <th>2</th>\n",
       "      <td>3</td>\n",
       "      <td>hybrid</td>\n",
       "      <td>[Pepper, Flowery, Pine]</td>\n",
       "      <td>{'positive': ['Relaxed', 'Hungry', 'Euphoric',...</td>\n",
       "      <td>[Relaxed, Hungry, Euphoric, Uplifted, Tingly]</td>\n",
       "      <td>[Dizzy, Dry Mouth, Paranoid]</td>\n",
       "      <td>[Depression, Insomnia, Pain, Stress, Cramps, H...</td>\n",
       "    </tr>\n",
       "    <tr>\n",
       "      <th>3</th>\n",
       "      <td>4</td>\n",
       "      <td>hybrid</td>\n",
       "      <td>[Pine, Earthy, Flowery]</td>\n",
       "      <td>{'positive': ['Relaxed', 'Happy', 'Creative', ...</td>\n",
       "      <td>[Relaxed, Happy, Creative, Uplifted, Sleepy]</td>\n",
       "      <td>[Dizzy, Dry Mouth, Paranoid, Dry Eyes]</td>\n",
       "      <td>[Pain, Stress, Headache, Fatigue, Headaches, M...</td>\n",
       "    </tr>\n",
       "    <tr>\n",
       "      <th>4</th>\n",
       "      <td>5</td>\n",
       "      <td>hybrid</td>\n",
       "      <td>[Citrus, Orange, Sweet]</td>\n",
       "      <td>{'positive': ['Relaxed', 'Euphoric', 'Happy', ...</td>\n",
       "      <td>[Relaxed, Euphoric, Happy, Energetic, Uplifted]</td>\n",
       "      <td>[Dizzy, Dry Mouth, Paranoid, Dry Eyes]</td>\n",
       "      <td>[Depression, Pain, Stress, Nausea, Headache, H...</td>\n",
       "    </tr>\n",
       "  </tbody>\n",
       "</table>\n",
       "</div>"
      ],
      "text/plain": [
       "  id    race                          flavors  \\\n",
       "0  1  hybrid         [Earthy, Chemical, Pine]   \n",
       "1  2  sativa  [Spicy/Herbal, Pungent, Earthy]   \n",
       "2  3  hybrid          [Pepper, Flowery, Pine]   \n",
       "3  4  hybrid          [Pine, Earthy, Flowery]   \n",
       "4  5  hybrid          [Citrus, Orange, Sweet]   \n",
       "\n",
       "                                             effects  \\\n",
       "0  {'positive': ['Relaxed', 'Hungry', 'Happy', 'S...   \n",
       "1  {'positive': ['Euphoric', 'Happy', 'Creative',...   \n",
       "2  {'positive': ['Relaxed', 'Hungry', 'Euphoric',...   \n",
       "3  {'positive': ['Relaxed', 'Happy', 'Creative', ...   \n",
       "4  {'positive': ['Relaxed', 'Euphoric', 'Happy', ...   \n",
       "\n",
       "                                            positive  \\\n",
       "0                   [Relaxed, Hungry, Happy, Sleepy]   \n",
       "1  [Euphoric, Happy, Creative, Energetic, Talkative]   \n",
       "2      [Relaxed, Hungry, Euphoric, Uplifted, Tingly]   \n",
       "3       [Relaxed, Happy, Creative, Uplifted, Sleepy]   \n",
       "4    [Relaxed, Euphoric, Happy, Energetic, Uplifted]   \n",
       "\n",
       "                                 negative  \\\n",
       "0                                 [Dizzy]   \n",
       "1                             [Dry Mouth]   \n",
       "2            [Dizzy, Dry Mouth, Paranoid]   \n",
       "3  [Dizzy, Dry Mouth, Paranoid, Dry Eyes]   \n",
       "4  [Dizzy, Dry Mouth, Paranoid, Dry Eyes]   \n",
       "\n",
       "                                             medical  \n",
       "0  [Depression, Insomnia, Pain, Stress, Lack of A...  \n",
       "1  [Depression, Pain, Stress, Lack of Appetite, N...  \n",
       "2  [Depression, Insomnia, Pain, Stress, Cramps, H...  \n",
       "3  [Pain, Stress, Headache, Fatigue, Headaches, M...  \n",
       "4  [Depression, Pain, Stress, Nausea, Headache, H...  "
      ]
     },
     "execution_count": 107,
     "metadata": {},
     "output_type": "execute_result"
    }
   ],
   "source": [
    "result.head()"
   ]
  },
  {
   "cell_type": "code",
   "execution_count": 108,
   "metadata": {},
   "outputs": [
    {
     "data": {
      "text/plain": [
       "(1789, 7)"
      ]
     },
     "execution_count": 108,
     "metadata": {},
     "output_type": "execute_result"
    }
   ],
   "source": [
    "result.shape"
   ]
  },
  {
   "cell_type": "code",
   "execution_count": 109,
   "metadata": {},
   "outputs": [
    {
     "data": {
      "text/plain": [
       "list"
      ]
     },
     "execution_count": 109,
     "metadata": {},
     "output_type": "execute_result"
    }
   ],
   "source": [
    "type(result['flavors'][0])"
   ]
  },
  {
   "cell_type": "code",
   "execution_count": 110,
   "metadata": {},
   "outputs": [
    {
     "data": {
      "text/plain": [
       "list"
      ]
     },
     "execution_count": 110,
     "metadata": {},
     "output_type": "execute_result"
    }
   ],
   "source": [
    "type(result['positive'][0])"
   ]
  },
  {
   "cell_type": "code",
   "execution_count": 111,
   "metadata": {},
   "outputs": [
    {
     "data": {
      "text/plain": [
       "dict"
      ]
     },
     "execution_count": 111,
     "metadata": {},
     "output_type": "execute_result"
    }
   ],
   "source": [
    "type(result['effects'][0])"
   ]
  },
  {
   "cell_type": "code",
   "execution_count": 112,
   "metadata": {},
   "outputs": [
    {
     "data": {
      "text/html": [
       "<div>\n",
       "<style scoped>\n",
       "    .dataframe tbody tr th:only-of-type {\n",
       "        vertical-align: middle;\n",
       "    }\n",
       "\n",
       "    .dataframe tbody tr th {\n",
       "        vertical-align: top;\n",
       "    }\n",
       "\n",
       "    .dataframe thead th {\n",
       "        text-align: right;\n",
       "    }\n",
       "</style>\n",
       "<table border=\"1\" class=\"dataframe\">\n",
       "  <thead>\n",
       "    <tr style=\"text-align: right;\">\n",
       "      <th></th>\n",
       "      <th>count</th>\n",
       "      <th>unique</th>\n",
       "      <th>top</th>\n",
       "      <th>freq</th>\n",
       "    </tr>\n",
       "  </thead>\n",
       "  <tbody>\n",
       "    <tr>\n",
       "      <th>id</th>\n",
       "      <td>1789</td>\n",
       "      <td>1789</td>\n",
       "      <td>1970</td>\n",
       "      <td>1</td>\n",
       "    </tr>\n",
       "    <tr>\n",
       "      <th>race</th>\n",
       "      <td>1789</td>\n",
       "      <td>3</td>\n",
       "      <td>hybrid</td>\n",
       "      <td>908</td>\n",
       "    </tr>\n",
       "    <tr>\n",
       "      <th>flavors</th>\n",
       "      <td>1789</td>\n",
       "      <td>1077</td>\n",
       "      <td>[Earthy, Sweet, Pungent]</td>\n",
       "      <td>25</td>\n",
       "    </tr>\n",
       "    <tr>\n",
       "      <th>effects</th>\n",
       "      <td>1789</td>\n",
       "      <td>1653</td>\n",
       "      <td>{'positive': ['Relaxed', 'Euphoric', 'Happy', ...</td>\n",
       "      <td>10</td>\n",
       "    </tr>\n",
       "    <tr>\n",
       "      <th>positive</th>\n",
       "      <td>1789</td>\n",
       "      <td>451</td>\n",
       "      <td>[Relaxed, Euphoric, Happy, Creative, Uplifted]</td>\n",
       "      <td>114</td>\n",
       "    </tr>\n",
       "    <tr>\n",
       "      <th>negative</th>\n",
       "      <td>1789</td>\n",
       "      <td>32</td>\n",
       "      <td>[]</td>\n",
       "      <td>342</td>\n",
       "    </tr>\n",
       "    <tr>\n",
       "      <th>medical</th>\n",
       "      <td>1789</td>\n",
       "      <td>470</td>\n",
       "      <td>[Depression, Insomnia, Pain, Stress, Lack of A...</td>\n",
       "      <td>90</td>\n",
       "    </tr>\n",
       "  </tbody>\n",
       "</table>\n",
       "</div>"
      ],
      "text/plain": [
       "         count unique                                                top freq\n",
       "id        1789   1789                                               1970    1\n",
       "race      1789      3                                             hybrid  908\n",
       "flavors   1789   1077                           [Earthy, Sweet, Pungent]   25\n",
       "effects   1789   1653  {'positive': ['Relaxed', 'Euphoric', 'Happy', ...   10\n",
       "positive  1789    451     [Relaxed, Euphoric, Happy, Creative, Uplifted]  114\n",
       "negative  1789     32                                                 []  342\n",
       "medical   1789    470  [Depression, Insomnia, Pain, Stress, Lack of A...   90"
      ]
     },
     "execution_count": 112,
     "metadata": {},
     "output_type": "execute_result"
    }
   ],
   "source": [
    "result.describe().T"
   ]
  },
  {
   "cell_type": "code",
   "execution_count": 113,
   "metadata": {},
   "outputs": [
    {
     "data": {
      "text/html": [
       "<div>\n",
       "<style scoped>\n",
       "    .dataframe tbody tr th:only-of-type {\n",
       "        vertical-align: middle;\n",
       "    }\n",
       "\n",
       "    .dataframe tbody tr th {\n",
       "        vertical-align: top;\n",
       "    }\n",
       "\n",
       "    .dataframe thead th {\n",
       "        text-align: right;\n",
       "    }\n",
       "</style>\n",
       "<table border=\"1\" class=\"dataframe\">\n",
       "  <thead>\n",
       "    <tr style=\"text-align: right;\">\n",
       "      <th></th>\n",
       "      <th>name</th>\n",
       "    </tr>\n",
       "  </thead>\n",
       "  <tbody>\n",
       "    <tr>\n",
       "      <th>0</th>\n",
       "      <td>Afpak</td>\n",
       "    </tr>\n",
       "    <tr>\n",
       "      <th>1</th>\n",
       "      <td>African</td>\n",
       "    </tr>\n",
       "    <tr>\n",
       "      <th>2</th>\n",
       "      <td>Afternoon Delight</td>\n",
       "    </tr>\n",
       "    <tr>\n",
       "      <th>3</th>\n",
       "      <td>Afwreck</td>\n",
       "    </tr>\n",
       "    <tr>\n",
       "      <th>4</th>\n",
       "      <td>Agent Orange</td>\n",
       "    </tr>\n",
       "  </tbody>\n",
       "</table>\n",
       "</div>"
      ],
      "text/plain": [
       "                name\n",
       "0              Afpak\n",
       "1            African\n",
       "2  Afternoon Delight\n",
       "3            Afwreck\n",
       "4       Agent Orange"
      ]
     },
     "execution_count": 113,
     "metadata": {},
     "output_type": "execute_result"
    }
   ],
   "source": [
    "# name = pd.read_json('http://strainapi.evanbusse.com/API_KEY/strains/search/name/NAME')\n",
    "strain_names = pd.DataFrame(list(data.keys()), columns =['name'])\n",
    "strain_names.head()"
   ]
  },
  {
   "cell_type": "code",
   "execution_count": 114,
   "metadata": {},
   "outputs": [],
   "source": [
    "strain_names.insert(0, 'id', range(1, 1 + len(df2)))"
   ]
  },
  {
   "cell_type": "code",
   "execution_count": 115,
   "metadata": {},
   "outputs": [
    {
     "data": {
      "text/html": [
       "<div>\n",
       "<style scoped>\n",
       "    .dataframe tbody tr th:only-of-type {\n",
       "        vertical-align: middle;\n",
       "    }\n",
       "\n",
       "    .dataframe tbody tr th {\n",
       "        vertical-align: top;\n",
       "    }\n",
       "\n",
       "    .dataframe thead th {\n",
       "        text-align: right;\n",
       "    }\n",
       "</style>\n",
       "<table border=\"1\" class=\"dataframe\">\n",
       "  <thead>\n",
       "    <tr style=\"text-align: right;\">\n",
       "      <th></th>\n",
       "      <th>id</th>\n",
       "      <th>name</th>\n",
       "    </tr>\n",
       "  </thead>\n",
       "  <tbody>\n",
       "    <tr>\n",
       "      <th>0</th>\n",
       "      <td>1</td>\n",
       "      <td>Afpak</td>\n",
       "    </tr>\n",
       "    <tr>\n",
       "      <th>1</th>\n",
       "      <td>2</td>\n",
       "      <td>African</td>\n",
       "    </tr>\n",
       "    <tr>\n",
       "      <th>2</th>\n",
       "      <td>3</td>\n",
       "      <td>Afternoon Delight</td>\n",
       "    </tr>\n",
       "    <tr>\n",
       "      <th>3</th>\n",
       "      <td>4</td>\n",
       "      <td>Afwreck</td>\n",
       "    </tr>\n",
       "    <tr>\n",
       "      <th>4</th>\n",
       "      <td>5</td>\n",
       "      <td>Agent Orange</td>\n",
       "    </tr>\n",
       "  </tbody>\n",
       "</table>\n",
       "</div>"
      ],
      "text/plain": [
       "   id               name\n",
       "0   1              Afpak\n",
       "1   2            African\n",
       "2   3  Afternoon Delight\n",
       "3   4            Afwreck\n",
       "4   5       Agent Orange"
      ]
     },
     "execution_count": 115,
     "metadata": {},
     "output_type": "execute_result"
    }
   ],
   "source": [
    "strain_names.head()"
   ]
  },
  {
   "cell_type": "code",
   "execution_count": 147,
   "metadata": {},
   "outputs": [],
   "source": [
    "green = pd.merge(strain_names, result, on=['id'])"
   ]
  },
  {
   "cell_type": "code",
   "execution_count": 148,
   "metadata": {},
   "outputs": [
    {
     "data": {
      "text/html": [
       "<div>\n",
       "<style scoped>\n",
       "    .dataframe tbody tr th:only-of-type {\n",
       "        vertical-align: middle;\n",
       "    }\n",
       "\n",
       "    .dataframe tbody tr th {\n",
       "        vertical-align: top;\n",
       "    }\n",
       "\n",
       "    .dataframe thead th {\n",
       "        text-align: right;\n",
       "    }\n",
       "</style>\n",
       "<table border=\"1\" class=\"dataframe\">\n",
       "  <thead>\n",
       "    <tr style=\"text-align: right;\">\n",
       "      <th></th>\n",
       "      <th>id</th>\n",
       "      <th>name</th>\n",
       "      <th>race</th>\n",
       "      <th>flavors</th>\n",
       "      <th>effects</th>\n",
       "      <th>positive</th>\n",
       "      <th>negative</th>\n",
       "      <th>medical</th>\n",
       "    </tr>\n",
       "  </thead>\n",
       "  <tbody>\n",
       "    <tr>\n",
       "      <th>0</th>\n",
       "      <td>1</td>\n",
       "      <td>Afpak</td>\n",
       "      <td>hybrid</td>\n",
       "      <td>[Earthy, Chemical, Pine]</td>\n",
       "      <td>{'positive': ['Relaxed', 'Hungry', 'Happy', 'S...</td>\n",
       "      <td>[Relaxed, Hungry, Happy, Sleepy]</td>\n",
       "      <td>[Dizzy]</td>\n",
       "      <td>[Depression, Insomnia, Pain, Stress, Lack of A...</td>\n",
       "    </tr>\n",
       "    <tr>\n",
       "      <th>1</th>\n",
       "      <td>2</td>\n",
       "      <td>African</td>\n",
       "      <td>sativa</td>\n",
       "      <td>[Spicy/Herbal, Pungent, Earthy]</td>\n",
       "      <td>{'positive': ['Euphoric', 'Happy', 'Creative',...</td>\n",
       "      <td>[Euphoric, Happy, Creative, Energetic, Talkative]</td>\n",
       "      <td>[Dry Mouth]</td>\n",
       "      <td>[Depression, Pain, Stress, Lack of Appetite, N...</td>\n",
       "    </tr>\n",
       "    <tr>\n",
       "      <th>2</th>\n",
       "      <td>3</td>\n",
       "      <td>Afternoon Delight</td>\n",
       "      <td>hybrid</td>\n",
       "      <td>[Pepper, Flowery, Pine]</td>\n",
       "      <td>{'positive': ['Relaxed', 'Hungry', 'Euphoric',...</td>\n",
       "      <td>[Relaxed, Hungry, Euphoric, Uplifted, Tingly]</td>\n",
       "      <td>[Dizzy, Dry Mouth, Paranoid]</td>\n",
       "      <td>[Depression, Insomnia, Pain, Stress, Cramps, H...</td>\n",
       "    </tr>\n",
       "    <tr>\n",
       "      <th>3</th>\n",
       "      <td>4</td>\n",
       "      <td>Afwreck</td>\n",
       "      <td>hybrid</td>\n",
       "      <td>[Pine, Earthy, Flowery]</td>\n",
       "      <td>{'positive': ['Relaxed', 'Happy', 'Creative', ...</td>\n",
       "      <td>[Relaxed, Happy, Creative, Uplifted, Sleepy]</td>\n",
       "      <td>[Dizzy, Dry Mouth, Paranoid, Dry Eyes]</td>\n",
       "      <td>[Pain, Stress, Headache, Fatigue, Headaches, M...</td>\n",
       "    </tr>\n",
       "    <tr>\n",
       "      <th>4</th>\n",
       "      <td>5</td>\n",
       "      <td>Agent Orange</td>\n",
       "      <td>hybrid</td>\n",
       "      <td>[Citrus, Orange, Sweet]</td>\n",
       "      <td>{'positive': ['Relaxed', 'Euphoric', 'Happy', ...</td>\n",
       "      <td>[Relaxed, Euphoric, Happy, Energetic, Uplifted]</td>\n",
       "      <td>[Dizzy, Dry Mouth, Paranoid, Dry Eyes]</td>\n",
       "      <td>[Depression, Pain, Stress, Nausea, Headache, H...</td>\n",
       "    </tr>\n",
       "  </tbody>\n",
       "</table>\n",
       "</div>"
      ],
      "text/plain": [
       "  id               name    race                          flavors  \\\n",
       "0  1              Afpak  hybrid         [Earthy, Chemical, Pine]   \n",
       "1  2            African  sativa  [Spicy/Herbal, Pungent, Earthy]   \n",
       "2  3  Afternoon Delight  hybrid          [Pepper, Flowery, Pine]   \n",
       "3  4            Afwreck  hybrid          [Pine, Earthy, Flowery]   \n",
       "4  5       Agent Orange  hybrid          [Citrus, Orange, Sweet]   \n",
       "\n",
       "                                             effects  \\\n",
       "0  {'positive': ['Relaxed', 'Hungry', 'Happy', 'S...   \n",
       "1  {'positive': ['Euphoric', 'Happy', 'Creative',...   \n",
       "2  {'positive': ['Relaxed', 'Hungry', 'Euphoric',...   \n",
       "3  {'positive': ['Relaxed', 'Happy', 'Creative', ...   \n",
       "4  {'positive': ['Relaxed', 'Euphoric', 'Happy', ...   \n",
       "\n",
       "                                            positive  \\\n",
       "0                   [Relaxed, Hungry, Happy, Sleepy]   \n",
       "1  [Euphoric, Happy, Creative, Energetic, Talkative]   \n",
       "2      [Relaxed, Hungry, Euphoric, Uplifted, Tingly]   \n",
       "3       [Relaxed, Happy, Creative, Uplifted, Sleepy]   \n",
       "4    [Relaxed, Euphoric, Happy, Energetic, Uplifted]   \n",
       "\n",
       "                                 negative  \\\n",
       "0                                 [Dizzy]   \n",
       "1                             [Dry Mouth]   \n",
       "2            [Dizzy, Dry Mouth, Paranoid]   \n",
       "3  [Dizzy, Dry Mouth, Paranoid, Dry Eyes]   \n",
       "4  [Dizzy, Dry Mouth, Paranoid, Dry Eyes]   \n",
       "\n",
       "                                             medical  \n",
       "0  [Depression, Insomnia, Pain, Stress, Lack of A...  \n",
       "1  [Depression, Pain, Stress, Lack of Appetite, N...  \n",
       "2  [Depression, Insomnia, Pain, Stress, Cramps, H...  \n",
       "3  [Pain, Stress, Headache, Fatigue, Headaches, M...  \n",
       "4  [Depression, Pain, Stress, Nausea, Headache, H...  "
      ]
     },
     "execution_count": 148,
     "metadata": {},
     "output_type": "execute_result"
    }
   ],
   "source": [
    "green.head()"
   ]
  },
  {
   "cell_type": "code",
   "execution_count": 118,
   "metadata": {},
   "outputs": [],
   "source": [
    "ganja = green.negative.apply(pd.Series)\n",
    "ganja.columns = ['negative', 'negative1', 'negative2', 'negative3', 'negative4']"
   ]
  },
  {
   "cell_type": "code",
   "execution_count": 119,
   "metadata": {},
   "outputs": [
    {
     "data": {
      "text/html": [
       "<div>\n",
       "<style scoped>\n",
       "    .dataframe tbody tr th:only-of-type {\n",
       "        vertical-align: middle;\n",
       "    }\n",
       "\n",
       "    .dataframe tbody tr th {\n",
       "        vertical-align: top;\n",
       "    }\n",
       "\n",
       "    .dataframe thead th {\n",
       "        text-align: right;\n",
       "    }\n",
       "</style>\n",
       "<table border=\"1\" class=\"dataframe\">\n",
       "  <thead>\n",
       "    <tr style=\"text-align: right;\">\n",
       "      <th></th>\n",
       "      <th>negative</th>\n",
       "      <th>negative1</th>\n",
       "      <th>negative2</th>\n",
       "      <th>negative3</th>\n",
       "      <th>negative4</th>\n",
       "    </tr>\n",
       "  </thead>\n",
       "  <tbody>\n",
       "    <tr>\n",
       "      <th>0</th>\n",
       "      <td>Dizzy</td>\n",
       "      <td>NaN</td>\n",
       "      <td>NaN</td>\n",
       "      <td>NaN</td>\n",
       "      <td>NaN</td>\n",
       "    </tr>\n",
       "    <tr>\n",
       "      <th>1</th>\n",
       "      <td>Dry Mouth</td>\n",
       "      <td>NaN</td>\n",
       "      <td>NaN</td>\n",
       "      <td>NaN</td>\n",
       "      <td>NaN</td>\n",
       "    </tr>\n",
       "    <tr>\n",
       "      <th>2</th>\n",
       "      <td>Dizzy</td>\n",
       "      <td>Dry Mouth</td>\n",
       "      <td>Paranoid</td>\n",
       "      <td>NaN</td>\n",
       "      <td>NaN</td>\n",
       "    </tr>\n",
       "    <tr>\n",
       "      <th>3</th>\n",
       "      <td>Dizzy</td>\n",
       "      <td>Dry Mouth</td>\n",
       "      <td>Paranoid</td>\n",
       "      <td>Dry Eyes</td>\n",
       "      <td>NaN</td>\n",
       "    </tr>\n",
       "    <tr>\n",
       "      <th>4</th>\n",
       "      <td>Dizzy</td>\n",
       "      <td>Dry Mouth</td>\n",
       "      <td>Paranoid</td>\n",
       "      <td>Dry Eyes</td>\n",
       "      <td>NaN</td>\n",
       "    </tr>\n",
       "  </tbody>\n",
       "</table>\n",
       "</div>"
      ],
      "text/plain": [
       "    negative  negative1 negative2 negative3 negative4\n",
       "0      Dizzy        NaN       NaN       NaN       NaN\n",
       "1  Dry Mouth        NaN       NaN       NaN       NaN\n",
       "2      Dizzy  Dry Mouth  Paranoid       NaN       NaN\n",
       "3      Dizzy  Dry Mouth  Paranoid  Dry Eyes       NaN\n",
       "4      Dizzy  Dry Mouth  Paranoid  Dry Eyes       NaN"
      ]
     },
     "execution_count": 119,
     "metadata": {},
     "output_type": "execute_result"
    }
   ],
   "source": [
    "ganja.head()"
   ]
  },
  {
   "cell_type": "code",
   "execution_count": 143,
   "metadata": {},
   "outputs": [
    {
     "data": {
      "text/html": [
       "<div>\n",
       "<style scoped>\n",
       "    .dataframe tbody tr th:only-of-type {\n",
       "        vertical-align: middle;\n",
       "    }\n",
       "\n",
       "    .dataframe tbody tr th {\n",
       "        vertical-align: top;\n",
       "    }\n",
       "\n",
       "    .dataframe thead th {\n",
       "        text-align: right;\n",
       "    }\n",
       "</style>\n",
       "<table border=\"1\" class=\"dataframe\">\n",
       "  <thead>\n",
       "    <tr style=\"text-align: right;\">\n",
       "      <th></th>\n",
       "      <th>id</th>\n",
       "      <th>name</th>\n",
       "      <th>race</th>\n",
       "      <th>flavors</th>\n",
       "      <th>effects</th>\n",
       "      <th>positive</th>\n",
       "      <th>negative</th>\n",
       "      <th>medical</th>\n",
       "    </tr>\n",
       "  </thead>\n",
       "  <tbody>\n",
       "    <tr>\n",
       "      <th>0</th>\n",
       "      <td>1</td>\n",
       "      <td>Afpak</td>\n",
       "      <td>hybrid</td>\n",
       "      <td>[Earthy, Chemical, Pine]</td>\n",
       "      <td>{'positive': ['Relaxed', 'Hungry', 'Happy', 'S...</td>\n",
       "      <td>[Relaxed, Hungry, Happy, Sleepy]</td>\n",
       "      <td>[Dizzy]</td>\n",
       "      <td>[Depression, Insomnia, Pain, Stress, Lack of A...</td>\n",
       "    </tr>\n",
       "    <tr>\n",
       "      <th>1</th>\n",
       "      <td>2</td>\n",
       "      <td>African</td>\n",
       "      <td>sativa</td>\n",
       "      <td>[Spicy/Herbal, Pungent, Earthy]</td>\n",
       "      <td>{'positive': ['Euphoric', 'Happy', 'Creative',...</td>\n",
       "      <td>[Euphoric, Happy, Creative, Energetic, Talkative]</td>\n",
       "      <td>[Dry Mouth]</td>\n",
       "      <td>[Depression, Pain, Stress, Lack of Appetite, N...</td>\n",
       "    </tr>\n",
       "    <tr>\n",
       "      <th>2</th>\n",
       "      <td>3</td>\n",
       "      <td>Afternoon Delight</td>\n",
       "      <td>hybrid</td>\n",
       "      <td>[Pepper, Flowery, Pine]</td>\n",
       "      <td>{'positive': ['Relaxed', 'Hungry', 'Euphoric',...</td>\n",
       "      <td>[Relaxed, Hungry, Euphoric, Uplifted, Tingly]</td>\n",
       "      <td>[Dizzy, Dry Mouth, Paranoid]</td>\n",
       "      <td>[Depression, Insomnia, Pain, Stress, Cramps, H...</td>\n",
       "    </tr>\n",
       "    <tr>\n",
       "      <th>3</th>\n",
       "      <td>4</td>\n",
       "      <td>Afwreck</td>\n",
       "      <td>hybrid</td>\n",
       "      <td>[Pine, Earthy, Flowery]</td>\n",
       "      <td>{'positive': ['Relaxed', 'Happy', 'Creative', ...</td>\n",
       "      <td>[Relaxed, Happy, Creative, Uplifted, Sleepy]</td>\n",
       "      <td>[Dizzy, Dry Mouth, Paranoid, Dry Eyes]</td>\n",
       "      <td>[Pain, Stress, Headache, Fatigue, Headaches, M...</td>\n",
       "    </tr>\n",
       "    <tr>\n",
       "      <th>4</th>\n",
       "      <td>5</td>\n",
       "      <td>Agent Orange</td>\n",
       "      <td>hybrid</td>\n",
       "      <td>[Citrus, Orange, Sweet]</td>\n",
       "      <td>{'positive': ['Relaxed', 'Euphoric', 'Happy', ...</td>\n",
       "      <td>[Relaxed, Euphoric, Happy, Energetic, Uplifted]</td>\n",
       "      <td>[Dizzy, Dry Mouth, Paranoid, Dry Eyes]</td>\n",
       "      <td>[Depression, Pain, Stress, Nausea, Headache, H...</td>\n",
       "    </tr>\n",
       "    <tr>\n",
       "      <th>...</th>\n",
       "      <td>...</td>\n",
       "      <td>...</td>\n",
       "      <td>...</td>\n",
       "      <td>...</td>\n",
       "      <td>...</td>\n",
       "      <td>...</td>\n",
       "      <td>...</td>\n",
       "      <td>...</td>\n",
       "    </tr>\n",
       "    <tr>\n",
       "      <th>1784</th>\n",
       "      <td>1965</td>\n",
       "      <td>Zeta Sage</td>\n",
       "      <td>indica</td>\n",
       "      <td>[Earthy, Citrus, Pungent]</td>\n",
       "      <td>{'positive': ['Relaxed', 'Hungry', 'Euphoric',...</td>\n",
       "      <td>[Relaxed, Happy, Energetic, Uplifted, Focused]</td>\n",
       "      <td>[Dizzy]</td>\n",
       "      <td>[Depression, Pain, Stress, Lack of Appetite, N...</td>\n",
       "    </tr>\n",
       "    <tr>\n",
       "      <th>1785</th>\n",
       "      <td>1966</td>\n",
       "      <td>Zeus OG</td>\n",
       "      <td>hybrid</td>\n",
       "      <td>[Flowery, Berry, Sweet]</td>\n",
       "      <td>{'positive': ['Relaxed', 'Euphoric', 'Happy', ...</td>\n",
       "      <td>[Relaxed, Happy, Energetic, Uplifted, Focused]</td>\n",
       "      <td>[Dizzy, Dry Mouth, Paranoid, Dry Eyes]</td>\n",
       "      <td>[Depression, Insomnia, Pain, Stress, Fatigue]</td>\n",
       "    </tr>\n",
       "    <tr>\n",
       "      <th>1786</th>\n",
       "      <td>1968</td>\n",
       "      <td>Zombie OG</td>\n",
       "      <td>hybrid</td>\n",
       "      <td>[Grape, Skunk, Pungent]</td>\n",
       "      <td>{'positive': ['Euphoric', 'Happy', 'Creative',...</td>\n",
       "      <td>[Relaxed, Euphoric, Happy, Sleepy, Giggly]</td>\n",
       "      <td>[Dizzy, Dry Mouth, Paranoid, Dry Eyes]</td>\n",
       "      <td>[Depression, Insomnia, Pain, Stress, Lack of A...</td>\n",
       "    </tr>\n",
       "    <tr>\n",
       "      <th>1787</th>\n",
       "      <td>1969</td>\n",
       "      <td>Zoom Pie</td>\n",
       "      <td>indica</td>\n",
       "      <td>[Woody, Sweet, Earthy]</td>\n",
       "      <td>{'positive': ['Relaxed', 'Hungry', 'Euphoric',...</td>\n",
       "      <td>[Relaxed, Hungry, Happy, Uplifted, Giggly]</td>\n",
       "      <td>[]</td>\n",
       "      <td>[Insomnia, Pain, Cramps, Lack of Appetite, Mus...</td>\n",
       "    </tr>\n",
       "    <tr>\n",
       "      <th>1788</th>\n",
       "      <td>1970</td>\n",
       "      <td>ʻAlenuihāhā</td>\n",
       "      <td>indica</td>\n",
       "      <td>[Berry, Coffee, Pungent]</td>\n",
       "      <td>{'positive': ['Relaxed', 'Hungry', 'Euphoric',...</td>\n",
       "      <td>[Euphoric, Happy, Creative, Energetic, Aroused]</td>\n",
       "      <td>[Dizzy, Dry Mouth, Paranoid, Anxious]</td>\n",
       "      <td>[Depression, Stress, Fatigue]</td>\n",
       "    </tr>\n",
       "  </tbody>\n",
       "</table>\n",
       "<p>1789 rows × 8 columns</p>\n",
       "</div>"
      ],
      "text/plain": [
       "        id               name    race                          flavors  \\\n",
       "0        1              Afpak  hybrid         [Earthy, Chemical, Pine]   \n",
       "1        2            African  sativa  [Spicy/Herbal, Pungent, Earthy]   \n",
       "2        3  Afternoon Delight  hybrid          [Pepper, Flowery, Pine]   \n",
       "3        4            Afwreck  hybrid          [Pine, Earthy, Flowery]   \n",
       "4        5       Agent Orange  hybrid          [Citrus, Orange, Sweet]   \n",
       "...    ...                ...     ...                              ...   \n",
       "1784  1965          Zeta Sage  indica        [Earthy, Citrus, Pungent]   \n",
       "1785  1966            Zeus OG  hybrid          [Flowery, Berry, Sweet]   \n",
       "1786  1968          Zombie OG  hybrid          [Grape, Skunk, Pungent]   \n",
       "1787  1969           Zoom Pie  indica           [Woody, Sweet, Earthy]   \n",
       "1788  1970        ʻAlenuihāhā  indica         [Berry, Coffee, Pungent]   \n",
       "\n",
       "                                                effects  \\\n",
       "0     {'positive': ['Relaxed', 'Hungry', 'Happy', 'S...   \n",
       "1     {'positive': ['Euphoric', 'Happy', 'Creative',...   \n",
       "2     {'positive': ['Relaxed', 'Hungry', 'Euphoric',...   \n",
       "3     {'positive': ['Relaxed', 'Happy', 'Creative', ...   \n",
       "4     {'positive': ['Relaxed', 'Euphoric', 'Happy', ...   \n",
       "...                                                 ...   \n",
       "1784  {'positive': ['Relaxed', 'Hungry', 'Euphoric',...   \n",
       "1785  {'positive': ['Relaxed', 'Euphoric', 'Happy', ...   \n",
       "1786  {'positive': ['Euphoric', 'Happy', 'Creative',...   \n",
       "1787  {'positive': ['Relaxed', 'Hungry', 'Euphoric',...   \n",
       "1788  {'positive': ['Relaxed', 'Hungry', 'Euphoric',...   \n",
       "\n",
       "                                               positive  \\\n",
       "0                      [Relaxed, Hungry, Happy, Sleepy]   \n",
       "1     [Euphoric, Happy, Creative, Energetic, Talkative]   \n",
       "2         [Relaxed, Hungry, Euphoric, Uplifted, Tingly]   \n",
       "3          [Relaxed, Happy, Creative, Uplifted, Sleepy]   \n",
       "4       [Relaxed, Euphoric, Happy, Energetic, Uplifted]   \n",
       "...                                                 ...   \n",
       "1784     [Relaxed, Happy, Energetic, Uplifted, Focused]   \n",
       "1785     [Relaxed, Happy, Energetic, Uplifted, Focused]   \n",
       "1786         [Relaxed, Euphoric, Happy, Sleepy, Giggly]   \n",
       "1787         [Relaxed, Hungry, Happy, Uplifted, Giggly]   \n",
       "1788    [Euphoric, Happy, Creative, Energetic, Aroused]   \n",
       "\n",
       "                                    negative  \\\n",
       "0                                    [Dizzy]   \n",
       "1                                [Dry Mouth]   \n",
       "2               [Dizzy, Dry Mouth, Paranoid]   \n",
       "3     [Dizzy, Dry Mouth, Paranoid, Dry Eyes]   \n",
       "4     [Dizzy, Dry Mouth, Paranoid, Dry Eyes]   \n",
       "...                                      ...   \n",
       "1784                                 [Dizzy]   \n",
       "1785  [Dizzy, Dry Mouth, Paranoid, Dry Eyes]   \n",
       "1786  [Dizzy, Dry Mouth, Paranoid, Dry Eyes]   \n",
       "1787                                      []   \n",
       "1788   [Dizzy, Dry Mouth, Paranoid, Anxious]   \n",
       "\n",
       "                                                medical  \n",
       "0     [Depression, Insomnia, Pain, Stress, Lack of A...  \n",
       "1     [Depression, Pain, Stress, Lack of Appetite, N...  \n",
       "2     [Depression, Insomnia, Pain, Stress, Cramps, H...  \n",
       "3     [Pain, Stress, Headache, Fatigue, Headaches, M...  \n",
       "4     [Depression, Pain, Stress, Nausea, Headache, H...  \n",
       "...                                                 ...  \n",
       "1784  [Depression, Pain, Stress, Lack of Appetite, N...  \n",
       "1785      [Depression, Insomnia, Pain, Stress, Fatigue]  \n",
       "1786  [Depression, Insomnia, Pain, Stress, Lack of A...  \n",
       "1787  [Insomnia, Pain, Cramps, Lack of Appetite, Mus...  \n",
       "1788                      [Depression, Stress, Fatigue]  \n",
       "\n",
       "[1789 rows x 8 columns]"
      ]
     },
     "execution_count": 143,
     "metadata": {},
     "output_type": "execute_result"
    }
   ],
   "source": [
    "green"
   ]
  },
  {
   "cell_type": "code",
   "execution_count": 120,
   "metadata": {},
   "outputs": [
    {
     "data": {
      "text/html": [
       "<div>\n",
       "<style scoped>\n",
       "    .dataframe tbody tr th:only-of-type {\n",
       "        vertical-align: middle;\n",
       "    }\n",
       "\n",
       "    .dataframe tbody tr th {\n",
       "        vertical-align: top;\n",
       "    }\n",
       "\n",
       "    .dataframe thead th {\n",
       "        text-align: right;\n",
       "    }\n",
       "</style>\n",
       "<table border=\"1\" class=\"dataframe\">\n",
       "  <thead>\n",
       "    <tr style=\"text-align: right;\">\n",
       "      <th></th>\n",
       "      <th>count</th>\n",
       "      <th>unique</th>\n",
       "      <th>top</th>\n",
       "      <th>freq</th>\n",
       "    </tr>\n",
       "  </thead>\n",
       "  <tbody>\n",
       "    <tr>\n",
       "      <th>id</th>\n",
       "      <td>1789</td>\n",
       "      <td>1789</td>\n",
       "      <td>1970</td>\n",
       "      <td>1</td>\n",
       "    </tr>\n",
       "    <tr>\n",
       "      <th>name</th>\n",
       "      <td>1789</td>\n",
       "      <td>1789</td>\n",
       "      <td>Platinum OG</td>\n",
       "      <td>1</td>\n",
       "    </tr>\n",
       "    <tr>\n",
       "      <th>race</th>\n",
       "      <td>1789</td>\n",
       "      <td>3</td>\n",
       "      <td>hybrid</td>\n",
       "      <td>908</td>\n",
       "    </tr>\n",
       "    <tr>\n",
       "      <th>flavors</th>\n",
       "      <td>1789</td>\n",
       "      <td>1077</td>\n",
       "      <td>[Earthy, Sweet, Pungent]</td>\n",
       "      <td>25</td>\n",
       "    </tr>\n",
       "    <tr>\n",
       "      <th>effects</th>\n",
       "      <td>1789</td>\n",
       "      <td>1653</td>\n",
       "      <td>{'positive': ['Relaxed', 'Euphoric', 'Happy', ...</td>\n",
       "      <td>10</td>\n",
       "    </tr>\n",
       "    <tr>\n",
       "      <th>positive</th>\n",
       "      <td>1789</td>\n",
       "      <td>451</td>\n",
       "      <td>[Relaxed, Euphoric, Happy, Creative, Uplifted]</td>\n",
       "      <td>114</td>\n",
       "    </tr>\n",
       "    <tr>\n",
       "      <th>negative</th>\n",
       "      <td>1789</td>\n",
       "      <td>32</td>\n",
       "      <td>[]</td>\n",
       "      <td>342</td>\n",
       "    </tr>\n",
       "    <tr>\n",
       "      <th>medical</th>\n",
       "      <td>1789</td>\n",
       "      <td>470</td>\n",
       "      <td>[Depression, Insomnia, Pain, Stress, Lack of A...</td>\n",
       "      <td>90</td>\n",
       "    </tr>\n",
       "  </tbody>\n",
       "</table>\n",
       "</div>"
      ],
      "text/plain": [
       "         count unique                                                top freq\n",
       "id        1789   1789                                               1970    1\n",
       "name      1789   1789                                        Platinum OG    1\n",
       "race      1789      3                                             hybrid  908\n",
       "flavors   1789   1077                           [Earthy, Sweet, Pungent]   25\n",
       "effects   1789   1653  {'positive': ['Relaxed', 'Euphoric', 'Happy', ...   10\n",
       "positive  1789    451     [Relaxed, Euphoric, Happy, Creative, Uplifted]  114\n",
       "negative  1789     32                                                 []  342\n",
       "medical   1789    470  [Depression, Insomnia, Pain, Stress, Lack of A...   90"
      ]
     },
     "execution_count": 120,
     "metadata": {},
     "output_type": "execute_result"
    }
   ],
   "source": [
    "green.describe().T"
   ]
  },
  {
   "cell_type": "code",
   "execution_count": 121,
   "metadata": {},
   "outputs": [
    {
     "data": {
      "text/plain": [
       "list"
      ]
     },
     "execution_count": 121,
     "metadata": {},
     "output_type": "execute_result"
    }
   ],
   "source": [
    "type(green['medical'][0])"
   ]
  },
  {
   "cell_type": "code",
   "execution_count": 149,
   "metadata": {},
   "outputs": [
    {
     "name": "stdout",
     "output_type": "stream",
     "text": [
      "DepressionInsomniaPainStressLack of Appetite\n"
     ]
    }
   ],
   "source": [
    "green['medical'][0]= ''.join(map(str, green['medical'][0]))\n",
    "print(green['medical'][0])"
   ]
  },
  {
   "cell_type": "code",
   "execution_count": 150,
   "metadata": {},
   "outputs": [],
   "source": [
    "def list_to_string(x):\n",
    "    x = ''.join(map(str, x))\n",
    "    return x\n",
    "    "
   ]
  },
  {
   "cell_type": "code",
   "execution_count": 154,
   "metadata": {},
   "outputs": [
    {
     "data": {
      "text/plain": [
       "'DepressionInsomniaPainStressLack of Appetite'"
      ]
     },
     "execution_count": 154,
     "metadata": {},
     "output_type": "execute_result"
    }
   ],
   "source": [
    "list_to_string(green['medical'][0])"
   ]
  },
  {
   "cell_type": "code",
   "execution_count": 155,
   "metadata": {},
   "outputs": [
    {
     "data": {
      "text/plain": [
       "'DepressionInsomniaPainStressLack of Appetite'"
      ]
     },
     "execution_count": 155,
     "metadata": {},
     "output_type": "execute_result"
    }
   ],
   "source": [
    "green['medical'][0]"
   ]
  },
  {
   "cell_type": "code",
   "execution_count": null,
   "metadata": {},
   "outputs": [],
   "source": []
  },
  {
   "cell_type": "code",
   "execution_count": null,
   "metadata": {},
   "outputs": [],
   "source": []
  },
  {
   "cell_type": "code",
   "execution_count": null,
   "metadata": {},
   "outputs": [],
   "source": []
  },
  {
   "cell_type": "code",
   "execution_count": 125,
   "metadata": {},
   "outputs": [],
   "source": [
    "green['medical_str'] = green['medical'].apply(list_to_string)"
   ]
  },
  {
   "cell_type": "code",
   "execution_count": 62,
   "metadata": {},
   "outputs": [
    {
     "data": {
      "text/plain": [
       "0       ['Depression', 'Insomnia', 'Pain', 'Stress', '...\n",
       "1       ['Depression', 'Pain', 'Stress', 'Lack of Appe...\n",
       "2       ['Depression', 'Insomnia', 'Pain', 'Stress', '...\n",
       "3       ['Pain', 'Stress', 'Headache', 'Fatigue', 'Hea...\n",
       "4       ['Depression', 'Pain', 'Stress', 'Nausea', 'He...\n",
       "                              ...                        \n",
       "1784    ['Depression', 'Pain', 'Stress', 'Lack of Appe...\n",
       "1785    ['Depression', 'Insomnia', 'Pain', 'Stress', '...\n",
       "1786    ['Depression', 'Insomnia', 'Pain', 'Stress', '...\n",
       "1787    ['Insomnia', 'Pain', 'Cramps', 'Lack of Appeti...\n",
       "1788                  ['Depression', 'Stress', 'Fatigue']\n",
       "Name: medical, Length: 1789, dtype: object"
      ]
     },
     "execution_count": 62,
     "metadata": {},
     "output_type": "execute_result"
    }
   ],
   "source": [
    "# green.medical.apply(str)"
   ]
  },
  {
   "cell_type": "code",
   "execution_count": 70,
   "metadata": {},
   "outputs": [
    {
     "data": {
      "text/plain": [
       "pandas.core.series.Series"
      ]
     },
     "execution_count": 70,
     "metadata": {},
     "output_type": "execute_result"
    }
   ],
   "source": [
    "type(green['medical'])"
   ]
  },
  {
   "cell_type": "code",
   "execution_count": 126,
   "metadata": {},
   "outputs": [
    {
     "data": {
      "text/plain": [
       "pandas.core.series.Series"
      ]
     },
     "execution_count": 126,
     "metadata": {},
     "output_type": "execute_result"
    }
   ],
   "source": [
    "type(green['medical_str'])"
   ]
  },
  {
   "cell_type": "code",
   "execution_count": 128,
   "metadata": {},
   "outputs": [
    {
     "ename": "TypeError",
     "evalue": "Argument 'string' has incorrect type (expected str, got Series)",
     "output_type": "error",
     "traceback": [
      "\u001b[0;31m---------------------------------------------------------------------------\u001b[0m",
      "\u001b[0;31mTypeError\u001b[0m                                 Traceback (most recent call last)",
      "\u001b[0;32m<ipython-input-128-115b27c25cea>\u001b[0m in \u001b[0;36m<module>\u001b[0;34m\u001b[0m\n\u001b[0;32m----> 1\u001b[0;31m \u001b[0mdoc\u001b[0m \u001b[0;34m=\u001b[0m \u001b[0mnlp\u001b[0m\u001b[0;34m(\u001b[0m\u001b[0mgreen\u001b[0m\u001b[0;34m[\u001b[0m\u001b[0;34m'medical_str'\u001b[0m\u001b[0;34m]\u001b[0m\u001b[0;34m)\u001b[0m\u001b[0;34m\u001b[0m\u001b[0;34m\u001b[0m\u001b[0m\n\u001b[0m\u001b[1;32m      2\u001b[0m \u001b[0mprint\u001b[0m\u001b[0;34m(\u001b[0m\u001b[0;34m[\u001b[0m\u001b[0mtoken\u001b[0m\u001b[0;34m.\u001b[0m\u001b[0mlemma_\u001b[0m \u001b[0;32mfor\u001b[0m \u001b[0mtoken\u001b[0m \u001b[0;32min\u001b[0m \u001b[0mdoc\u001b[0m \u001b[0;32mif\u001b[0m \u001b[0;34m(\u001b[0m\u001b[0mtoken\u001b[0m\u001b[0;34m.\u001b[0m\u001b[0mis_stop\u001b[0m \u001b[0;34m!=\u001b[0m\u001b[0;32mTrue\u001b[0m\u001b[0;34m)\u001b[0m \u001b[0;32mand\u001b[0m \u001b[0;34m(\u001b[0m\u001b[0mtoken\u001b[0m\u001b[0;34m.\u001b[0m\u001b[0mis_punct\u001b[0m \u001b[0;34m!=\u001b[0m\u001b[0;32mTrue\u001b[0m\u001b[0;34m)\u001b[0m\u001b[0;34m]\u001b[0m\u001b[0;34m)\u001b[0m\u001b[0;34m\u001b[0m\u001b[0;34m\u001b[0m\u001b[0m\n",
      "\u001b[0;32m~/opt/anaconda3/lib/python3.7/site-packages/spacy/language.py\u001b[0m in \u001b[0;36m__call__\u001b[0;34m(self, text, disable, component_cfg)\u001b[0m\n\u001b[1;32m    425\u001b[0m                 \u001b[0mErrors\u001b[0m\u001b[0;34m.\u001b[0m\u001b[0mE088\u001b[0m\u001b[0;34m.\u001b[0m\u001b[0mformat\u001b[0m\u001b[0;34m(\u001b[0m\u001b[0mlength\u001b[0m\u001b[0;34m=\u001b[0m\u001b[0mlen\u001b[0m\u001b[0;34m(\u001b[0m\u001b[0mtext\u001b[0m\u001b[0;34m)\u001b[0m\u001b[0;34m,\u001b[0m \u001b[0mmax_length\u001b[0m\u001b[0;34m=\u001b[0m\u001b[0mself\u001b[0m\u001b[0;34m.\u001b[0m\u001b[0mmax_length\u001b[0m\u001b[0;34m)\u001b[0m\u001b[0;34m\u001b[0m\u001b[0;34m\u001b[0m\u001b[0m\n\u001b[1;32m    426\u001b[0m             )\n\u001b[0;32m--> 427\u001b[0;31m         \u001b[0mdoc\u001b[0m \u001b[0;34m=\u001b[0m \u001b[0mself\u001b[0m\u001b[0;34m.\u001b[0m\u001b[0mmake_doc\u001b[0m\u001b[0;34m(\u001b[0m\u001b[0mtext\u001b[0m\u001b[0;34m)\u001b[0m\u001b[0;34m\u001b[0m\u001b[0;34m\u001b[0m\u001b[0m\n\u001b[0m\u001b[1;32m    428\u001b[0m         \u001b[0;32mif\u001b[0m \u001b[0mcomponent_cfg\u001b[0m \u001b[0;32mis\u001b[0m \u001b[0;32mNone\u001b[0m\u001b[0;34m:\u001b[0m\u001b[0;34m\u001b[0m\u001b[0;34m\u001b[0m\u001b[0m\n\u001b[1;32m    429\u001b[0m             \u001b[0mcomponent_cfg\u001b[0m \u001b[0;34m=\u001b[0m \u001b[0;34m{\u001b[0m\u001b[0;34m}\u001b[0m\u001b[0;34m\u001b[0m\u001b[0;34m\u001b[0m\u001b[0m\n",
      "\u001b[0;32m~/opt/anaconda3/lib/python3.7/site-packages/spacy/language.py\u001b[0m in \u001b[0;36mmake_doc\u001b[0;34m(self, text)\u001b[0m\n\u001b[1;32m    451\u001b[0m \u001b[0;34m\u001b[0m\u001b[0m\n\u001b[1;32m    452\u001b[0m     \u001b[0;32mdef\u001b[0m \u001b[0mmake_doc\u001b[0m\u001b[0;34m(\u001b[0m\u001b[0mself\u001b[0m\u001b[0;34m,\u001b[0m \u001b[0mtext\u001b[0m\u001b[0;34m)\u001b[0m\u001b[0;34m:\u001b[0m\u001b[0;34m\u001b[0m\u001b[0;34m\u001b[0m\u001b[0m\n\u001b[0;32m--> 453\u001b[0;31m         \u001b[0;32mreturn\u001b[0m \u001b[0mself\u001b[0m\u001b[0;34m.\u001b[0m\u001b[0mtokenizer\u001b[0m\u001b[0;34m(\u001b[0m\u001b[0mtext\u001b[0m\u001b[0;34m)\u001b[0m\u001b[0;34m\u001b[0m\u001b[0;34m\u001b[0m\u001b[0m\n\u001b[0m\u001b[1;32m    454\u001b[0m \u001b[0;34m\u001b[0m\u001b[0m\n\u001b[1;32m    455\u001b[0m     \u001b[0;32mdef\u001b[0m \u001b[0m_format_docs_and_golds\u001b[0m\u001b[0;34m(\u001b[0m\u001b[0mself\u001b[0m\u001b[0;34m,\u001b[0m \u001b[0mdocs\u001b[0m\u001b[0;34m,\u001b[0m \u001b[0mgolds\u001b[0m\u001b[0;34m)\u001b[0m\u001b[0;34m:\u001b[0m\u001b[0;34m\u001b[0m\u001b[0;34m\u001b[0m\u001b[0m\n",
      "\u001b[0;31mTypeError\u001b[0m: Argument 'string' has incorrect type (expected str, got Series)"
     ]
    }
   ],
   "source": [
    "doc = nlp(green['medical_str'])\n",
    "print([token.lemma_ for token in doc if (token.is_stop !=True) and (token.is_punct !=True)])"
   ]
  },
  {
   "cell_type": "code",
   "execution_count": 71,
   "metadata": {},
   "outputs": [],
   "source": [
    "vect = CountVectorizer()"
   ]
  },
  {
   "cell_type": "code",
   "execution_count": 72,
   "metadata": {},
   "outputs": [
    {
     "data": {
      "text/plain": [
       "CountVectorizer(analyzer='word', binary=False, decode_error='strict',\n",
       "                dtype=<class 'numpy.int64'>, encoding='utf-8', input='content',\n",
       "                lowercase=True, max_df=1.0, max_features=None, min_df=1,\n",
       "                ngram_range=(1, 1), preprocessor=None, stop_words=None,\n",
       "                strip_accents=None, token_pattern='(?u)\\\\b\\\\w\\\\w+\\\\b',\n",
       "                tokenizer=None, vocabulary=None)"
      ]
     },
     "execution_count": 72,
     "metadata": {},
     "output_type": "execute_result"
    }
   ],
   "source": [
    "vect.fit(green['medical'])"
   ]
  },
  {
   "cell_type": "code",
   "execution_count": 73,
   "metadata": {},
   "outputs": [],
   "source": [
    "dtm = vect.transform(green['medical'])"
   ]
  },
  {
   "cell_type": "code",
   "execution_count": 74,
   "metadata": {},
   "outputs": [
    {
     "name": "stdout",
     "output_type": "stream",
     "text": [
      "['appetite', 'appetiteeye', 'appetitefatigue', 'appetitefatigueeye', 'appetitefatigueheadaches', 'appetitefatigueheadacheseye', 'appetitefatigueheadachesinflammation', 'appetitefatigueheadachesmuscle', 'appetitefatigueinflammation', 'appetitefatiguemuscle', 'appetitefatiguespasticity', 'appetitefatiguespasticitymuscle', 'appetiteheadache', 'appetiteheadacheeye', 'appetiteheadachefatigue', 'appetiteheadachefatigueeye', 'appetiteheadachefatigueheadaches', 'appetiteheadachefatiguemuscle', 'appetiteheadacheheadaches', 'appetiteheadacheheadacheseye', 'appetiteheadacheheadachesinflammation', 'appetiteheadacheheadachesmuscle', 'appetiteheadacheinflammation', 'appetiteheadacheinflammationmuscle', 'appetiteheadachemuscle', 'appetiteheadaches', 'appetiteheadacheseye', 'appetiteheadachesinflammation', 'appetiteheadachesinflammationmuscle', 'appetiteheadachesmuscle', 'appetiteheadachespasticity', 'appetiteheadachesseizures', 'appetiteheadachesspasticity', 'appetiteinflammation', 'appetiteinflammationmuscle', 'appetiteinflammationseizuresmuscle', 'appetiteinflammationspasticity', 'appetitemuscle', 'appetitenausea', 'appetitenauseaeye', 'appetitenauseafatigue', 'appetitenauseafatigueeye', 'appetitenauseafatigueheadaches', 'appetitenauseafatigueheadacheseye', 'appetitenauseafatiguemuscle', 'appetitenauseaheadache', 'appetitenauseaheadachefatigue', 'appetitenauseaheadachefatigueheadaches', 'appetitenauseaheadacheheadaches', 'appetitenauseaheadacheinflammation', 'appetitenauseaheadaches', 'appetitenauseaheadachesinflammation', 'appetitenauseainflammation', 'appetitenauseamuscle', 'appetitenauseaspasticity', 'appetitespasticity', 'appetitespasticitymuscle', 'crampslack', 'depressioncrampsfatigue', 'depressioncrampsfatigueheadacheseye', 'depressioncrampsfatigueheadachesinflammation', 'depressioncrampsnauseafatigue', 'depressionfatigue', 'depressionfatigueheadacheseye', 'depressionfatigueheadachesinflammationmuscle', 'depressionheadache', 'depressioninflammation', 'depressioninflammationmuscle', 'depressioninsomniacrampsfatigueeye', 'depressioninsomniacrampsfatigueheadaches', 'depressioninsomniacrampsheadacheseye', 'depressioninsomniacrampsinflammationmuscle', 'depressioninsomniacrampslack', 'depressioninsomniaeye', 'depressioninsomniafatigueinflammationmuscle', 'depressioninsomnialack', 'depressioninsomnianauseafatigueheadaches', 'depressioninsomnianauseafatigueinflammation', 'depressioninsomniapain', 'depressioninsomniapaincrampslack', 'depressioninsomniapaineye', 'depressioninsomniapainfatigueheadaches', 'depressioninsomniapainfatigueinflammation', 'depressioninsomniapainheadachefatiguemuscle', 'depressioninsomniapainheadachesmuscle', 'depressioninsomniapaininflammationmuscle', 'depressioninsomniapainlack', 'depressioninsomniapainnauseafatigue', 'depressioninsomniapainnauseaheadacheeye', 'depressioninsomniapainnauseaheadacheheadaches', 'depressioninsomniapainnauseaheadaches', 'depressioninsomniapainnauseainflammation', 'depressioninsomniapainnauseamuscle', 'depressioninsomniapainstress', 'depressioninsomniapainstresscramps', 'depressioninsomniapainstresscrampsheadache', 'depressioninsomniapainstresseye', 'depressioninsomniapainstressfatigue', 'depressioninsomniapainstressheadache', 'depressioninsomniapainstressheadacheeye', 'depressioninsomniapainstressheadachefatigue', 'depressioninsomniapainstressheadacheheadaches', 'depressioninsomniapainstressheadacheinflammation', 'depressioninsomniapainstressheadachemuscle', 'depressioninsomniapainstressheadaches', 'depressioninsomniapainstressheadachespasticity', 'depressioninsomniapainstressinflammation', 'depressioninsomniapainstresslack', 'depressioninsomniapainstressmuscle', 'depressioninsomniapainstressnausea', 'depressioninsomniapainstressnauseaheadache', 'depressioninsomniapainstressseizures', 'depressioninsomniapainstressspasticity', 'depressioninsomniastress', 'depressioninsomniastresscrampseye', 'depressioninsomniastresscrampsfatigue', 'depressioninsomniastresscrampsheadaches', 'depressioninsomniastresscrampsinflammation', 'depressioninsomniastresscrampslack', 'depressioninsomniastresscrampsnausea', 'depressioninsomniastresseye', 'depressioninsomniastressfatigue', 'depressioninsomniastressfatigueheadaches', 'depressioninsomniastressfatiguemuscle', 'depressioninsomniastressheadachefatigueeye', 'depressioninsomniastressheadachefatigueheadaches', 'depressioninsomniastressheadachefatiguemuscle', 'depressioninsomniastressheadacheseye', 'depressioninsomniastressheadachesinflammation', 'depressioninsomniastressheadachesmuscle', 'depressioninsomniastressinflammationspasticity', 'depressioninsomniastresslack', 'depressioninsomniastressmuscle', 'depressioninsomniastressnausea', 'depressioninsomniastressnauseaeye', 'depressioninsomniastressnauseafatigue', 'depressioninsomniastressnauseaheadachefatigue', 'depressioninsomniastressnauseaheadacheheadaches', 'depressioninsomniastressnauseaheadaches', 'depressionlack', 'depressionnauseafatigueheadachesinflammation', 'depressionpain', 'depressionpaincrampsfatigueinflammation', 'depressionpaincrampsinflammation', 'depressionpaincrampslack', 'depressionpaincrampsnauseaheadachemuscle', 'depressionpaincrampsnauseaheadaches', 'depressionpaincrampsnauseainflammation', 'depressionpaineye', 'depressionpainfatigueheadachesinflammation', 'depressionpainfatigueheadachesmuscle', 'depressionpainfatigueinflammationmuscle', 'depressionpainheadaches', 'depressionpainheadachesinflammationmuscle', 'depressionpainlack', 'depressionpainnauseaeye', 'depressionpainnauseafatigueheadaches', 'depressionpainnauseaheadachefatigue', 'depressionpainseizuresmuscle', 'depressionpainstress', 'depressionpainstresscramps', 'depressionpainstresscrampsfatigue', 'depressionpainstresscrampsheadachefatigue', 'depressionpainstresscrampsheadacheinflammation', 'depressionpainstresscrampsheadaches', 'depressionpainstresscrampsinflammation', 'depressionpainstresscrampslack', 'depressionpainstresscrampsmuscle', 'depressionpainstresscrampsnausea', 'depressionpainstresscrampsnauseaheadache', 'depressionpainstresseye', 'depressionpainstressfatigue', 'depressionpainstressfatigueeye', 'depressionpainstressfatigueheadaches', 'depressionpainstressfatigueinflammation', 'depressionpainstressfatiguemuscle', 'depressionpainstressfatigueseizures', 'depressionpainstressheadache', 'depressionpainstressheadacheeye', 'depressionpainstressheadachefatigueeye', 'depressionpainstressheadachefatigueheadaches', 'depressionpainstressheadachefatigueinflammation', 'depressionpainstressheadachefatiguemuscle', 'depressionpainstressheadachefatigueseizures', 'depressionpainstressheadacheheadacheseye', 'depressionpainstressheadacheheadachesinflammation', 'depressionpainstressheadacheheadachesmuscle', 'depressionpainstressheadacheinflammationmuscle', 'depressionpainstressheadaches', 'depressionpainstressheadacheseye', 'depressionpainstressheadachesinflammation', 'depressionpainstressheadachesmuscle', 'depressionpainstressheadachespasticitymuscle', 'depressionpainstressheadachesspasticity', 'depressionpainstressinflammation', 'depressionpainstressinflammationmuscle', 'depressionpainstressinflammationspasticity', 'depressionpainstresslack', 'depressionpainstressnauseaeye', 'depressionpainstressnauseafatigue', 'depressionpainstressnauseaheadachefatigue', 'depressionpainstressnauseaheadacheheadaches', 'depressionpainstressnauseaheadacheinflammation', 'depressionpainstressnauseaheadachemuscle', 'depressionpainstressnauseaheadaches', 'depressionpainstressnauseaheadachespasticity', 'depressionpainstressnauseainflammation', 'depressionpainstressnauseamuscle', 'depressionpainstressnauseaspasticity', 'depressionpainstressseizuresmuscle', 'depressionpainstressspasticitymuscle', 'depressionspasticity', 'depressionstress', 'depressionstresscramps', 'depressionstresscrampsfatigueeye', 'depressionstresscrampsfatigueheadaches', 'depressionstresscrampsheadacheseye', 'depressionstresscrampslack', 'depressionstresscrampsnauseamuscle', 'depressionstressfatigue', 'depressionstressfatigueeye', 'depressionstressfatigueheadaches', 'depressionstressfatigueheadacheseye', 'depressionstressfatigueheadachesinflammation', 'depressionstressfatigueheadachesmuscle', 'depressionstressfatigueheadachesseizures', 'depressionstressfatigueinflammationmuscle', 'depressionstressfatiguespasticity', 'depressionstressfatiguespasticitymuscle', 'depressionstressheadachefatigue', 'depressionstressheadachefatigueheadacheseye', 'depressionstressheadachefatigueheadachesinflammation', 'depressionstressheadacheheadaches', 'depressionstressheadacheheadacheseye', 'depressionstressheadaches', 'depressionstressheadacheseye', 'depressionstressheadachesinflammation', 'depressionstressinflammation', 'depressionstresslack', 'depressionstressnauseafatigue', 'depressionstressnauseafatigueeye', 'depressionstressnauseafatigueheadaches', 'depressionstressnauseafatigueinflammation', 'depressionstressnauseafatiguemuscle', 'depressionstressnauseaheadache', 'depressionstressnauseaheadachefatigueheadaches', 'depressionstressnauseaheadaches', 'depressionstressnauseaheadacheseye', 'depressionstressnauseaheadachesinflammation', 'depressionstressnauseaseizuresmuscle', 'depressionstressspasticity', 'eye', 'fatigue', 'fatigueeye', 'headache', 'headacheheadacheseye', 'headacheseye', 'insomniacrampsheadachesinflammationmuscle', 'insomniaeye', 'insomniafatigueheadacheseye', 'insomnialack', 'insomniapain', 'insomniapaincrampslack', 'insomniapaincrampsnauseamuscle', 'insomniapaineye', 'insomniapainfatigueeye', 'insomniapainheadacheheadacheseye', 'insomniapainheadachesmuscle', 'insomniapaininflammationseizuresmuscle', 'insomniapaininflammationspasticitymuscle', 'insomniapainlack', 'insomniapainnauseafatigueheadaches', 'insomniapainnauseafatiguemuscle', 'insomniapainnauseainflammationmuscle', 'insomniapainstress', 'insomniapainstresscrampsheadaches', 'insomniapainstresscrampsinflammation', 'insomniapainstresscrampslack', 'insomniapainstresscrampsmuscle', 'insomniapainstresscrampsnausea', 'insomniapainstressfatigueeye', 'insomniapainstressfatigueheadaches', 'insomniapainstressfatigueinflammation', 'insomniapainstressfatiguemuscle', 'insomniapainstressfatiguespasticity', 'insomniapainstressheadacheeye', 'insomniapainstressheadachefatigueeye', 'insomniapainstressheadachefatigueheadaches', 'insomniapainstressheadachefatiguemuscle', 'insomniapainstressheadacheheadachesinflammation', 'insomniapainstressheadacheinflammationmuscle', 'insomniapainstressheadaches', 'insomniapainstressheadacheseye', 'insomniapainstressheadachesinflammation', 'insomniapainstressheadachesmuscle', 'insomniapainstressinflammationmuscle', 'insomniapainstresslack', 'insomniapainstressmuscle', 'insomniapainstressnauseafatigue', 'insomniapainstressnauseaheadache', 'insomniapainstressnauseaheadacheeye', 'insomniapainstressnauseaheadachefatigue', 'insomniapainstressnauseaheadacheheadaches', 'insomniapainstressnauseaheadacheinflammation', 'insomniapainstressnauseaheadachemuscle', 'insomniapainstressnauseaheadaches', 'insomniapainstressnauseainflammation', 'insomniapainstressnauseamuscle', 'insomniastress', 'insomniastresscrampsfatigueheadaches', 'insomniastresscrampslack', 'insomniastresseye', 'insomniastressfatigueheadacheseye', 'insomniastressfatigueseizuresmuscle', 'insomniastresslack', 'insomniastressnauseaeye', 'insomniastressnauseaheadachefatiguemuscle', 'insomniastressnauseaheadacheheadachesinflammation', 'insomniastressnauseainflammationmuscle', 'lack', 'muscle', 'nauseaeye', 'nauseafatigueheadacheseye', 'nauseaheadacheheadacheseye', 'of', 'pain', 'paincrampsheadachesinflammationmuscle', 'paincrampsinflammationspasticitymuscle', 'paincrampslack', 'paincrampsnauseafatigueinflammation', 'paincrampsnauseaheadacheseye', 'painfatigueheadachesspasticitymuscle', 'painfatiguespasticityseizuresmuscle', 'painheadachesinflammationseizuresmuscle', 'paininflammation', 'paininflammationmuscle', 'painlack', 'painmuscle', 'painnauseafatigueheadacheseye', 'painnauseaheadaches', 'painnauseaheadachesinflammationmuscle', 'painstress', 'painstresscrampseye', 'painstresscrampsfatigueheadaches', 'painstresscrampsheadacheseye', 'painstresscrampsheadachesinflammation', 'painstresscrampsheadachesmuscle', 'painstresscrampsinflammationmuscle', 'painstresscrampslack', 'painstresscrampsnauseaheadachefatigue', 'painstresscrampsnauseaheadaches', 'painstresseye', 'painstressfatigue', 'painstressfatigueheadachesinflammation', 'painstressfatigueinflammationmuscle', 'painstressfatiguespasticity', 'painstressheadachefatigueheadachesmuscle', 'painstressheadachefatigueinflammationmuscle', 'painstressheadacheseye', 'painstressheadachesinflammationmuscle', 'painstressheadachesinflammationseizures', 'painstressinflammation', 'painstressinflammationmuscle', 'painstressinflammationspasticitymuscle', 'painstresslack', 'painstressmuscle', 'painstressnauseafatigue', 'painstressnauseafatigueeye', 'painstressnauseafatigueheadaches', 'painstressnauseafatigueinflammation', 'painstressnauseaheadachefatiguemuscle', 'painstressnauseaheadacheheadachesinflammation', 'painstressnauseaheadacheinflammationmuscle', 'painstressnauseaheadaches', 'painstressnauseaheadacheseye', 'painstressnauseaheadachesinflammation', 'painstressnauseaheadachesmuscle', 'painstressnauseainflammationmuscle', 'painstressnauseainflammationspasticity', 'pressure', 'pressureinflammation', 'pressureinflammationmuscle', 'pressuremuscle', 'pressurespasticity', 'spasms', 'spasticity', 'stress', 'stresscrampsheadaches', 'stresscrampslack', 'stressfatigue', 'stressfatigueeye', 'stressfatigueheadacheseye', 'stressheadaches', 'stresslack', 'stressnauseaeye']\n"
     ]
    }
   ],
   "source": [
    "print(vect.get_feature_names())"
   ]
  },
  {
   "cell_type": "code",
   "execution_count": null,
   "metadata": {},
   "outputs": [],
   "source": [
    "green."
   ]
  }
 ],
 "metadata": {
  "kernelspec": {
   "display_name": "Python 3",
   "language": "python",
   "name": "python3"
  },
  "language_info": {
   "codemirror_mode": {
    "name": "ipython",
    "version": 3
   },
   "file_extension": ".py",
   "mimetype": "text/x-python",
   "name": "python",
   "nbconvert_exporter": "python",
   "pygments_lexer": "ipython3",
   "version": "3.7.4"
  }
 },
 "nbformat": 4,
 "nbformat_minor": 4
}
