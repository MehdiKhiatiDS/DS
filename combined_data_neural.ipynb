{
 "cells": [
  {
   "cell_type": "code",
   "execution_count": 90,
   "metadata": {},
   "outputs": [],
   "source": [
    "import requests\n",
    "import json\n",
    "import pandas as pd\n",
    "\n",
    "# Get all strains\n",
    "API_KEY = 'uEH5NtA'\n",
    "\n",
    "request_url = f\"http://strainapi.evanbusse.com/{API_KEY}/strains/search/all\"\n",
    "response = requests.get(request_url)\n",
    "data = json.loads(response.text)\n"
   ]
  },
  {
   "cell_type": "code",
   "execution_count": 91,
   "metadata": {},
   "outputs": [
    {
     "data": {
      "text/html": [
       "<div>\n",
       "<style scoped>\n",
       "    .dataframe tbody tr th:only-of-type {\n",
       "        vertical-align: middle;\n",
       "    }\n",
       "\n",
       "    .dataframe tbody tr th {\n",
       "        vertical-align: top;\n",
       "    }\n",
       "\n",
       "    .dataframe thead th {\n",
       "        text-align: right;\n",
       "    }\n",
       "</style>\n",
       "<table border=\"1\" class=\"dataframe\">\n",
       "  <thead>\n",
       "    <tr style=\"text-align: right;\">\n",
       "      <th></th>\n",
       "      <th>name</th>\n",
       "      <th>id</th>\n",
       "      <th>race</th>\n",
       "      <th>flavors</th>\n",
       "      <th>effects</th>\n",
       "    </tr>\n",
       "  </thead>\n",
       "  <tbody>\n",
       "    <tr>\n",
       "      <th>0</th>\n",
       "      <td>Afpak</td>\n",
       "      <td>1</td>\n",
       "      <td>hybrid</td>\n",
       "      <td>[Earthy, Chemical, Pine]</td>\n",
       "      <td>{'positive': ['Relaxed', 'Hungry', 'Happy', 'S...</td>\n",
       "    </tr>\n",
       "    <tr>\n",
       "      <th>1</th>\n",
       "      <td>African</td>\n",
       "      <td>2</td>\n",
       "      <td>sativa</td>\n",
       "      <td>[Spicy/Herbal, Pungent, Earthy]</td>\n",
       "      <td>{'positive': ['Euphoric', 'Happy', 'Creative',...</td>\n",
       "    </tr>\n",
       "    <tr>\n",
       "      <th>2</th>\n",
       "      <td>Afternoon Delight</td>\n",
       "      <td>3</td>\n",
       "      <td>hybrid</td>\n",
       "      <td>[Pepper, Flowery, Pine]</td>\n",
       "      <td>{'positive': ['Relaxed', 'Hungry', 'Euphoric',...</td>\n",
       "    </tr>\n",
       "    <tr>\n",
       "      <th>3</th>\n",
       "      <td>Afwreck</td>\n",
       "      <td>4</td>\n",
       "      <td>hybrid</td>\n",
       "      <td>[Pine, Earthy, Flowery]</td>\n",
       "      <td>{'positive': ['Relaxed', 'Happy', 'Creative', ...</td>\n",
       "    </tr>\n",
       "    <tr>\n",
       "      <th>4</th>\n",
       "      <td>Agent Orange</td>\n",
       "      <td>5</td>\n",
       "      <td>hybrid</td>\n",
       "      <td>[Citrus, Orange, Sweet]</td>\n",
       "      <td>{'positive': ['Relaxed', 'Euphoric', 'Happy', ...</td>\n",
       "    </tr>\n",
       "  </tbody>\n",
       "</table>\n",
       "</div>"
      ],
      "text/plain": [
       "                name  id    race                          flavors  \\\n",
       "0              Afpak   1  hybrid         [Earthy, Chemical, Pine]   \n",
       "1            African   2  sativa  [Spicy/Herbal, Pungent, Earthy]   \n",
       "2  Afternoon Delight   3  hybrid          [Pepper, Flowery, Pine]   \n",
       "3            Afwreck   4  hybrid          [Pine, Earthy, Flowery]   \n",
       "4       Agent Orange   5  hybrid          [Citrus, Orange, Sweet]   \n",
       "\n",
       "                                             effects  \n",
       "0  {'positive': ['Relaxed', 'Hungry', 'Happy', 'S...  \n",
       "1  {'positive': ['Euphoric', 'Happy', 'Creative',...  \n",
       "2  {'positive': ['Relaxed', 'Hungry', 'Euphoric',...  \n",
       "3  {'positive': ['Relaxed', 'Happy', 'Creative', ...  \n",
       "4  {'positive': ['Relaxed', 'Euphoric', 'Happy', ...  "
      ]
     },
     "execution_count": 91,
     "metadata": {},
     "output_type": "execute_result"
    }
   ],
   "source": [
    "# Get all strains\n",
    "strain_names = pd.DataFrame(list(data.keys()), columns =['name'])\n",
    "\n",
    "# Get strain characteristics\n",
    "strain_values = list(data.values())\n",
    "strain_values = pd.DataFrame.from_dict(strain_values)\n",
    "\n",
    "# Add strain name to the dataframe\n",
    "strains_raw = pd.concat([strain_names, strain_values], axis=1)\n",
    "\n",
    "# Take a look at the data\n",
    "strains_raw.head()"
   ]
  },
  {
   "cell_type": "code",
   "execution_count": 92,
   "metadata": {},
   "outputs": [
    {
     "data": {
      "text/html": [
       "<div>\n",
       "<style scoped>\n",
       "    .dataframe tbody tr th:only-of-type {\n",
       "        vertical-align: middle;\n",
       "    }\n",
       "\n",
       "    .dataframe tbody tr th {\n",
       "        vertical-align: top;\n",
       "    }\n",
       "\n",
       "    .dataframe thead th {\n",
       "        text-align: right;\n",
       "    }\n",
       "</style>\n",
       "<table border=\"1\" class=\"dataframe\">\n",
       "  <thead>\n",
       "    <tr style=\"text-align: right;\">\n",
       "      <th></th>\n",
       "      <th>positive</th>\n",
       "      <th>negative</th>\n",
       "      <th>medical</th>\n",
       "      <th>name</th>\n",
       "      <th>id</th>\n",
       "      <th>race</th>\n",
       "      <th>flavors</th>\n",
       "    </tr>\n",
       "  </thead>\n",
       "  <tbody>\n",
       "    <tr>\n",
       "      <th>0</th>\n",
       "      <td>[Relaxed, Hungry, Happy, Sleepy]</td>\n",
       "      <td>[Dizzy]</td>\n",
       "      <td>[Depression, Insomnia, Pain, Stress, Lack of A...</td>\n",
       "      <td>Afpak</td>\n",
       "      <td>1</td>\n",
       "      <td>hybrid</td>\n",
       "      <td>[Earthy, Chemical, Pine]</td>\n",
       "    </tr>\n",
       "    <tr>\n",
       "      <th>1</th>\n",
       "      <td>[Euphoric, Happy, Creative, Energetic, Talkative]</td>\n",
       "      <td>[Dry Mouth]</td>\n",
       "      <td>[Depression, Pain, Stress, Lack of Appetite, N...</td>\n",
       "      <td>African</td>\n",
       "      <td>2</td>\n",
       "      <td>sativa</td>\n",
       "      <td>[Spicy/Herbal, Pungent, Earthy]</td>\n",
       "    </tr>\n",
       "    <tr>\n",
       "      <th>2</th>\n",
       "      <td>[Relaxed, Hungry, Euphoric, Uplifted, Tingly]</td>\n",
       "      <td>[Dizzy, Dry Mouth, Paranoid]</td>\n",
       "      <td>[Depression, Insomnia, Pain, Stress, Cramps, H...</td>\n",
       "      <td>Afternoon Delight</td>\n",
       "      <td>3</td>\n",
       "      <td>hybrid</td>\n",
       "      <td>[Pepper, Flowery, Pine]</td>\n",
       "    </tr>\n",
       "    <tr>\n",
       "      <th>3</th>\n",
       "      <td>[Relaxed, Happy, Creative, Uplifted, Sleepy]</td>\n",
       "      <td>[Dizzy, Dry Mouth, Paranoid, Dry Eyes]</td>\n",
       "      <td>[Pain, Stress, Headache, Fatigue, Headaches, M...</td>\n",
       "      <td>Afwreck</td>\n",
       "      <td>4</td>\n",
       "      <td>hybrid</td>\n",
       "      <td>[Pine, Earthy, Flowery]</td>\n",
       "    </tr>\n",
       "    <tr>\n",
       "      <th>4</th>\n",
       "      <td>[Relaxed, Euphoric, Happy, Energetic, Uplifted]</td>\n",
       "      <td>[Dizzy, Dry Mouth, Paranoid, Dry Eyes]</td>\n",
       "      <td>[Depression, Pain, Stress, Nausea, Headache, H...</td>\n",
       "      <td>Agent Orange</td>\n",
       "      <td>5</td>\n",
       "      <td>hybrid</td>\n",
       "      <td>[Citrus, Orange, Sweet]</td>\n",
       "    </tr>\n",
       "    <tr>\n",
       "      <th>...</th>\n",
       "      <td>...</td>\n",
       "      <td>...</td>\n",
       "      <td>...</td>\n",
       "      <td>...</td>\n",
       "      <td>...</td>\n",
       "      <td>...</td>\n",
       "      <td>...</td>\n",
       "    </tr>\n",
       "    <tr>\n",
       "      <th>1965</th>\n",
       "      <td>[Relaxed, Happy, Energetic, Uplifted, Focused]</td>\n",
       "      <td>[Dizzy, Dry Mouth, Paranoid, Dry Eyes]</td>\n",
       "      <td>[Depression, Insomnia, Pain, Stress, Fatigue]</td>\n",
       "      <td>Zeus OG</td>\n",
       "      <td>2158</td>\n",
       "      <td>hybrid</td>\n",
       "      <td>[Earthy, Woody, Pine]</td>\n",
       "    </tr>\n",
       "    <tr>\n",
       "      <th>1966</th>\n",
       "      <td>[Relaxed, Euphoric, Happy, Uplifted, Sleepy]</td>\n",
       "      <td>[Dizzy, Dry Mouth, Dry Eyes]</td>\n",
       "      <td>[Depression, Insomnia, Pain, Stress, Nausea, H...</td>\n",
       "      <td>Zkittlez</td>\n",
       "      <td>2159</td>\n",
       "      <td>indica</td>\n",
       "      <td>[Sweet, Berry, Grape]</td>\n",
       "    </tr>\n",
       "    <tr>\n",
       "      <th>1967</th>\n",
       "      <td>[Relaxed, Euphoric, Happy, Sleepy, Giggly]</td>\n",
       "      <td>[Dizzy, Dry Mouth, Paranoid, Dry Eyes]</td>\n",
       "      <td>[Depression, Insomnia, Pain, Stress, Lack of A...</td>\n",
       "      <td>Zombie OG</td>\n",
       "      <td>2160</td>\n",
       "      <td>indica</td>\n",
       "      <td>[Earthy, Pungent, Sweet]</td>\n",
       "    </tr>\n",
       "    <tr>\n",
       "      <th>1968</th>\n",
       "      <td>[Relaxed, Hungry, Happy, Uplifted, Giggly]</td>\n",
       "      <td>[]</td>\n",
       "      <td>[Insomnia, Pain, Cramps, Lack of Appetite, Mus...</td>\n",
       "      <td>Zoom Pie</td>\n",
       "      <td>2161</td>\n",
       "      <td>indica</td>\n",
       "      <td>[Berry, Earthy, Pungent]</td>\n",
       "    </tr>\n",
       "    <tr>\n",
       "      <th>1969</th>\n",
       "      <td>[Euphoric, Happy, Creative, Energetic, Aroused]</td>\n",
       "      <td>[Dizzy, Dry Mouth, Paranoid, Anxious]</td>\n",
       "      <td>[Depression, Stress, Fatigue]</td>\n",
       "      <td>ʻAlenuihāhā</td>\n",
       "      <td>2162</td>\n",
       "      <td>hybrid</td>\n",
       "      <td>[Sweet, Tropical, Pineapple]</td>\n",
       "    </tr>\n",
       "  </tbody>\n",
       "</table>\n",
       "<p>1970 rows × 7 columns</p>\n",
       "</div>"
      ],
      "text/plain": [
       "                                               positive  \\\n",
       "0                      [Relaxed, Hungry, Happy, Sleepy]   \n",
       "1     [Euphoric, Happy, Creative, Energetic, Talkative]   \n",
       "2         [Relaxed, Hungry, Euphoric, Uplifted, Tingly]   \n",
       "3          [Relaxed, Happy, Creative, Uplifted, Sleepy]   \n",
       "4       [Relaxed, Euphoric, Happy, Energetic, Uplifted]   \n",
       "...                                                 ...   \n",
       "1965     [Relaxed, Happy, Energetic, Uplifted, Focused]   \n",
       "1966       [Relaxed, Euphoric, Happy, Uplifted, Sleepy]   \n",
       "1967         [Relaxed, Euphoric, Happy, Sleepy, Giggly]   \n",
       "1968         [Relaxed, Hungry, Happy, Uplifted, Giggly]   \n",
       "1969    [Euphoric, Happy, Creative, Energetic, Aroused]   \n",
       "\n",
       "                                    negative  \\\n",
       "0                                    [Dizzy]   \n",
       "1                                [Dry Mouth]   \n",
       "2               [Dizzy, Dry Mouth, Paranoid]   \n",
       "3     [Dizzy, Dry Mouth, Paranoid, Dry Eyes]   \n",
       "4     [Dizzy, Dry Mouth, Paranoid, Dry Eyes]   \n",
       "...                                      ...   \n",
       "1965  [Dizzy, Dry Mouth, Paranoid, Dry Eyes]   \n",
       "1966            [Dizzy, Dry Mouth, Dry Eyes]   \n",
       "1967  [Dizzy, Dry Mouth, Paranoid, Dry Eyes]   \n",
       "1968                                      []   \n",
       "1969   [Dizzy, Dry Mouth, Paranoid, Anxious]   \n",
       "\n",
       "                                                medical               name  \\\n",
       "0     [Depression, Insomnia, Pain, Stress, Lack of A...              Afpak   \n",
       "1     [Depression, Pain, Stress, Lack of Appetite, N...            African   \n",
       "2     [Depression, Insomnia, Pain, Stress, Cramps, H...  Afternoon Delight   \n",
       "3     [Pain, Stress, Headache, Fatigue, Headaches, M...            Afwreck   \n",
       "4     [Depression, Pain, Stress, Nausea, Headache, H...       Agent Orange   \n",
       "...                                                 ...                ...   \n",
       "1965      [Depression, Insomnia, Pain, Stress, Fatigue]            Zeus OG   \n",
       "1966  [Depression, Insomnia, Pain, Stress, Nausea, H...           Zkittlez   \n",
       "1967  [Depression, Insomnia, Pain, Stress, Lack of A...          Zombie OG   \n",
       "1968  [Insomnia, Pain, Cramps, Lack of Appetite, Mus...           Zoom Pie   \n",
       "1969                      [Depression, Stress, Fatigue]        ʻAlenuihāhā   \n",
       "\n",
       "        id    race                          flavors  \n",
       "0        1  hybrid         [Earthy, Chemical, Pine]  \n",
       "1        2  sativa  [Spicy/Herbal, Pungent, Earthy]  \n",
       "2        3  hybrid          [Pepper, Flowery, Pine]  \n",
       "3        4  hybrid          [Pine, Earthy, Flowery]  \n",
       "4        5  hybrid          [Citrus, Orange, Sweet]  \n",
       "...    ...     ...                              ...  \n",
       "1965  2158  hybrid            [Earthy, Woody, Pine]  \n",
       "1966  2159  indica            [Sweet, Berry, Grape]  \n",
       "1967  2160  indica         [Earthy, Pungent, Sweet]  \n",
       "1968  2161  indica         [Berry, Earthy, Pungent]  \n",
       "1969  2162  hybrid     [Sweet, Tropical, Pineapple]  \n",
       "\n",
       "[1970 rows x 7 columns]"
      ]
     },
     "execution_count": 92,
     "metadata": {},
     "output_type": "execute_result"
    }
   ],
   "source": [
    "# Get a line for each type of effect\n",
    "strains = strains_raw.effects.apply(pd.Series) \\\n",
    "    .merge(strains_raw, right_index = True, left_index = True) \\\n",
    "    .drop([\"effects\"], axis = 1)\n",
    "strains"
   ]
  },
  {
   "cell_type": "code",
   "execution_count": 93,
   "metadata": {},
   "outputs": [
    {
     "data": {
      "text/html": [
       "<div>\n",
       "<style scoped>\n",
       "    .dataframe tbody tr th:only-of-type {\n",
       "        vertical-align: middle;\n",
       "    }\n",
       "\n",
       "    .dataframe tbody tr th {\n",
       "        vertical-align: top;\n",
       "    }\n",
       "\n",
       "    .dataframe thead th {\n",
       "        text-align: right;\n",
       "    }\n",
       "</style>\n",
       "<table border=\"1\" class=\"dataframe\">\n",
       "  <thead>\n",
       "    <tr style=\"text-align: right;\">\n",
       "      <th></th>\n",
       "      <th>id</th>\n",
       "      <th>description</th>\n",
       "    </tr>\n",
       "  </thead>\n",
       "  <tbody>\n",
       "    <tr>\n",
       "      <th>0</th>\n",
       "      <td>1</td>\n",
       "      <td>[Afpak, named for its direct Afghani and Pakis...</td>\n",
       "    </tr>\n",
       "    <tr>\n",
       "      <th>1</th>\n",
       "      <td>2</td>\n",
       "      <td>[African refers to the indigenous varieties of...</td>\n",
       "    </tr>\n",
       "    <tr>\n",
       "      <th>2</th>\n",
       "      <td>3</td>\n",
       "      <td>[Afternoon Delight, created by Colorado Seed I...</td>\n",
       "    </tr>\n",
       "    <tr>\n",
       "      <th>3</th>\n",
       "      <td>4</td>\n",
       "      <td>[Afwreck is a hybrid cross of Afghani and Trai...</td>\n",
       "    </tr>\n",
       "    <tr>\n",
       "      <th>4</th>\n",
       "      <td>5</td>\n",
       "      <td>[Don’t let the name scare you! The only herbic...</td>\n",
       "    </tr>\n",
       "  </tbody>\n",
       "</table>\n",
       "</div>"
      ],
      "text/plain": [
       "   id                                        description\n",
       "0   1  [Afpak, named for its direct Afghani and Pakis...\n",
       "1   2  [African refers to the indigenous varieties of...\n",
       "2   3  [Afternoon Delight, created by Colorado Seed I...\n",
       "3   4  [Afwreck is a hybrid cross of Afghani and Trai...\n",
       "4   5  [Don’t let the name scare you! The only herbic..."
      ]
     },
     "execution_count": 93,
     "metadata": {},
     "output_type": "execute_result"
    }
   ],
   "source": [
    "# Get the description for every strain_id\n",
    "unique_ids = strains['id'].unique()\n",
    "descriptions = []\n",
    "for id in unique_ids:\n",
    "    request_url = f\"http://strainapi.evanbusse.com/{API_KEY}/strains/data/desc/{id}\"\n",
    "    response = requests.get(request_url)\n",
    "    data = json.loads(response.text)\n",
    "    desc = list(data.values())\n",
    "    descriptions.append({'id':id, 'description':desc})\n",
    "descriptions = pd.DataFrame(descriptions)\n",
    "descriptions.head()"
   ]
  },
  {
   "cell_type": "code",
   "execution_count": 94,
   "metadata": {},
   "outputs": [
    {
     "data": {
      "text/html": [
       "<div>\n",
       "<style scoped>\n",
       "    .dataframe tbody tr th:only-of-type {\n",
       "        vertical-align: middle;\n",
       "    }\n",
       "\n",
       "    .dataframe tbody tr th {\n",
       "        vertical-align: top;\n",
       "    }\n",
       "\n",
       "    .dataframe thead th {\n",
       "        text-align: right;\n",
       "    }\n",
       "</style>\n",
       "<table border=\"1\" class=\"dataframe\">\n",
       "  <thead>\n",
       "    <tr style=\"text-align: right;\">\n",
       "      <th></th>\n",
       "      <th>positive</th>\n",
       "      <th>negative</th>\n",
       "      <th>medical</th>\n",
       "      <th>name</th>\n",
       "      <th>id</th>\n",
       "      <th>race</th>\n",
       "      <th>flavors</th>\n",
       "      <th>description</th>\n",
       "    </tr>\n",
       "  </thead>\n",
       "  <tbody>\n",
       "    <tr>\n",
       "      <th>0</th>\n",
       "      <td>[Relaxed, Hungry, Happy, Sleepy]</td>\n",
       "      <td>[Dizzy]</td>\n",
       "      <td>[Depression, Insomnia, Pain, Stress, Lack of A...</td>\n",
       "      <td>Afpak</td>\n",
       "      <td>1</td>\n",
       "      <td>hybrid</td>\n",
       "      <td>[Earthy, Chemical, Pine]</td>\n",
       "      <td>[Afpak, named for its direct Afghani and Pakis...</td>\n",
       "    </tr>\n",
       "    <tr>\n",
       "      <th>1</th>\n",
       "      <td>[Euphoric, Happy, Creative, Energetic, Talkative]</td>\n",
       "      <td>[Dry Mouth]</td>\n",
       "      <td>[Depression, Pain, Stress, Lack of Appetite, N...</td>\n",
       "      <td>African</td>\n",
       "      <td>2</td>\n",
       "      <td>sativa</td>\n",
       "      <td>[Spicy/Herbal, Pungent, Earthy]</td>\n",
       "      <td>[African refers to the indigenous varieties of...</td>\n",
       "    </tr>\n",
       "    <tr>\n",
       "      <th>2</th>\n",
       "      <td>[Relaxed, Hungry, Euphoric, Uplifted, Tingly]</td>\n",
       "      <td>[Dizzy, Dry Mouth, Paranoid]</td>\n",
       "      <td>[Depression, Insomnia, Pain, Stress, Cramps, H...</td>\n",
       "      <td>Afternoon Delight</td>\n",
       "      <td>3</td>\n",
       "      <td>hybrid</td>\n",
       "      <td>[Pepper, Flowery, Pine]</td>\n",
       "      <td>[Afternoon Delight, created by Colorado Seed I...</td>\n",
       "    </tr>\n",
       "    <tr>\n",
       "      <th>3</th>\n",
       "      <td>[Relaxed, Happy, Creative, Uplifted, Sleepy]</td>\n",
       "      <td>[Dizzy, Dry Mouth, Paranoid, Dry Eyes]</td>\n",
       "      <td>[Pain, Stress, Headache, Fatigue, Headaches, M...</td>\n",
       "      <td>Afwreck</td>\n",
       "      <td>4</td>\n",
       "      <td>hybrid</td>\n",
       "      <td>[Pine, Earthy, Flowery]</td>\n",
       "      <td>[Afwreck is a hybrid cross of Afghani and Trai...</td>\n",
       "    </tr>\n",
       "    <tr>\n",
       "      <th>4</th>\n",
       "      <td>[Relaxed, Euphoric, Happy, Energetic, Uplifted]</td>\n",
       "      <td>[Dizzy, Dry Mouth, Paranoid, Dry Eyes]</td>\n",
       "      <td>[Depression, Pain, Stress, Nausea, Headache, H...</td>\n",
       "      <td>Agent Orange</td>\n",
       "      <td>5</td>\n",
       "      <td>hybrid</td>\n",
       "      <td>[Citrus, Orange, Sweet]</td>\n",
       "      <td>[Don’t let the name scare you! The only herbic...</td>\n",
       "    </tr>\n",
       "    <tr>\n",
       "      <th>...</th>\n",
       "      <td>...</td>\n",
       "      <td>...</td>\n",
       "      <td>...</td>\n",
       "      <td>...</td>\n",
       "      <td>...</td>\n",
       "      <td>...</td>\n",
       "      <td>...</td>\n",
       "      <td>...</td>\n",
       "    </tr>\n",
       "    <tr>\n",
       "      <th>1965</th>\n",
       "      <td>[Relaxed, Happy, Energetic, Uplifted, Focused]</td>\n",
       "      <td>[Dizzy, Dry Mouth, Paranoid, Dry Eyes]</td>\n",
       "      <td>[Depression, Insomnia, Pain, Stress, Fatigue]</td>\n",
       "      <td>Zeus OG</td>\n",
       "      <td>2158</td>\n",
       "      <td>hybrid</td>\n",
       "      <td>[Earthy, Woody, Pine]</td>\n",
       "      <td>[Zeus OG is a hybrid cross between Pineapple O...</td>\n",
       "    </tr>\n",
       "    <tr>\n",
       "      <th>1966</th>\n",
       "      <td>[Relaxed, Euphoric, Happy, Uplifted, Sleepy]</td>\n",
       "      <td>[Dizzy, Dry Mouth, Dry Eyes]</td>\n",
       "      <td>[Depression, Insomnia, Pain, Stress, Nausea, H...</td>\n",
       "      <td>Zkittlez</td>\n",
       "      <td>2159</td>\n",
       "      <td>indica</td>\n",
       "      <td>[Sweet, Berry, Grape]</td>\n",
       "      <td>[Zkittlez is an indica-dominant mix of Grape A...</td>\n",
       "    </tr>\n",
       "    <tr>\n",
       "      <th>1967</th>\n",
       "      <td>[Relaxed, Euphoric, Happy, Sleepy, Giggly]</td>\n",
       "      <td>[Dizzy, Dry Mouth, Paranoid, Dry Eyes]</td>\n",
       "      <td>[Depression, Insomnia, Pain, Stress, Lack of A...</td>\n",
       "      <td>Zombie OG</td>\n",
       "      <td>2160</td>\n",
       "      <td>indica</td>\n",
       "      <td>[Earthy, Pungent, Sweet]</td>\n",
       "      <td>[If you’re looking to transform into a flesh-e...</td>\n",
       "    </tr>\n",
       "    <tr>\n",
       "      <th>1968</th>\n",
       "      <td>[Relaxed, Hungry, Happy, Uplifted, Giggly]</td>\n",
       "      <td>[]</td>\n",
       "      <td>[Insomnia, Pain, Cramps, Lack of Appetite, Mus...</td>\n",
       "      <td>Zoom Pie</td>\n",
       "      <td>2161</td>\n",
       "      <td>indica</td>\n",
       "      <td>[Berry, Earthy, Pungent]</td>\n",
       "      <td>[Zoom Pie (also known as Zombie Pie) is a heav...</td>\n",
       "    </tr>\n",
       "    <tr>\n",
       "      <th>1969</th>\n",
       "      <td>[Euphoric, Happy, Creative, Energetic, Aroused]</td>\n",
       "      <td>[Dizzy, Dry Mouth, Paranoid, Anxious]</td>\n",
       "      <td>[Depression, Stress, Fatigue]</td>\n",
       "      <td>ʻAlenuihāhā</td>\n",
       "      <td>2162</td>\n",
       "      <td>hybrid</td>\n",
       "      <td>[Sweet, Tropical, Pineapple]</td>\n",
       "      <td>[ʻAlenuihāhā is a sativa-dominant hybrid by Pu...</td>\n",
       "    </tr>\n",
       "  </tbody>\n",
       "</table>\n",
       "<p>1970 rows × 8 columns</p>\n",
       "</div>"
      ],
      "text/plain": [
       "                                               positive  \\\n",
       "0                      [Relaxed, Hungry, Happy, Sleepy]   \n",
       "1     [Euphoric, Happy, Creative, Energetic, Talkative]   \n",
       "2         [Relaxed, Hungry, Euphoric, Uplifted, Tingly]   \n",
       "3          [Relaxed, Happy, Creative, Uplifted, Sleepy]   \n",
       "4       [Relaxed, Euphoric, Happy, Energetic, Uplifted]   \n",
       "...                                                 ...   \n",
       "1965     [Relaxed, Happy, Energetic, Uplifted, Focused]   \n",
       "1966       [Relaxed, Euphoric, Happy, Uplifted, Sleepy]   \n",
       "1967         [Relaxed, Euphoric, Happy, Sleepy, Giggly]   \n",
       "1968         [Relaxed, Hungry, Happy, Uplifted, Giggly]   \n",
       "1969    [Euphoric, Happy, Creative, Energetic, Aroused]   \n",
       "\n",
       "                                    negative  \\\n",
       "0                                    [Dizzy]   \n",
       "1                                [Dry Mouth]   \n",
       "2               [Dizzy, Dry Mouth, Paranoid]   \n",
       "3     [Dizzy, Dry Mouth, Paranoid, Dry Eyes]   \n",
       "4     [Dizzy, Dry Mouth, Paranoid, Dry Eyes]   \n",
       "...                                      ...   \n",
       "1965  [Dizzy, Dry Mouth, Paranoid, Dry Eyes]   \n",
       "1966            [Dizzy, Dry Mouth, Dry Eyes]   \n",
       "1967  [Dizzy, Dry Mouth, Paranoid, Dry Eyes]   \n",
       "1968                                      []   \n",
       "1969   [Dizzy, Dry Mouth, Paranoid, Anxious]   \n",
       "\n",
       "                                                medical               name  \\\n",
       "0     [Depression, Insomnia, Pain, Stress, Lack of A...              Afpak   \n",
       "1     [Depression, Pain, Stress, Lack of Appetite, N...            African   \n",
       "2     [Depression, Insomnia, Pain, Stress, Cramps, H...  Afternoon Delight   \n",
       "3     [Pain, Stress, Headache, Fatigue, Headaches, M...            Afwreck   \n",
       "4     [Depression, Pain, Stress, Nausea, Headache, H...       Agent Orange   \n",
       "...                                                 ...                ...   \n",
       "1965      [Depression, Insomnia, Pain, Stress, Fatigue]            Zeus OG   \n",
       "1966  [Depression, Insomnia, Pain, Stress, Nausea, H...           Zkittlez   \n",
       "1967  [Depression, Insomnia, Pain, Stress, Lack of A...          Zombie OG   \n",
       "1968  [Insomnia, Pain, Cramps, Lack of Appetite, Mus...           Zoom Pie   \n",
       "1969                      [Depression, Stress, Fatigue]        ʻAlenuihāhā   \n",
       "\n",
       "        id    race                          flavors  \\\n",
       "0        1  hybrid         [Earthy, Chemical, Pine]   \n",
       "1        2  sativa  [Spicy/Herbal, Pungent, Earthy]   \n",
       "2        3  hybrid          [Pepper, Flowery, Pine]   \n",
       "3        4  hybrid          [Pine, Earthy, Flowery]   \n",
       "4        5  hybrid          [Citrus, Orange, Sweet]   \n",
       "...    ...     ...                              ...   \n",
       "1965  2158  hybrid            [Earthy, Woody, Pine]   \n",
       "1966  2159  indica            [Sweet, Berry, Grape]   \n",
       "1967  2160  indica         [Earthy, Pungent, Sweet]   \n",
       "1968  2161  indica         [Berry, Earthy, Pungent]   \n",
       "1969  2162  hybrid     [Sweet, Tropical, Pineapple]   \n",
       "\n",
       "                                            description  \n",
       "0     [Afpak, named for its direct Afghani and Pakis...  \n",
       "1     [African refers to the indigenous varieties of...  \n",
       "2     [Afternoon Delight, created by Colorado Seed I...  \n",
       "3     [Afwreck is a hybrid cross of Afghani and Trai...  \n",
       "4     [Don’t let the name scare you! The only herbic...  \n",
       "...                                                 ...  \n",
       "1965  [Zeus OG is a hybrid cross between Pineapple O...  \n",
       "1966  [Zkittlez is an indica-dominant mix of Grape A...  \n",
       "1967  [If you’re looking to transform into a flesh-e...  \n",
       "1968  [Zoom Pie (also known as Zombie Pie) is a heav...  \n",
       "1969  [ʻAlenuihāhā is a sativa-dominant hybrid by Pu...  \n",
       "\n",
       "[1970 rows x 8 columns]"
      ]
     },
     "execution_count": 94,
     "metadata": {},
     "output_type": "execute_result"
    }
   ],
   "source": [
    "# Add description to the df\n",
    "strains = strains.merge(descriptions, on='id')\n",
    "strains"
   ]
  },
  {
   "cell_type": "code",
   "execution_count": 95,
   "metadata": {},
   "outputs": [
    {
     "data": {
      "text/html": [
       "<div>\n",
       "<style scoped>\n",
       "    .dataframe tbody tr th:only-of-type {\n",
       "        vertical-align: middle;\n",
       "    }\n",
       "\n",
       "    .dataframe tbody tr th {\n",
       "        vertical-align: top;\n",
       "    }\n",
       "\n",
       "    .dataframe thead th {\n",
       "        text-align: right;\n",
       "    }\n",
       "</style>\n",
       "<table border=\"1\" class=\"dataframe\">\n",
       "  <thead>\n",
       "    <tr style=\"text-align: right;\">\n",
       "      <th></th>\n",
       "      <th>id</th>\n",
       "      <th>name</th>\n",
       "      <th>race</th>\n",
       "      <th>flavors</th>\n",
       "      <th>positive</th>\n",
       "      <th>negative</th>\n",
       "      <th>medical</th>\n",
       "      <th>description</th>\n",
       "    </tr>\n",
       "  </thead>\n",
       "  <tbody>\n",
       "    <tr>\n",
       "      <th>0</th>\n",
       "      <td>1</td>\n",
       "      <td>Afpak</td>\n",
       "      <td>hybrid</td>\n",
       "      <td>[Earthy, Chemical, Pine]</td>\n",
       "      <td>[Relaxed, Hungry, Happy, Sleepy]</td>\n",
       "      <td>[Dizzy]</td>\n",
       "      <td>[Depression, Insomnia, Pain, Stress, Lack of A...</td>\n",
       "      <td>[Afpak, named for its direct Afghani and Pakis...</td>\n",
       "    </tr>\n",
       "  </tbody>\n",
       "</table>\n",
       "</div>"
      ],
      "text/plain": [
       "   id   name    race                   flavors  \\\n",
       "0   1  Afpak  hybrid  [Earthy, Chemical, Pine]   \n",
       "\n",
       "                           positive negative  \\\n",
       "0  [Relaxed, Hungry, Happy, Sleepy]  [Dizzy]   \n",
       "\n",
       "                                             medical  \\\n",
       "0  [Depression, Insomnia, Pain, Stress, Lack of A...   \n",
       "\n",
       "                                         description  \n",
       "0  [Afpak, named for its direct Afghani and Pakis...  "
      ]
     },
     "execution_count": 95,
     "metadata": {},
     "output_type": "execute_result"
    }
   ],
   "source": [
    "# Change column order\n",
    "cols = ['id', 'name', 'race', 'flavors', 'positive', 'negative', 'medical', 'description']\n",
    "strains = strains[cols]\n",
    "strains.head(1)"
   ]
  },
  {
   "cell_type": "code",
   "execution_count": 96,
   "metadata": {},
   "outputs": [
    {
     "name": "stderr",
     "output_type": "stream",
     "text": [
      "/Users/Medy/opt/anaconda3/lib/python3.7/site-packages/ipykernel_launcher.py:4: SettingWithCopyWarning: \n",
      "A value is trying to be set on a copy of a slice from a DataFrame.\n",
      "Try using .loc[row_indexer,col_indexer] = value instead\n",
      "\n",
      "See the caveats in the documentation: http://pandas.pydata.org/pandas-docs/stable/user_guide/indexing.html#returning-a-view-versus-a-copy\n",
      "  after removing the cwd from sys.path.\n"
     ]
    },
    {
     "data": {
      "text/html": [
       "<div>\n",
       "<style scoped>\n",
       "    .dataframe tbody tr th:only-of-type {\n",
       "        vertical-align: middle;\n",
       "    }\n",
       "\n",
       "    .dataframe tbody tr th {\n",
       "        vertical-align: top;\n",
       "    }\n",
       "\n",
       "    .dataframe thead th {\n",
       "        text-align: right;\n",
       "    }\n",
       "</style>\n",
       "<table border=\"1\" class=\"dataframe\">\n",
       "  <thead>\n",
       "    <tr style=\"text-align: right;\">\n",
       "      <th></th>\n",
       "      <th>id</th>\n",
       "      <th>name</th>\n",
       "      <th>race</th>\n",
       "      <th>flavors</th>\n",
       "      <th>positive</th>\n",
       "      <th>negative</th>\n",
       "      <th>medical</th>\n",
       "      <th>description</th>\n",
       "      <th>Combined</th>\n",
       "    </tr>\n",
       "  </thead>\n",
       "  <tbody>\n",
       "    <tr>\n",
       "      <th>0</th>\n",
       "      <td>1</td>\n",
       "      <td>Afpak</td>\n",
       "      <td>hybrid</td>\n",
       "      <td>[Earthy, Chemical, Pine]</td>\n",
       "      <td>[Relaxed, Hungry, Happy, Sleepy]</td>\n",
       "      <td>[Dizzy]</td>\n",
       "      <td>[Depression, Insomnia, Pain, Stress, Lack of A...</td>\n",
       "      <td>[Afpak, named for its direct Afghani and Pakis...</td>\n",
       "      <td>['Earthy', 'Chemical', 'Pine'],['Relaxed', 'Hu...</td>\n",
       "    </tr>\n",
       "    <tr>\n",
       "      <th>1</th>\n",
       "      <td>2</td>\n",
       "      <td>African</td>\n",
       "      <td>sativa</td>\n",
       "      <td>[Spicy/Herbal, Pungent, Earthy]</td>\n",
       "      <td>[Euphoric, Happy, Creative, Energetic, Talkative]</td>\n",
       "      <td>[Dry Mouth]</td>\n",
       "      <td>[Depression, Pain, Stress, Lack of Appetite, N...</td>\n",
       "      <td>[African refers to the indigenous varieties of...</td>\n",
       "      <td>['Spicy/Herbal', 'Pungent', 'Earthy'],['Euphor...</td>\n",
       "    </tr>\n",
       "    <tr>\n",
       "      <th>2</th>\n",
       "      <td>3</td>\n",
       "      <td>Afternoon Delight</td>\n",
       "      <td>hybrid</td>\n",
       "      <td>[Pepper, Flowery, Pine]</td>\n",
       "      <td>[Relaxed, Hungry, Euphoric, Uplifted, Tingly]</td>\n",
       "      <td>[Dizzy, Dry Mouth, Paranoid]</td>\n",
       "      <td>[Depression, Insomnia, Pain, Stress, Cramps, H...</td>\n",
       "      <td>[Afternoon Delight, created by Colorado Seed I...</td>\n",
       "      <td>['Pepper', 'Flowery', 'Pine'],['Relaxed', 'Hun...</td>\n",
       "    </tr>\n",
       "    <tr>\n",
       "      <th>3</th>\n",
       "      <td>4</td>\n",
       "      <td>Afwreck</td>\n",
       "      <td>hybrid</td>\n",
       "      <td>[Pine, Earthy, Flowery]</td>\n",
       "      <td>[Relaxed, Happy, Creative, Uplifted, Sleepy]</td>\n",
       "      <td>[Dizzy, Dry Mouth, Paranoid, Dry Eyes]</td>\n",
       "      <td>[Pain, Stress, Headache, Fatigue, Headaches, M...</td>\n",
       "      <td>[Afwreck is a hybrid cross of Afghani and Trai...</td>\n",
       "      <td>['Pine', 'Earthy', 'Flowery'],['Relaxed', 'Hap...</td>\n",
       "    </tr>\n",
       "    <tr>\n",
       "      <th>4</th>\n",
       "      <td>5</td>\n",
       "      <td>Agent Orange</td>\n",
       "      <td>hybrid</td>\n",
       "      <td>[Citrus, Orange, Sweet]</td>\n",
       "      <td>[Relaxed, Euphoric, Happy, Energetic, Uplifted]</td>\n",
       "      <td>[Dizzy, Dry Mouth, Paranoid, Dry Eyes]</td>\n",
       "      <td>[Depression, Pain, Stress, Nausea, Headache, H...</td>\n",
       "      <td>[Don’t let the name scare you! The only herbic...</td>\n",
       "      <td>['Citrus', 'Orange', 'Sweet'],['Relaxed', 'Eup...</td>\n",
       "    </tr>\n",
       "    <tr>\n",
       "      <th>...</th>\n",
       "      <td>...</td>\n",
       "      <td>...</td>\n",
       "      <td>...</td>\n",
       "      <td>...</td>\n",
       "      <td>...</td>\n",
       "      <td>...</td>\n",
       "      <td>...</td>\n",
       "      <td>...</td>\n",
       "      <td>...</td>\n",
       "    </tr>\n",
       "    <tr>\n",
       "      <th>1965</th>\n",
       "      <td>2158</td>\n",
       "      <td>Zeus OG</td>\n",
       "      <td>hybrid</td>\n",
       "      <td>[Earthy, Woody, Pine]</td>\n",
       "      <td>[Relaxed, Happy, Energetic, Uplifted, Focused]</td>\n",
       "      <td>[Dizzy, Dry Mouth, Paranoid, Dry Eyes]</td>\n",
       "      <td>[Depression, Insomnia, Pain, Stress, Fatigue]</td>\n",
       "      <td>[Zeus OG is a hybrid cross between Pineapple O...</td>\n",
       "      <td>['Earthy', 'Woody', 'Pine'],['Relaxed', 'Happy...</td>\n",
       "    </tr>\n",
       "    <tr>\n",
       "      <th>1966</th>\n",
       "      <td>2159</td>\n",
       "      <td>Zkittlez</td>\n",
       "      <td>indica</td>\n",
       "      <td>[Sweet, Berry, Grape]</td>\n",
       "      <td>[Relaxed, Euphoric, Happy, Uplifted, Sleepy]</td>\n",
       "      <td>[Dizzy, Dry Mouth, Dry Eyes]</td>\n",
       "      <td>[Depression, Insomnia, Pain, Stress, Nausea, H...</td>\n",
       "      <td>[Zkittlez is an indica-dominant mix of Grape A...</td>\n",
       "      <td>['Sweet', 'Berry', 'Grape'],['Relaxed', 'Eupho...</td>\n",
       "    </tr>\n",
       "    <tr>\n",
       "      <th>1967</th>\n",
       "      <td>2160</td>\n",
       "      <td>Zombie OG</td>\n",
       "      <td>indica</td>\n",
       "      <td>[Earthy, Pungent, Sweet]</td>\n",
       "      <td>[Relaxed, Euphoric, Happy, Sleepy, Giggly]</td>\n",
       "      <td>[Dizzy, Dry Mouth, Paranoid, Dry Eyes]</td>\n",
       "      <td>[Depression, Insomnia, Pain, Stress, Lack of A...</td>\n",
       "      <td>[If you’re looking to transform into a flesh-e...</td>\n",
       "      <td>['Earthy', 'Pungent', 'Sweet'],['Relaxed', 'Eu...</td>\n",
       "    </tr>\n",
       "    <tr>\n",
       "      <th>1968</th>\n",
       "      <td>2161</td>\n",
       "      <td>Zoom Pie</td>\n",
       "      <td>indica</td>\n",
       "      <td>[Berry, Earthy, Pungent]</td>\n",
       "      <td>[Relaxed, Hungry, Happy, Uplifted, Giggly]</td>\n",
       "      <td>[]</td>\n",
       "      <td>[Insomnia, Pain, Cramps, Lack of Appetite, Mus...</td>\n",
       "      <td>[Zoom Pie (also known as Zombie Pie) is a heav...</td>\n",
       "      <td>['Berry', 'Earthy', 'Pungent'],['Relaxed', 'Hu...</td>\n",
       "    </tr>\n",
       "    <tr>\n",
       "      <th>1969</th>\n",
       "      <td>2162</td>\n",
       "      <td>ʻAlenuihāhā</td>\n",
       "      <td>hybrid</td>\n",
       "      <td>[Sweet, Tropical, Pineapple]</td>\n",
       "      <td>[Euphoric, Happy, Creative, Energetic, Aroused]</td>\n",
       "      <td>[Dizzy, Dry Mouth, Paranoid, Anxious]</td>\n",
       "      <td>[Depression, Stress, Fatigue]</td>\n",
       "      <td>[ʻAlenuihāhā is a sativa-dominant hybrid by Pu...</td>\n",
       "      <td>['Sweet', 'Tropical', 'Pineapple'],['Euphoric'...</td>\n",
       "    </tr>\n",
       "  </tbody>\n",
       "</table>\n",
       "<p>1970 rows × 9 columns</p>\n",
       "</div>"
      ],
      "text/plain": [
       "        id               name    race                          flavors  \\\n",
       "0        1              Afpak  hybrid         [Earthy, Chemical, Pine]   \n",
       "1        2            African  sativa  [Spicy/Herbal, Pungent, Earthy]   \n",
       "2        3  Afternoon Delight  hybrid          [Pepper, Flowery, Pine]   \n",
       "3        4            Afwreck  hybrid          [Pine, Earthy, Flowery]   \n",
       "4        5       Agent Orange  hybrid          [Citrus, Orange, Sweet]   \n",
       "...    ...                ...     ...                              ...   \n",
       "1965  2158            Zeus OG  hybrid            [Earthy, Woody, Pine]   \n",
       "1966  2159           Zkittlez  indica            [Sweet, Berry, Grape]   \n",
       "1967  2160          Zombie OG  indica         [Earthy, Pungent, Sweet]   \n",
       "1968  2161           Zoom Pie  indica         [Berry, Earthy, Pungent]   \n",
       "1969  2162        ʻAlenuihāhā  hybrid     [Sweet, Tropical, Pineapple]   \n",
       "\n",
       "                                               positive  \\\n",
       "0                      [Relaxed, Hungry, Happy, Sleepy]   \n",
       "1     [Euphoric, Happy, Creative, Energetic, Talkative]   \n",
       "2         [Relaxed, Hungry, Euphoric, Uplifted, Tingly]   \n",
       "3          [Relaxed, Happy, Creative, Uplifted, Sleepy]   \n",
       "4       [Relaxed, Euphoric, Happy, Energetic, Uplifted]   \n",
       "...                                                 ...   \n",
       "1965     [Relaxed, Happy, Energetic, Uplifted, Focused]   \n",
       "1966       [Relaxed, Euphoric, Happy, Uplifted, Sleepy]   \n",
       "1967         [Relaxed, Euphoric, Happy, Sleepy, Giggly]   \n",
       "1968         [Relaxed, Hungry, Happy, Uplifted, Giggly]   \n",
       "1969    [Euphoric, Happy, Creative, Energetic, Aroused]   \n",
       "\n",
       "                                    negative  \\\n",
       "0                                    [Dizzy]   \n",
       "1                                [Dry Mouth]   \n",
       "2               [Dizzy, Dry Mouth, Paranoid]   \n",
       "3     [Dizzy, Dry Mouth, Paranoid, Dry Eyes]   \n",
       "4     [Dizzy, Dry Mouth, Paranoid, Dry Eyes]   \n",
       "...                                      ...   \n",
       "1965  [Dizzy, Dry Mouth, Paranoid, Dry Eyes]   \n",
       "1966            [Dizzy, Dry Mouth, Dry Eyes]   \n",
       "1967  [Dizzy, Dry Mouth, Paranoid, Dry Eyes]   \n",
       "1968                                      []   \n",
       "1969   [Dizzy, Dry Mouth, Paranoid, Anxious]   \n",
       "\n",
       "                                                medical  \\\n",
       "0     [Depression, Insomnia, Pain, Stress, Lack of A...   \n",
       "1     [Depression, Pain, Stress, Lack of Appetite, N...   \n",
       "2     [Depression, Insomnia, Pain, Stress, Cramps, H...   \n",
       "3     [Pain, Stress, Headache, Fatigue, Headaches, M...   \n",
       "4     [Depression, Pain, Stress, Nausea, Headache, H...   \n",
       "...                                                 ...   \n",
       "1965      [Depression, Insomnia, Pain, Stress, Fatigue]   \n",
       "1966  [Depression, Insomnia, Pain, Stress, Nausea, H...   \n",
       "1967  [Depression, Insomnia, Pain, Stress, Lack of A...   \n",
       "1968  [Insomnia, Pain, Cramps, Lack of Appetite, Mus...   \n",
       "1969                      [Depression, Stress, Fatigue]   \n",
       "\n",
       "                                            description  \\\n",
       "0     [Afpak, named for its direct Afghani and Pakis...   \n",
       "1     [African refers to the indigenous varieties of...   \n",
       "2     [Afternoon Delight, created by Colorado Seed I...   \n",
       "3     [Afwreck is a hybrid cross of Afghani and Trai...   \n",
       "4     [Don’t let the name scare you! The only herbic...   \n",
       "...                                                 ...   \n",
       "1965  [Zeus OG is a hybrid cross between Pineapple O...   \n",
       "1966  [Zkittlez is an indica-dominant mix of Grape A...   \n",
       "1967  [If you’re looking to transform into a flesh-e...   \n",
       "1968  [Zoom Pie (also known as Zombie Pie) is a heav...   \n",
       "1969  [ʻAlenuihāhā is a sativa-dominant hybrid by Pu...   \n",
       "\n",
       "                                               Combined  \n",
       "0     ['Earthy', 'Chemical', 'Pine'],['Relaxed', 'Hu...  \n",
       "1     ['Spicy/Herbal', 'Pungent', 'Earthy'],['Euphor...  \n",
       "2     ['Pepper', 'Flowery', 'Pine'],['Relaxed', 'Hun...  \n",
       "3     ['Pine', 'Earthy', 'Flowery'],['Relaxed', 'Hap...  \n",
       "4     ['Citrus', 'Orange', 'Sweet'],['Relaxed', 'Eup...  \n",
       "...                                                 ...  \n",
       "1965  ['Earthy', 'Woody', 'Pine'],['Relaxed', 'Happy...  \n",
       "1966  ['Sweet', 'Berry', 'Grape'],['Relaxed', 'Eupho...  \n",
       "1967  ['Earthy', 'Pungent', 'Sweet'],['Relaxed', 'Eu...  \n",
       "1968  ['Berry', 'Earthy', 'Pungent'],['Relaxed', 'Hu...  \n",
       "1969  ['Sweet', 'Tropical', 'Pineapple'],['Euphoric'...  \n",
       "\n",
       "[1970 rows x 9 columns]"
      ]
     },
     "execution_count": 96,
     "metadata": {},
     "output_type": "execute_result"
    }
   ],
   "source": [
    "# Combine everything in one column\n",
    "strains['Combined'] = strains[strains.columns[3:]].apply(\n",
    "    lambda x: ','.join(x.dropna().astype(str)),\n",
    "    axis=1\n",
    ")\n",
    "strains"
   ]
  },
  {
   "cell_type": "raw",
   "metadata": {},
   "source": [
    "strains.head()"
   ]
  },
  {
   "cell_type": "code",
   "execution_count": 131,
   "metadata": {},
   "outputs": [
    {
     "data": {
      "text/html": [
       "<div>\n",
       "<style scoped>\n",
       "    .dataframe tbody tr th:only-of-type {\n",
       "        vertical-align: middle;\n",
       "    }\n",
       "\n",
       "    .dataframe tbody tr th {\n",
       "        vertical-align: top;\n",
       "    }\n",
       "\n",
       "    .dataframe thead th {\n",
       "        text-align: right;\n",
       "    }\n",
       "</style>\n",
       "<table border=\"1\" class=\"dataframe\">\n",
       "  <thead>\n",
       "    <tr style=\"text-align: right;\">\n",
       "      <th></th>\n",
       "      <th>id</th>\n",
       "      <th>name</th>\n",
       "      <th>race</th>\n",
       "      <th>flavors</th>\n",
       "      <th>positive</th>\n",
       "      <th>negative</th>\n",
       "      <th>medical</th>\n",
       "      <th>description</th>\n",
       "      <th>Combined</th>\n",
       "    </tr>\n",
       "  </thead>\n",
       "  <tbody>\n",
       "    <tr>\n",
       "      <th>1965</th>\n",
       "      <td>2158</td>\n",
       "      <td>Zeus OG</td>\n",
       "      <td>hybrid</td>\n",
       "      <td>[Earthy, Woody, Pine]</td>\n",
       "      <td>[Relaxed, Happy, Energetic, Uplifted, Focused]</td>\n",
       "      <td>[Dizzy, Dry Mouth, Paranoid, Dry Eyes]</td>\n",
       "      <td>[Depression, Insomnia, Pain, Stress, Fatigue]</td>\n",
       "      <td>[Zeus OG is a hybrid cross between Pineapple O...</td>\n",
       "      <td>['Earthy', 'Woody', 'Pine'],['Relaxed', 'Happy...</td>\n",
       "    </tr>\n",
       "    <tr>\n",
       "      <th>1966</th>\n",
       "      <td>2159</td>\n",
       "      <td>Zkittlez</td>\n",
       "      <td>indica</td>\n",
       "      <td>[Sweet, Berry, Grape]</td>\n",
       "      <td>[Relaxed, Euphoric, Happy, Uplifted, Sleepy]</td>\n",
       "      <td>[Dizzy, Dry Mouth, Dry Eyes]</td>\n",
       "      <td>[Depression, Insomnia, Pain, Stress, Nausea, H...</td>\n",
       "      <td>[Zkittlez is an indica-dominant mix of Grape A...</td>\n",
       "      <td>['Sweet', 'Berry', 'Grape'],['Relaxed', 'Eupho...</td>\n",
       "    </tr>\n",
       "    <tr>\n",
       "      <th>1967</th>\n",
       "      <td>2160</td>\n",
       "      <td>Zombie OG</td>\n",
       "      <td>indica</td>\n",
       "      <td>[Earthy, Pungent, Sweet]</td>\n",
       "      <td>[Relaxed, Euphoric, Happy, Sleepy, Giggly]</td>\n",
       "      <td>[Dizzy, Dry Mouth, Paranoid, Dry Eyes]</td>\n",
       "      <td>[Depression, Insomnia, Pain, Stress, Lack of A...</td>\n",
       "      <td>[If you’re looking to transform into a flesh-e...</td>\n",
       "      <td>['Earthy', 'Pungent', 'Sweet'],['Relaxed', 'Eu...</td>\n",
       "    </tr>\n",
       "    <tr>\n",
       "      <th>1968</th>\n",
       "      <td>2161</td>\n",
       "      <td>Zoom Pie</td>\n",
       "      <td>indica</td>\n",
       "      <td>[Berry, Earthy, Pungent]</td>\n",
       "      <td>[Relaxed, Hungry, Happy, Uplifted, Giggly]</td>\n",
       "      <td>[]</td>\n",
       "      <td>[Insomnia, Pain, Cramps, Lack of Appetite, Mus...</td>\n",
       "      <td>[Zoom Pie (also known as Zombie Pie) is a heav...</td>\n",
       "      <td>['Berry', 'Earthy', 'Pungent'],['Relaxed', 'Hu...</td>\n",
       "    </tr>\n",
       "    <tr>\n",
       "      <th>1969</th>\n",
       "      <td>2162</td>\n",
       "      <td>ʻAlenuihāhā</td>\n",
       "      <td>hybrid</td>\n",
       "      <td>[Sweet, Tropical, Pineapple]</td>\n",
       "      <td>[Euphoric, Happy, Creative, Energetic, Aroused]</td>\n",
       "      <td>[Dizzy, Dry Mouth, Paranoid, Anxious]</td>\n",
       "      <td>[Depression, Stress, Fatigue]</td>\n",
       "      <td>[ʻAlenuihāhā is a sativa-dominant hybrid by Pu...</td>\n",
       "      <td>['Sweet', 'Tropical', 'Pineapple'],['Euphoric'...</td>\n",
       "    </tr>\n",
       "  </tbody>\n",
       "</table>\n",
       "</div>"
      ],
      "text/plain": [
       "        id         name    race                       flavors  \\\n",
       "1965  2158      Zeus OG  hybrid         [Earthy, Woody, Pine]   \n",
       "1966  2159     Zkittlez  indica         [Sweet, Berry, Grape]   \n",
       "1967  2160    Zombie OG  indica      [Earthy, Pungent, Sweet]   \n",
       "1968  2161     Zoom Pie  indica      [Berry, Earthy, Pungent]   \n",
       "1969  2162  ʻAlenuihāhā  hybrid  [Sweet, Tropical, Pineapple]   \n",
       "\n",
       "                                             positive  \\\n",
       "1965   [Relaxed, Happy, Energetic, Uplifted, Focused]   \n",
       "1966     [Relaxed, Euphoric, Happy, Uplifted, Sleepy]   \n",
       "1967       [Relaxed, Euphoric, Happy, Sleepy, Giggly]   \n",
       "1968       [Relaxed, Hungry, Happy, Uplifted, Giggly]   \n",
       "1969  [Euphoric, Happy, Creative, Energetic, Aroused]   \n",
       "\n",
       "                                    negative  \\\n",
       "1965  [Dizzy, Dry Mouth, Paranoid, Dry Eyes]   \n",
       "1966            [Dizzy, Dry Mouth, Dry Eyes]   \n",
       "1967  [Dizzy, Dry Mouth, Paranoid, Dry Eyes]   \n",
       "1968                                      []   \n",
       "1969   [Dizzy, Dry Mouth, Paranoid, Anxious]   \n",
       "\n",
       "                                                medical  \\\n",
       "1965      [Depression, Insomnia, Pain, Stress, Fatigue]   \n",
       "1966  [Depression, Insomnia, Pain, Stress, Nausea, H...   \n",
       "1967  [Depression, Insomnia, Pain, Stress, Lack of A...   \n",
       "1968  [Insomnia, Pain, Cramps, Lack of Appetite, Mus...   \n",
       "1969                      [Depression, Stress, Fatigue]   \n",
       "\n",
       "                                            description  \\\n",
       "1965  [Zeus OG is a hybrid cross between Pineapple O...   \n",
       "1966  [Zkittlez is an indica-dominant mix of Grape A...   \n",
       "1967  [If you’re looking to transform into a flesh-e...   \n",
       "1968  [Zoom Pie (also known as Zombie Pie) is a heav...   \n",
       "1969  [ʻAlenuihāhā is a sativa-dominant hybrid by Pu...   \n",
       "\n",
       "                                               Combined  \n",
       "1965  ['Earthy', 'Woody', 'Pine'],['Relaxed', 'Happy...  \n",
       "1966  ['Sweet', 'Berry', 'Grape'],['Relaxed', 'Eupho...  \n",
       "1967  ['Earthy', 'Pungent', 'Sweet'],['Relaxed', 'Eu...  \n",
       "1968  ['Berry', 'Earthy', 'Pungent'],['Relaxed', 'Hu...  \n",
       "1969  ['Sweet', 'Tropical', 'Pineapple'],['Euphoric'...  "
      ]
     },
     "execution_count": 131,
     "metadata": {},
     "output_type": "execute_result"
    }
   ],
   "source": [
    "strains.tail()"
   ]
  },
  {
   "cell_type": "code",
   "execution_count": 98,
   "metadata": {
    "collapsed": true,
    "jupyter": {
     "outputs_hidden": true
    }
   },
   "outputs": [
    {
     "name": "stdout",
     "output_type": "stream",
     "text": [
      "Requirement already satisfied: en_core_web_lg==2.2.5 from https://github.com/explosion/spacy-models/releases/download/en_core_web_lg-2.2.5/en_core_web_lg-2.2.5.tar.gz#egg=en_core_web_lg==2.2.5 in /Users/Medy/opt/anaconda3/lib/python3.7/site-packages (2.2.5)\n",
      "Requirement already satisfied: spacy>=2.2.2 in /Users/Medy/opt/anaconda3/lib/python3.7/site-packages (from en_core_web_lg==2.2.5) (2.2.3)\n",
      "Requirement already satisfied: setuptools in /Users/Medy/opt/anaconda3/lib/python3.7/site-packages (from spacy>=2.2.2->en_core_web_lg==2.2.5) (41.4.0)\n",
      "Requirement already satisfied: thinc<7.4.0,>=7.3.0 in /Users/Medy/opt/anaconda3/lib/python3.7/site-packages (from spacy>=2.2.2->en_core_web_lg==2.2.5) (7.3.1)\n",
      "Requirement already satisfied: preshed<3.1.0,>=3.0.2 in /Users/Medy/opt/anaconda3/lib/python3.7/site-packages (from spacy>=2.2.2->en_core_web_lg==2.2.5) (3.0.2)\n",
      "Requirement already satisfied: wasabi<1.1.0,>=0.4.0 in /Users/Medy/opt/anaconda3/lib/python3.7/site-packages (from spacy>=2.2.2->en_core_web_lg==2.2.5) (0.6.0)\n",
      "Requirement already satisfied: catalogue<1.1.0,>=0.0.7 in /Users/Medy/opt/anaconda3/lib/python3.7/site-packages (from spacy>=2.2.2->en_core_web_lg==2.2.5) (1.0.0)\n",
      "Requirement already satisfied: requests<3.0.0,>=2.13.0 in /Users/Medy/opt/anaconda3/lib/python3.7/site-packages (from spacy>=2.2.2->en_core_web_lg==2.2.5) (2.22.0)\n",
      "Requirement already satisfied: srsly<1.1.0,>=0.1.0 in /Users/Medy/opt/anaconda3/lib/python3.7/site-packages (from spacy>=2.2.2->en_core_web_lg==2.2.5) (1.0.1)\n",
      "Requirement already satisfied: murmurhash<1.1.0,>=0.28.0 in /Users/Medy/opt/anaconda3/lib/python3.7/site-packages (from spacy>=2.2.2->en_core_web_lg==2.2.5) (1.0.2)\n",
      "Requirement already satisfied: plac<1.2.0,>=0.9.6 in /Users/Medy/opt/anaconda3/lib/python3.7/site-packages (from spacy>=2.2.2->en_core_web_lg==2.2.5) (1.1.3)\n",
      "Requirement already satisfied: blis<0.5.0,>=0.4.0 in /Users/Medy/opt/anaconda3/lib/python3.7/site-packages (from spacy>=2.2.2->en_core_web_lg==2.2.5) (0.4.1)\n",
      "Requirement already satisfied: numpy>=1.15.0 in /Users/Medy/opt/anaconda3/lib/python3.7/site-packages (from spacy>=2.2.2->en_core_web_lg==2.2.5) (1.17.2)\n",
      "Requirement already satisfied: cymem<2.1.0,>=2.0.2 in /Users/Medy/opt/anaconda3/lib/python3.7/site-packages (from spacy>=2.2.2->en_core_web_lg==2.2.5) (2.0.3)\n",
      "Requirement already satisfied: tqdm<5.0.0,>=4.10.0 in /Users/Medy/opt/anaconda3/lib/python3.7/site-packages (from thinc<7.4.0,>=7.3.0->spacy>=2.2.2->en_core_web_lg==2.2.5) (4.42.0)\n",
      "Requirement already satisfied: importlib-metadata>=0.20; python_version < \"3.8\" in /Users/Medy/opt/anaconda3/lib/python3.7/site-packages (from catalogue<1.1.0,>=0.0.7->spacy>=2.2.2->en_core_web_lg==2.2.5) (0.23)\n",
      "Requirement already satisfied: chardet<3.1.0,>=3.0.2 in /Users/Medy/opt/anaconda3/lib/python3.7/site-packages (from requests<3.0.0,>=2.13.0->spacy>=2.2.2->en_core_web_lg==2.2.5) (3.0.4)\n",
      "Requirement already satisfied: certifi>=2017.4.17 in /Users/Medy/opt/anaconda3/lib/python3.7/site-packages (from requests<3.0.0,>=2.13.0->spacy>=2.2.2->en_core_web_lg==2.2.5) (2019.9.11)\n",
      "Requirement already satisfied: idna<2.9,>=2.5 in /Users/Medy/opt/anaconda3/lib/python3.7/site-packages (from requests<3.0.0,>=2.13.0->spacy>=2.2.2->en_core_web_lg==2.2.5) (2.8)\n",
      "Requirement already satisfied: urllib3!=1.25.0,!=1.25.1,<1.26,>=1.21.1 in /Users/Medy/opt/anaconda3/lib/python3.7/site-packages (from requests<3.0.0,>=2.13.0->spacy>=2.2.2->en_core_web_lg==2.2.5) (1.24.2)\n",
      "Requirement already satisfied: zipp>=0.5 in /Users/Medy/opt/anaconda3/lib/python3.7/site-packages (from importlib-metadata>=0.20; python_version < \"3.8\"->catalogue<1.1.0,>=0.0.7->spacy>=2.2.2->en_core_web_lg==2.2.5) (0.6.0)\n",
      "Requirement already satisfied: more-itertools in /Users/Medy/opt/anaconda3/lib/python3.7/site-packages (from zipp>=0.5->importlib-metadata>=0.20; python_version < \"3.8\"->catalogue<1.1.0,>=0.0.7->spacy>=2.2.2->en_core_web_lg==2.2.5) (7.2.0)\n",
      "\u001b[38;5;2m✔ Download and installation successful\u001b[0m\n",
      "You can now load the model via spacy.load('en_core_web_lg')\n"
     ]
    }
   ],
   "source": [
    "!python -m spacy download en_core_web_lg"
   ]
  },
  {
   "cell_type": "code",
   "execution_count": 99,
   "metadata": {},
   "outputs": [],
   "source": [
    "import pandas as pd\n",
    "from flask import request\n",
    "import requests\n",
    "import json\n",
    "import seaborn as sns\n",
    "import matplotlib.pyplot as plt\n",
    "\n",
    "from sklearn.feature_extraction.text import CountVectorizer, TfidfVectorizer\n",
    "from sklearn.metrics.pairwise import cosine_similarity\n",
    "from sklearn.neighbors import NearestNeighbors\n",
    "from sklearn.decomposition import PCA\n",
    "import spacy\n",
    "import seaborn as sns\n",
    "nlp = spacy.load('en_core_web_lg')"
   ]
  },
  {
   "cell_type": "code",
   "execution_count": 100,
   "metadata": {},
   "outputs": [
    {
     "data": {
      "text/plain": [
       "\"['Earthy', 'Chemical', 'Pine'],['Relaxed', 'Hungry', 'Happy', 'Sleepy'],['Dizzy'],['Depression', 'Insomnia', 'Pain', 'Stress', 'Lack of Appetite'],['Afpak, named for its direct Afghani and Pakistani landrace heritage, is a beautiful indica-dominant hybrid with light green and deep bluish purple leaves. The taste and aroma are floral with a touch of lemon, making the inhale light and smooth. Its effects start in the stomach by activating the appetite. There is also a potent relaxation that starts in the head and face, and gradually sinks down into the body. Enjoy this strain if you’re suffering from stress, mild physical discomfort, or having difficulty eating. \\\\xa0']\""
      ]
     },
     "execution_count": 100,
     "metadata": {},
     "output_type": "execute_result"
    }
   ],
   "source": [
    "strains['Combined'][0]"
   ]
  },
  {
   "cell_type": "code",
   "execution_count": 101,
   "metadata": {},
   "outputs": [
    {
     "data": {
      "text/plain": [
       "str"
      ]
     },
     "execution_count": 101,
     "metadata": {},
     "output_type": "execute_result"
    }
   ],
   "source": [
    "type(strains['Combined'][0])"
   ]
  },
  {
   "cell_type": "code",
   "execution_count": 102,
   "metadata": {},
   "outputs": [],
   "source": [
    "# vect = CountVectorizer()\n",
    "# vect.fit(strains['Combined'])"
   ]
  },
  {
   "cell_type": "code",
   "execution_count": 104,
   "metadata": {},
   "outputs": [],
   "source": [
    "tfidf = TfidfVectorizer(stop_words='english', max_features=5000)"
   ]
  },
  {
   "cell_type": "code",
   "execution_count": 105,
   "metadata": {},
   "outputs": [],
   "source": [
    "dtm = tfidf.fit_transform(strains['Combined'])"
   ]
  },
  {
   "cell_type": "code",
   "execution_count": 106,
   "metadata": {},
   "outputs": [],
   "source": [
    "# dtm = vect.transform(strains['Combined'])\n",
    "# print(vect.get_feature_names())"
   ]
  },
  {
   "cell_type": "code",
   "execution_count": 132,
   "metadata": {},
   "outputs": [
    {
     "data": {
      "text/plain": [
       "['tfidf.joblib']"
      ]
     },
     "execution_count": 132,
     "metadata": {},
     "output_type": "execute_result"
    }
   ],
   "source": [
    "dump(tfidf, 'tfidf.joblib', compress=1)"
   ]
  },
  {
   "cell_type": "code",
   "execution_count": 108,
   "metadata": {
    "collapsed": true,
    "jupyter": {
     "outputs_hidden": true
    }
   },
   "outputs": [
    {
     "name": "stdout",
     "output_type": "stream",
     "text": [
      "  (0, 4729)\t0.06614190116404875\n",
      "  (0, 1346)\t0.20056750901749404\n",
      "  (0, 1201)\t0.20056750901749404\n",
      "  (0, 1964)\t0.1681376414091121\n",
      "  (0, 1212)\t0.15305861169082652\n",
      "  (0, 3156)\t0.09967984827087434\n",
      "  (0, 2740)\t0.13918460388195986\n",
      "  (0, 4111)\t0.1438376428516664\n",
      "  (0, 4054)\t0.03999843507304799\n",
      "  (0, 1421)\t0.11189170309126688\n",
      "  (0, 501)\t0.0659869457551453\n",
      "  (0, 3816)\t0.19601714471690837\n",
      "  (0, 1857)\t0.18267502404782712\n",
      "  (0, 1546)\t0.15616874217924157\n",
      "  (0, 1975)\t0.11391087891862153\n",
      "  (0, 4008)\t0.20056750901749404\n",
      "  (0, 3463)\t0.09000212024244383\n",
      "  (0, 3234)\t0.08431188700332537\n",
      "  (0, 132)\t0.22102847739600542\n",
      "  (0, 4042)\t0.20056750901749404\n",
      "  (0, 4005)\t0.18010654063898265\n",
      "  (0, 1356)\t0.05069233598293972\n",
      "  (0, 3862)\t0.13162972257811226\n",
      "  (0, 2190)\t0.1665416344776096\n",
      "  (0, 2611)\t0.10954769937723487\n",
      "  :\t:\n",
      "  (1969, 252)\t0.05532042083329067\n",
      "  (1969, 3654)\t0.14597971448555414\n",
      "  (1969, 2606)\t0.09149842880016443\n",
      "  (1969, 4175)\t0.03749617441824365\n",
      "  (1969, 3625)\t0.05022284670924727\n",
      "  (1969, 1581)\t0.09889057077529101\n",
      "  (1969, 2748)\t0.07549549572120293\n",
      "  (1969, 3669)\t0.09229994634662274\n",
      "  (1969, 3075)\t0.0489631505121633\n",
      "  (1969, 4517)\t0.03728462248616239\n",
      "  (1969, 2810)\t0.032005742296827316\n",
      "  (1969, 1302)\t0.03051107569949185\n",
      "  (1969, 1407)\t0.05259825409850825\n",
      "  (1969, 1024)\t0.047411288256854624\n",
      "  (1969, 1464)\t0.03183691363696386\n",
      "  (1969, 4729)\t0.1086437642462666\n",
      "  (1969, 4054)\t0.03285043575870069\n",
      "  (1969, 1356)\t0.041633261991995595\n",
      "  (1969, 2102)\t0.043793194666002934\n",
      "  (1969, 1257)\t0.04799394187611041\n",
      "  (1969, 2848)\t0.08924157273555702\n",
      "  (1969, 4064)\t0.027293700232358057\n",
      "  (1969, 1164)\t0.059609340034136184\n",
      "  (1969, 1239)\t0.04565350556768017\n",
      "  (1969, 1939)\t0.05669712021523096\n"
     ]
    }
   ],
   "source": [
    "print(dtm)"
   ]
  },
  {
   "cell_type": "code",
   "execution_count": 109,
   "metadata": {},
   "outputs": [],
   "source": [
    "# dtm.todense()\n",
    "# dtm = vect.transform(strains['Combined'])"
   ]
  },
  {
   "cell_type": "code",
   "execution_count": 111,
   "metadata": {},
   "outputs": [],
   "source": [
    "dtm = pd.DataFrame(dtm.todense(), columns=tfidf.get_feature_names())"
   ]
  },
  {
   "cell_type": "code",
   "execution_count": 112,
   "metadata": {},
   "outputs": [
    {
     "data": {
      "text/html": [
       "<div>\n",
       "<style scoped>\n",
       "    .dataframe tbody tr th:only-of-type {\n",
       "        vertical-align: middle;\n",
       "    }\n",
       "\n",
       "    .dataframe tbody tr th {\n",
       "        vertical-align: top;\n",
       "    }\n",
       "\n",
       "    .dataframe thead th {\n",
       "        text-align: right;\n",
       "    }\n",
       "</style>\n",
       "<table border=\"1\" class=\"dataframe\">\n",
       "  <thead>\n",
       "    <tr style=\"text-align: right;\">\n",
       "      <th></th>\n",
       "      <th>09</th>\n",
       "      <th>10</th>\n",
       "      <th>100</th>\n",
       "      <th>11</th>\n",
       "      <th>12</th>\n",
       "      <th>13</th>\n",
       "      <th>14</th>\n",
       "      <th>15</th>\n",
       "      <th>16</th>\n",
       "      <th>17</th>\n",
       "      <th>...</th>\n",
       "      <th>zen</th>\n",
       "      <th>zest</th>\n",
       "      <th>zestful</th>\n",
       "      <th>zesty</th>\n",
       "      <th>zeta</th>\n",
       "      <th>zion</th>\n",
       "      <th>zkittlez</th>\n",
       "      <th>zombie</th>\n",
       "      <th>zone</th>\n",
       "      <th>ʻalenuihāhā</th>\n",
       "    </tr>\n",
       "  </thead>\n",
       "  <tbody>\n",
       "    <tr>\n",
       "      <th>0</th>\n",
       "      <td>0.0</td>\n",
       "      <td>0.0</td>\n",
       "      <td>0.0</td>\n",
       "      <td>0.0</td>\n",
       "      <td>0.0</td>\n",
       "      <td>0.0</td>\n",
       "      <td>0.0</td>\n",
       "      <td>0.0</td>\n",
       "      <td>0.0</td>\n",
       "      <td>0.0</td>\n",
       "      <td>...</td>\n",
       "      <td>0.0</td>\n",
       "      <td>0.0</td>\n",
       "      <td>0.0</td>\n",
       "      <td>0.0</td>\n",
       "      <td>0.0</td>\n",
       "      <td>0.0</td>\n",
       "      <td>0.0</td>\n",
       "      <td>0.0</td>\n",
       "      <td>0.0</td>\n",
       "      <td>0.0</td>\n",
       "    </tr>\n",
       "    <tr>\n",
       "      <th>1</th>\n",
       "      <td>0.0</td>\n",
       "      <td>0.0</td>\n",
       "      <td>0.0</td>\n",
       "      <td>0.0</td>\n",
       "      <td>0.0</td>\n",
       "      <td>0.0</td>\n",
       "      <td>0.0</td>\n",
       "      <td>0.0</td>\n",
       "      <td>0.0</td>\n",
       "      <td>0.0</td>\n",
       "      <td>...</td>\n",
       "      <td>0.0</td>\n",
       "      <td>0.0</td>\n",
       "      <td>0.0</td>\n",
       "      <td>0.0</td>\n",
       "      <td>0.0</td>\n",
       "      <td>0.0</td>\n",
       "      <td>0.0</td>\n",
       "      <td>0.0</td>\n",
       "      <td>0.0</td>\n",
       "      <td>0.0</td>\n",
       "    </tr>\n",
       "    <tr>\n",
       "      <th>2</th>\n",
       "      <td>0.0</td>\n",
       "      <td>0.0</td>\n",
       "      <td>0.0</td>\n",
       "      <td>0.0</td>\n",
       "      <td>0.0</td>\n",
       "      <td>0.0</td>\n",
       "      <td>0.0</td>\n",
       "      <td>0.0</td>\n",
       "      <td>0.0</td>\n",
       "      <td>0.0</td>\n",
       "      <td>...</td>\n",
       "      <td>0.0</td>\n",
       "      <td>0.0</td>\n",
       "      <td>0.0</td>\n",
       "      <td>0.0</td>\n",
       "      <td>0.0</td>\n",
       "      <td>0.0</td>\n",
       "      <td>0.0</td>\n",
       "      <td>0.0</td>\n",
       "      <td>0.0</td>\n",
       "      <td>0.0</td>\n",
       "    </tr>\n",
       "    <tr>\n",
       "      <th>3</th>\n",
       "      <td>0.0</td>\n",
       "      <td>0.0</td>\n",
       "      <td>0.0</td>\n",
       "      <td>0.0</td>\n",
       "      <td>0.0</td>\n",
       "      <td>0.0</td>\n",
       "      <td>0.0</td>\n",
       "      <td>0.0</td>\n",
       "      <td>0.0</td>\n",
       "      <td>0.0</td>\n",
       "      <td>...</td>\n",
       "      <td>0.0</td>\n",
       "      <td>0.0</td>\n",
       "      <td>0.0</td>\n",
       "      <td>0.0</td>\n",
       "      <td>0.0</td>\n",
       "      <td>0.0</td>\n",
       "      <td>0.0</td>\n",
       "      <td>0.0</td>\n",
       "      <td>0.0</td>\n",
       "      <td>0.0</td>\n",
       "    </tr>\n",
       "    <tr>\n",
       "      <th>4</th>\n",
       "      <td>0.0</td>\n",
       "      <td>0.0</td>\n",
       "      <td>0.0</td>\n",
       "      <td>0.0</td>\n",
       "      <td>0.0</td>\n",
       "      <td>0.0</td>\n",
       "      <td>0.0</td>\n",
       "      <td>0.0</td>\n",
       "      <td>0.0</td>\n",
       "      <td>0.0</td>\n",
       "      <td>...</td>\n",
       "      <td>0.0</td>\n",
       "      <td>0.0</td>\n",
       "      <td>0.0</td>\n",
       "      <td>0.0</td>\n",
       "      <td>0.0</td>\n",
       "      <td>0.0</td>\n",
       "      <td>0.0</td>\n",
       "      <td>0.0</td>\n",
       "      <td>0.0</td>\n",
       "      <td>0.0</td>\n",
       "    </tr>\n",
       "  </tbody>\n",
       "</table>\n",
       "<p>5 rows × 5000 columns</p>\n",
       "</div>"
      ],
      "text/plain": [
       "    09   10  100   11   12   13   14   15   16   17  ...  zen  zest  zestful  \\\n",
       "0  0.0  0.0  0.0  0.0  0.0  0.0  0.0  0.0  0.0  0.0  ...  0.0   0.0      0.0   \n",
       "1  0.0  0.0  0.0  0.0  0.0  0.0  0.0  0.0  0.0  0.0  ...  0.0   0.0      0.0   \n",
       "2  0.0  0.0  0.0  0.0  0.0  0.0  0.0  0.0  0.0  0.0  ...  0.0   0.0      0.0   \n",
       "3  0.0  0.0  0.0  0.0  0.0  0.0  0.0  0.0  0.0  0.0  ...  0.0   0.0      0.0   \n",
       "4  0.0  0.0  0.0  0.0  0.0  0.0  0.0  0.0  0.0  0.0  ...  0.0   0.0      0.0   \n",
       "\n",
       "   zesty  zeta  zion  zkittlez  zombie  zone  ʻalenuihāhā  \n",
       "0    0.0   0.0   0.0       0.0     0.0   0.0          0.0  \n",
       "1    0.0   0.0   0.0       0.0     0.0   0.0          0.0  \n",
       "2    0.0   0.0   0.0       0.0     0.0   0.0          0.0  \n",
       "3    0.0   0.0   0.0       0.0     0.0   0.0          0.0  \n",
       "4    0.0   0.0   0.0       0.0     0.0   0.0          0.0  \n",
       "\n",
       "[5 rows x 5000 columns]"
      ]
     },
     "execution_count": 112,
     "metadata": {},
     "output_type": "execute_result"
    }
   ],
   "source": [
    "dtm.head()"
   ]
  },
  {
   "cell_type": "code",
   "execution_count": 113,
   "metadata": {},
   "outputs": [],
   "source": [
    "# doc_len = [len(doc) for doc in strains['Combined']]\n",
    "# sns.distplot(doc_len);"
   ]
  },
  {
   "cell_type": "code",
   "execution_count": 115,
   "metadata": {},
   "outputs": [],
   "source": [
    "# Calculate Distance of TF-IDF Vectors\n",
    "from sklearn.metrics.pairwise import cosine_similarity\n",
    "\n",
    "dist_matrix  = cosine_similarity(dtm)"
   ]
  },
  {
   "cell_type": "code",
   "execution_count": 116,
   "metadata": {},
   "outputs": [],
   "source": [
    "df = pd.DataFrame(dist_matrix)"
   ]
  },
  {
   "cell_type": "code",
   "execution_count": 117,
   "metadata": {},
   "outputs": [
    {
     "data": {
      "text/plain": [
       "(1970, 1970)"
      ]
     },
     "execution_count": 117,
     "metadata": {},
     "output_type": "execute_result"
    }
   ],
   "source": [
    "df.shape"
   ]
  },
  {
   "cell_type": "code",
   "execution_count": 118,
   "metadata": {},
   "outputs": [
    {
     "data": {
      "text/plain": [
       "\"['Earthy', 'Chemical', 'Pine'],['Relaxed', 'Hungry', 'Happy', 'Sleepy'],['Dizzy'],['Depression', 'Insomnia', 'Pain', 'Stress', 'Lack of Appetite'],['Afpak, named for its direct Afghani and Pakistani landrace heritage, is a beautiful indica-dominant hybrid with light green and deep bluish purple leaves. The taste and aroma are floral with a touch of lemon, making the inhale light and smooth. Its effects start in the stomach by activating the appetite. There is also a potent relaxation that starts in the head and face, and gradually sinks down into the body. Enjoy this strain if you’re suffering from stress, mild physical discomfort, or having difficulty eating. \\\\xa0']\""
      ]
     },
     "execution_count": 118,
     "metadata": {},
     "output_type": "execute_result"
    }
   ],
   "source": [
    "strains['Combined'][0]"
   ]
  },
  {
   "cell_type": "code",
   "execution_count": 119,
   "metadata": {},
   "outputs": [
    {
     "data": {
      "text/plain": [
       "0       1.000000\n",
       "1       0.044468\n",
       "2       0.060770\n",
       "3       0.106337\n",
       "4       0.053862\n",
       "          ...   \n",
       "1965    0.036566\n",
       "1966    0.065819\n",
       "1967    0.126475\n",
       "1968    0.099830\n",
       "1969    0.033919\n",
       "Name: 0, Length: 1970, dtype: float64"
      ]
     },
     "execution_count": 119,
     "metadata": {},
     "output_type": "execute_result"
    }
   ],
   "source": [
    "df[0]"
   ]
  },
  {
   "cell_type": "code",
   "execution_count": 120,
   "metadata": {},
   "outputs": [
    {
     "data": {
      "text/plain": [
       "0       1.000000\n",
       "593     0.200106\n",
       "1383    0.162912\n",
       "1122    0.156385\n",
       "946     0.147333\n",
       "Name: 0, dtype: float64"
      ]
     },
     "execution_count": 120,
     "metadata": {},
     "output_type": "execute_result"
    }
   ],
   "source": [
    "# Grab the row\n",
    "df[df[0] < 1][0].sort_values(ascending=False)[:5]"
   ]
  },
  {
   "cell_type": "code",
   "execution_count": 121,
   "metadata": {},
   "outputs": [
    {
     "name": "stdout",
     "output_type": "stream",
     "text": [
      "['Earthy', 'Chemical', 'Pine'],['Relaxed', 'Hungry', 'Happy', 'Sleepy'],['Dizzy'],['Depression', 'Insomnia', 'Pain', 'Stress', 'Lack of Appetite'],['Afpak, named for its direct Afghani and Pakistani landrace heritage, is a beautiful indica-dominant hybrid with light green and deep bluish purple leaves. The taste and aroma are floral with a touch of lemon, making the inhale light and smooth. Its effects start in the stomach by activating the appetite. There is also a potent relaxation that starts in the head and face, and gradually sinks down into the body. Enjoy this strain if you’re suffering from stress, mild physical discomfort, or having difficulty eating. \\xa0']\n"
     ]
    }
   ],
   "source": [
    "print(strains['Combined'][0])"
   ]
  },
  {
   "cell_type": "code",
   "execution_count": 122,
   "metadata": {},
   "outputs": [
    {
     "name": "stdout",
     "output_type": "stream",
     "text": [
      "['Earthy', 'Sweet', 'Pungent'],['Relaxed', 'Hungry', 'Euphoric', 'Happy', 'Sleepy'],['Dizzy', 'Dry Mouth', 'Paranoid', 'Dry Eyes', 'Anxious'],['Depression', 'Insomnia', 'Pain', 'Stress', 'Lack of Appetite'],['Do-Si-Dos is an indica-dominant hybrid with qualities similar to its parent, Girl Scout Cookies. With glittering trichomes, bright pistils, and lime green and lavender leaves, this strain is a feast for eyes. Its aroma is pungent, sweet, and earthy with slight floral funkiness. These classic OG aromas blend nicely with medical-grade body effects that lean toward the sedative side with the addition of Face Off OG genetics. Enjoy a stoney, in-your-face buzz off the start that melts down over the body, prettifying the consumer with relaxation that emanates outward.\\xa0']\n"
     ]
    }
   ],
   "source": [
    "print(strains['Combined'][593])"
   ]
  },
  {
   "cell_type": "code",
   "execution_count": 150,
   "metadata": {},
   "outputs": [
    {
     "data": {
      "text/plain": [
       "Index(['09', '10', '100', '11', '12', '13', '14', '15', '16', '17',\n",
       "       ...\n",
       "       'zen', 'zest', 'zestful', 'zesty', 'zeta', 'zion', 'zkittlez', 'zombie',\n",
       "       'zone', 'ʻalenuihāhā'],\n",
       "      dtype='object', length=5000)"
      ]
     },
     "execution_count": 150,
     "metadata": {},
     "output_type": "execute_result"
    }
   ],
   "source": [
    "dtm.columns"
   ]
  },
  {
   "cell_type": "code",
   "execution_count": 141,
   "metadata": {},
   "outputs": [
    {
     "data": {
      "text/plain": [
       "NearestNeighbors(algorithm='kd_tree', leaf_size=30, metric='minkowski',\n",
       "                 metric_params=None, n_jobs=None, n_neighbors=4, p=2,\n",
       "                 radius=1.0)"
      ]
     },
     "execution_count": 141,
     "metadata": {},
     "output_type": "execute_result"
    }
   ],
   "source": [
    "from sklearn.neighbors import NearestNeighbors\n",
    "\n",
    "# Fit on DTM\n",
    "nn = NearestNeighbors(n_neighbors=4, algorithm='kd_tree')\n",
    "nn.fit(dtm)"
   ]
  },
  {
   "cell_type": "code",
   "execution_count": 142,
   "metadata": {},
   "outputs": [
    {
     "data": {
      "text/plain": [
       "(array([[0.        , 1.26482729, 1.29389936, 1.29893431]]),\n",
       " array([[   0,  593, 1383, 1122]]))"
      ]
     },
     "execution_count": 142,
     "metadata": {},
     "output_type": "execute_result"
    }
   ],
   "source": [
    "nn.kneighbors([dtm.iloc[0].values])"
   ]
  },
  {
   "cell_type": "code",
   "execution_count": 144,
   "metadata": {},
   "outputs": [
    {
     "data": {
      "text/plain": [
       "(array([[0.        , 1.21532335, 1.2822921 , 1.28422796]]),\n",
       " array([[ 256,  240,   76, 1578]]))"
      ]
     },
     "execution_count": 144,
     "metadata": {},
     "output_type": "execute_result"
    }
   ],
   "source": [
    "# Query Using kneighbors \n",
    "nn.kneighbors([dtm.iloc[256]])"
   ]
  },
  {
   "cell_type": "code",
   "execution_count": 145,
   "metadata": {},
   "outputs": [
    {
     "data": {
      "text/plain": [
       "\"['Earthy', 'Pungent', 'Berry'],['Relaxed', 'Happy', 'Energetic', 'Uplifted', 'Focused'],['Dry Mouth'],['Depression', 'Pain', 'Stress', 'Nausea', 'Headache', 'Fatigue'],['Blue Dot, also known as MGB or Medical Grade Bud,\\\\xa0is a\\\\xa0sativa-dominant strain\\\\xa0originally bred\\\\xa0in Sonoma, California\\\\xa0by a medical patient. Blue Dot is a genetic blend of Leda Uno, Northern Lights, and Haze\\\\xa0. Its resinous buds offer a sweet\\\\xa0hashy\\\\xa0flavor profile, and can be expected to finish flowering in 9 to 10 weeks.']\""
      ]
     },
     "execution_count": 145,
     "metadata": {},
     "output_type": "execute_result"
    }
   ],
   "source": [
    "strains['Combined'][256]"
   ]
  },
  {
   "cell_type": "code",
   "execution_count": 146,
   "metadata": {},
   "outputs": [
    {
     "data": {
      "text/plain": [
       "\"['Pine', 'Earthy', 'Sage'],['Relaxed', 'Euphoric', 'Happy', 'Uplifted', 'Sleepy'],['Dry Mouth'],['Insomnia', 'Pain', 'Stress', 'Nausea', 'Headache', 'Muscle Spasms'],['Blowfish is an indica-dominant hybrid bred by Dutch Flowers, who crossed a G13 and Oregon Funk hybrid with a G13 and Blue Dot hybrid to create this cannabis strain.']\""
      ]
     },
     "execution_count": 146,
     "metadata": {},
     "output_type": "execute_result"
    }
   ],
   "source": [
    "strains['Combined'][240]"
   ]
  },
  {
   "cell_type": "code",
   "execution_count": 147,
   "metadata": {},
   "outputs": [
    {
     "data": {
      "text/plain": [
       "['strains_recomender.joblib']"
      ]
     },
     "execution_count": 147,
     "metadata": {},
     "output_type": "execute_result"
    }
   ],
   "source": [
    "from joblib import dump\n",
    "dump(nn, 'strains_recomender.joblib', compress=1)"
   ]
  },
  {
   "cell_type": "code",
   "execution_count": 185,
   "metadata": {},
   "outputs": [
    {
     "data": {
      "text/html": [
       "<div>\n",
       "<style scoped>\n",
       "    .dataframe tbody tr th:only-of-type {\n",
       "        vertical-align: middle;\n",
       "    }\n",
       "\n",
       "    .dataframe tbody tr th {\n",
       "        vertical-align: top;\n",
       "    }\n",
       "\n",
       "    .dataframe thead th {\n",
       "        text-align: right;\n",
       "    }\n",
       "</style>\n",
       "<table border=\"1\" class=\"dataframe\">\n",
       "  <thead>\n",
       "    <tr style=\"text-align: right;\">\n",
       "      <th></th>\n",
       "      <th>id</th>\n",
       "      <th>name</th>\n",
       "      <th>race</th>\n",
       "      <th>flavors</th>\n",
       "      <th>positive</th>\n",
       "      <th>negative</th>\n",
       "      <th>medical</th>\n",
       "      <th>description</th>\n",
       "      <th>Combined</th>\n",
       "    </tr>\n",
       "  </thead>\n",
       "  <tbody>\n",
       "    <tr>\n",
       "      <th>0</th>\n",
       "      <td>1</td>\n",
       "      <td>Afpak</td>\n",
       "      <td>hybrid</td>\n",
       "      <td>[Earthy, Chemical, Pine]</td>\n",
       "      <td>[Relaxed, Hungry, Happy, Sleepy]</td>\n",
       "      <td>[Dizzy]</td>\n",
       "      <td>[Depression, Insomnia, Pain, Stress, Lack of A...</td>\n",
       "      <td>[Afpak, named for its direct Afghani and Pakis...</td>\n",
       "      <td>['Earthy', 'Chemical', 'Pine'],['Relaxed', 'Hu...</td>\n",
       "    </tr>\n",
       "    <tr>\n",
       "      <th>1</th>\n",
       "      <td>2</td>\n",
       "      <td>African</td>\n",
       "      <td>sativa</td>\n",
       "      <td>[Spicy/Herbal, Pungent, Earthy]</td>\n",
       "      <td>[Euphoric, Happy, Creative, Energetic, Talkative]</td>\n",
       "      <td>[Dry Mouth]</td>\n",
       "      <td>[Depression, Pain, Stress, Lack of Appetite, N...</td>\n",
       "      <td>[African refers to the indigenous varieties of...</td>\n",
       "      <td>['Spicy/Herbal', 'Pungent', 'Earthy'],['Euphor...</td>\n",
       "    </tr>\n",
       "    <tr>\n",
       "      <th>2</th>\n",
       "      <td>3</td>\n",
       "      <td>Afternoon Delight</td>\n",
       "      <td>hybrid</td>\n",
       "      <td>[Pepper, Flowery, Pine]</td>\n",
       "      <td>[Relaxed, Hungry, Euphoric, Uplifted, Tingly]</td>\n",
       "      <td>[Dizzy, Dry Mouth, Paranoid]</td>\n",
       "      <td>[Depression, Insomnia, Pain, Stress, Cramps, H...</td>\n",
       "      <td>[Afternoon Delight, created by Colorado Seed I...</td>\n",
       "      <td>['Pepper', 'Flowery', 'Pine'],['Relaxed', 'Hun...</td>\n",
       "    </tr>\n",
       "    <tr>\n",
       "      <th>3</th>\n",
       "      <td>4</td>\n",
       "      <td>Afwreck</td>\n",
       "      <td>hybrid</td>\n",
       "      <td>[Pine, Earthy, Flowery]</td>\n",
       "      <td>[Relaxed, Happy, Creative, Uplifted, Sleepy]</td>\n",
       "      <td>[Dizzy, Dry Mouth, Paranoid, Dry Eyes]</td>\n",
       "      <td>[Pain, Stress, Headache, Fatigue, Headaches, M...</td>\n",
       "      <td>[Afwreck is a hybrid cross of Afghani and Trai...</td>\n",
       "      <td>['Pine', 'Earthy', 'Flowery'],['Relaxed', 'Hap...</td>\n",
       "    </tr>\n",
       "    <tr>\n",
       "      <th>4</th>\n",
       "      <td>5</td>\n",
       "      <td>Agent Orange</td>\n",
       "      <td>hybrid</td>\n",
       "      <td>[Citrus, Orange, Sweet]</td>\n",
       "      <td>[Relaxed, Euphoric, Happy, Energetic, Uplifted]</td>\n",
       "      <td>[Dizzy, Dry Mouth, Paranoid, Dry Eyes]</td>\n",
       "      <td>[Depression, Pain, Stress, Nausea, Headache, H...</td>\n",
       "      <td>[Don’t let the name scare you! The only herbic...</td>\n",
       "      <td>['Citrus', 'Orange', 'Sweet'],['Relaxed', 'Eup...</td>\n",
       "    </tr>\n",
       "  </tbody>\n",
       "</table>\n",
       "</div>"
      ],
      "text/plain": [
       "   id               name    race                          flavors  \\\n",
       "0   1              Afpak  hybrid         [Earthy, Chemical, Pine]   \n",
       "1   2            African  sativa  [Spicy/Herbal, Pungent, Earthy]   \n",
       "2   3  Afternoon Delight  hybrid          [Pepper, Flowery, Pine]   \n",
       "3   4            Afwreck  hybrid          [Pine, Earthy, Flowery]   \n",
       "4   5       Agent Orange  hybrid          [Citrus, Orange, Sweet]   \n",
       "\n",
       "                                            positive  \\\n",
       "0                   [Relaxed, Hungry, Happy, Sleepy]   \n",
       "1  [Euphoric, Happy, Creative, Energetic, Talkative]   \n",
       "2      [Relaxed, Hungry, Euphoric, Uplifted, Tingly]   \n",
       "3       [Relaxed, Happy, Creative, Uplifted, Sleepy]   \n",
       "4    [Relaxed, Euphoric, Happy, Energetic, Uplifted]   \n",
       "\n",
       "                                 negative  \\\n",
       "0                                 [Dizzy]   \n",
       "1                             [Dry Mouth]   \n",
       "2            [Dizzy, Dry Mouth, Paranoid]   \n",
       "3  [Dizzy, Dry Mouth, Paranoid, Dry Eyes]   \n",
       "4  [Dizzy, Dry Mouth, Paranoid, Dry Eyes]   \n",
       "\n",
       "                                             medical  \\\n",
       "0  [Depression, Insomnia, Pain, Stress, Lack of A...   \n",
       "1  [Depression, Pain, Stress, Lack of Appetite, N...   \n",
       "2  [Depression, Insomnia, Pain, Stress, Cramps, H...   \n",
       "3  [Pain, Stress, Headache, Fatigue, Headaches, M...   \n",
       "4  [Depression, Pain, Stress, Nausea, Headache, H...   \n",
       "\n",
       "                                         description  \\\n",
       "0  [Afpak, named for its direct Afghani and Pakis...   \n",
       "1  [African refers to the indigenous varieties of...   \n",
       "2  [Afternoon Delight, created by Colorado Seed I...   \n",
       "3  [Afwreck is a hybrid cross of Afghani and Trai...   \n",
       "4  [Don’t let the name scare you! The only herbic...   \n",
       "\n",
       "                                            Combined  \n",
       "0  ['Earthy', 'Chemical', 'Pine'],['Relaxed', 'Hu...  \n",
       "1  ['Spicy/Herbal', 'Pungent', 'Earthy'],['Euphor...  \n",
       "2  ['Pepper', 'Flowery', 'Pine'],['Relaxed', 'Hun...  \n",
       "3  ['Pine', 'Earthy', 'Flowery'],['Relaxed', 'Hap...  \n",
       "4  ['Citrus', 'Orange', 'Sweet'],['Relaxed', 'Eup...  "
      ]
     },
     "execution_count": 185,
     "metadata": {},
     "output_type": "execute_result"
    }
   ],
   "source": [
    "strains.head()"
   ]
  },
  {
   "cell_type": "code",
   "execution_count": 186,
   "metadata": {},
   "outputs": [
    {
     "data": {
      "text/plain": [
       "((1970, 6), (1970,))"
      ]
     },
     "execution_count": 186,
     "metadata": {},
     "output_type": "execute_result"
    }
   ],
   "source": [
    "X_train = strains.drop(['name', 'Combined', 'id'], axis=1)\n",
    "y_train = strains['name']\n",
    "X_train.shape, y_train.shape"
   ]
  },
  {
   "cell_type": "code",
   "execution_count": 187,
   "metadata": {},
   "outputs": [
    {
     "name": "stdout",
     "output_type": "stream",
     "text": [
      "Vectorization...\n"
     ]
    },
    {
     "ename": "NameError",
     "evalue": "name 'sentences' is not defined",
     "output_type": "error",
     "traceback": [
      "\u001b[0;31m---------------------------------------------------------------------------\u001b[0m",
      "\u001b[0;31mNameError\u001b[0m                                 Traceback (most recent call last)",
      "\u001b[0;32m<ipython-input-187-0dae5c22d403>\u001b[0m in \u001b[0;36m<module>\u001b[0;34m\u001b[0m\n\u001b[1;32m      1\u001b[0m \u001b[0mprint\u001b[0m\u001b[0;34m(\u001b[0m\u001b[0;34m'Vectorization...'\u001b[0m\u001b[0;34m)\u001b[0m\u001b[0;34m\u001b[0m\u001b[0;34m\u001b[0m\u001b[0m\n\u001b[0;32m----> 2\u001b[0;31m \u001b[0mX_train\u001b[0m \u001b[0;34m=\u001b[0m \u001b[0mnp\u001b[0m\u001b[0;34m.\u001b[0m\u001b[0mzeros\u001b[0m\u001b[0;34m(\u001b[0m\u001b[0;34m(\u001b[0m\u001b[0mlen\u001b[0m\u001b[0;34m(\u001b[0m\u001b[0msentences\u001b[0m\u001b[0;34m)\u001b[0m\u001b[0;34m,\u001b[0m \u001b[0mmaxlen\u001b[0m\u001b[0;34m,\u001b[0m \u001b[0mlen\u001b[0m\u001b[0;34m(\u001b[0m\u001b[0mchars\u001b[0m\u001b[0;34m)\u001b[0m\u001b[0;34m)\u001b[0m\u001b[0;34m,\u001b[0m \u001b[0mdtype\u001b[0m\u001b[0;34m=\u001b[0m\u001b[0mnp\u001b[0m\u001b[0;34m.\u001b[0m\u001b[0mbool\u001b[0m\u001b[0;34m)\u001b[0m\u001b[0;34m\u001b[0m\u001b[0;34m\u001b[0m\u001b[0m\n\u001b[0m\u001b[1;32m      3\u001b[0m \u001b[0my_train\u001b[0m \u001b[0;34m=\u001b[0m \u001b[0mnp\u001b[0m\u001b[0;34m.\u001b[0m\u001b[0mzeros\u001b[0m\u001b[0;34m(\u001b[0m\u001b[0;34m(\u001b[0m\u001b[0mlen\u001b[0m\u001b[0;34m(\u001b[0m\u001b[0msentences\u001b[0m\u001b[0;34m)\u001b[0m\u001b[0;34m,\u001b[0m \u001b[0mlen\u001b[0m\u001b[0;34m(\u001b[0m\u001b[0mchars\u001b[0m\u001b[0;34m)\u001b[0m\u001b[0;34m)\u001b[0m\u001b[0;34m,\u001b[0m \u001b[0mdtype\u001b[0m\u001b[0;34m=\u001b[0m\u001b[0mnp\u001b[0m\u001b[0;34m.\u001b[0m\u001b[0mbool\u001b[0m\u001b[0;34m)\u001b[0m\u001b[0;34m\u001b[0m\u001b[0;34m\u001b[0m\u001b[0m\n\u001b[1;32m      4\u001b[0m \u001b[0;32mfor\u001b[0m \u001b[0mi\u001b[0m\u001b[0;34m,\u001b[0m \u001b[0msentence\u001b[0m \u001b[0;32min\u001b[0m \u001b[0menumerate\u001b[0m\u001b[0;34m(\u001b[0m\u001b[0msentences\u001b[0m\u001b[0;34m)\u001b[0m\u001b[0;34m:\u001b[0m\u001b[0;34m\u001b[0m\u001b[0;34m\u001b[0m\u001b[0m\n\u001b[1;32m      5\u001b[0m     \u001b[0;32mfor\u001b[0m \u001b[0mt\u001b[0m\u001b[0;34m,\u001b[0m \u001b[0mchar\u001b[0m \u001b[0;32min\u001b[0m \u001b[0menumerate\u001b[0m\u001b[0;34m(\u001b[0m\u001b[0msentence\u001b[0m\u001b[0;34m)\u001b[0m\u001b[0;34m:\u001b[0m\u001b[0;34m\u001b[0m\u001b[0;34m\u001b[0m\u001b[0m\n",
      "\u001b[0;31mNameError\u001b[0m: name 'sentences' is not defined"
     ]
    }
   ],
   "source": [
    "print('Vectorization...')\n",
    "X_train = np.zeros((len(sentences), maxlen, len(chars)), dtype=np.bool)\n",
    "y_train = np.zeros((len(sentences), len(chars)), dtype=np.bool)\n",
    "for i, sentence in enumerate(sentences):\n",
    "    for t, char in enumerate(sentence):\n",
    "        x[i, t, char_indices[char]] = 1\n",
    "    y[i, char_indices[next_chars[i]]] =1"
   ]
  },
  {
   "cell_type": "code",
   "execution_count": 179,
   "metadata": {},
   "outputs": [],
   "source": [
    "max_features = 1000\n",
    "maxlen = 80\n",
    "batch_size= 30"
   ]
  },
  {
   "cell_type": "code",
   "execution_count": 180,
   "metadata": {},
   "outputs": [],
   "source": [
    "from tensorflow.keras.preprocessing import sequence\n",
    "from tensorflow.keras.models import Sequential\n",
    "from tensorflow.keras.layers import Dense, Embedding\n",
    "from tensorflow.keras.layers import LSTM\n",
    "from sklearn.model_selection import train_test_split"
   ]
  },
  {
   "cell_type": "code",
   "execution_count": 181,
   "metadata": {},
   "outputs": [],
   "source": [
    "X_train, y_train, X_test, y_test = train_test_split(X_train, y_train, test_size=0.20, random_state=42)"
   ]
  },
  {
   "cell_type": "code",
   "execution_count": 182,
   "metadata": {},
   "outputs": [
    {
     "data": {
      "text/plain": [
       "((1576, 6), (1576,), (394, 6), (394,))"
      ]
     },
     "execution_count": 182,
     "metadata": {},
     "output_type": "execute_result"
    }
   ],
   "source": [
    "X_train.shape, X_test.shape, y_train.shape, y_test.shape"
   ]
  },
  {
   "cell_type": "code",
   "execution_count": 183,
   "metadata": {},
   "outputs": [
    {
     "name": "stdout",
     "output_type": "stream",
     "text": [
      "1576 train sequences\n",
      "1576 test sequences\n"
     ]
    }
   ],
   "source": [
    "print(len(X_train), 'train sequences')\n",
    "print(len(X_test), 'test sequences')"
   ]
  },
  {
   "cell_type": "code",
   "execution_count": null,
   "metadata": {},
   "outputs": [],
   "source": []
  },
  {
   "cell_type": "code",
   "execution_count": 184,
   "metadata": {},
   "outputs": [
    {
     "name": "stdout",
     "output_type": "stream",
     "text": [
      "Pad Sequences (samples x time)\n"
     ]
    },
    {
     "ename": "ValueError",
     "evalue": "invalid literal for int() with base 10: 'race'",
     "output_type": "error",
     "traceback": [
      "\u001b[0;31m---------------------------------------------------------------------------\u001b[0m",
      "\u001b[0;31mValueError\u001b[0m                                Traceback (most recent call last)",
      "\u001b[0;32m<ipython-input-184-485ef56fa062>\u001b[0m in \u001b[0;36m<module>\u001b[0;34m\u001b[0m\n\u001b[1;32m      1\u001b[0m \u001b[0mprint\u001b[0m\u001b[0;34m(\u001b[0m\u001b[0;34m'Pad Sequences (samples x time)'\u001b[0m\u001b[0;34m)\u001b[0m\u001b[0;34m\u001b[0m\u001b[0;34m\u001b[0m\u001b[0m\n\u001b[0;32m----> 2\u001b[0;31m \u001b[0mX_train\u001b[0m \u001b[0;34m=\u001b[0m \u001b[0msequence\u001b[0m\u001b[0;34m.\u001b[0m\u001b[0mpad_sequences\u001b[0m\u001b[0;34m(\u001b[0m\u001b[0mX_train\u001b[0m\u001b[0;34m,\u001b[0m \u001b[0mmaxlen\u001b[0m\u001b[0;34m=\u001b[0m\u001b[0mmaxlen\u001b[0m\u001b[0;34m)\u001b[0m\u001b[0;34m\u001b[0m\u001b[0;34m\u001b[0m\u001b[0m\n\u001b[0m\u001b[1;32m      3\u001b[0m \u001b[0mX_test\u001b[0m \u001b[0;34m=\u001b[0m \u001b[0msequence\u001b[0m\u001b[0;34m.\u001b[0m\u001b[0mpad_sequences\u001b[0m\u001b[0;34m(\u001b[0m\u001b[0mX_test\u001b[0m\u001b[0;34m,\u001b[0m \u001b[0mmaxlen\u001b[0m\u001b[0;34m=\u001b[0m\u001b[0mmaxlen\u001b[0m\u001b[0;34m)\u001b[0m\u001b[0;34m\u001b[0m\u001b[0;34m\u001b[0m\u001b[0m\n\u001b[1;32m      4\u001b[0m \u001b[0mprint\u001b[0m\u001b[0;34m(\u001b[0m\u001b[0;34m'X_train shape: '\u001b[0m\u001b[0;34m,\u001b[0m \u001b[0mX_train\u001b[0m\u001b[0;34m.\u001b[0m\u001b[0mshape\u001b[0m\u001b[0;34m)\u001b[0m\u001b[0;34m\u001b[0m\u001b[0;34m\u001b[0m\u001b[0m\n\u001b[1;32m      5\u001b[0m \u001b[0mprint\u001b[0m\u001b[0;34m(\u001b[0m\u001b[0;34m'X_test shape: '\u001b[0m\u001b[0;34m,\u001b[0m \u001b[0mX_test\u001b[0m\u001b[0;34m.\u001b[0m\u001b[0mshape\u001b[0m\u001b[0;34m)\u001b[0m\u001b[0;34m\u001b[0m\u001b[0;34m\u001b[0m\u001b[0m\n",
      "\u001b[0;32m~/opt/anaconda3/lib/python3.7/site-packages/keras_preprocessing/sequence.py\u001b[0m in \u001b[0;36mpad_sequences\u001b[0;34m(sequences, maxlen, dtype, padding, truncating, value)\u001b[0m\n\u001b[1;32m     94\u001b[0m \u001b[0;34m\u001b[0m\u001b[0m\n\u001b[1;32m     95\u001b[0m         \u001b[0;31m# check `trunc` has expected shape\u001b[0m\u001b[0;34m\u001b[0m\u001b[0;34m\u001b[0m\u001b[0;34m\u001b[0m\u001b[0m\n\u001b[0;32m---> 96\u001b[0;31m         \u001b[0mtrunc\u001b[0m \u001b[0;34m=\u001b[0m \u001b[0mnp\u001b[0m\u001b[0;34m.\u001b[0m\u001b[0masarray\u001b[0m\u001b[0;34m(\u001b[0m\u001b[0mtrunc\u001b[0m\u001b[0;34m,\u001b[0m \u001b[0mdtype\u001b[0m\u001b[0;34m=\u001b[0m\u001b[0mdtype\u001b[0m\u001b[0;34m)\u001b[0m\u001b[0;34m\u001b[0m\u001b[0;34m\u001b[0m\u001b[0m\n\u001b[0m\u001b[1;32m     97\u001b[0m         \u001b[0;32mif\u001b[0m \u001b[0mtrunc\u001b[0m\u001b[0;34m.\u001b[0m\u001b[0mshape\u001b[0m\u001b[0;34m[\u001b[0m\u001b[0;36m1\u001b[0m\u001b[0;34m:\u001b[0m\u001b[0;34m]\u001b[0m \u001b[0;34m!=\u001b[0m \u001b[0msample_shape\u001b[0m\u001b[0;34m:\u001b[0m\u001b[0;34m\u001b[0m\u001b[0;34m\u001b[0m\u001b[0m\n\u001b[1;32m     98\u001b[0m             raise ValueError('Shape of sample %s of sequence at position %s '\n",
      "\u001b[0;32m~/opt/anaconda3/lib/python3.7/site-packages/numpy/core/_asarray.py\u001b[0m in \u001b[0;36masarray\u001b[0;34m(a, dtype, order)\u001b[0m\n\u001b[1;32m     83\u001b[0m \u001b[0;34m\u001b[0m\u001b[0m\n\u001b[1;32m     84\u001b[0m     \"\"\"\n\u001b[0;32m---> 85\u001b[0;31m     \u001b[0;32mreturn\u001b[0m \u001b[0marray\u001b[0m\u001b[0;34m(\u001b[0m\u001b[0ma\u001b[0m\u001b[0;34m,\u001b[0m \u001b[0mdtype\u001b[0m\u001b[0;34m,\u001b[0m \u001b[0mcopy\u001b[0m\u001b[0;34m=\u001b[0m\u001b[0;32mFalse\u001b[0m\u001b[0;34m,\u001b[0m \u001b[0morder\u001b[0m\u001b[0;34m=\u001b[0m\u001b[0morder\u001b[0m\u001b[0;34m)\u001b[0m\u001b[0;34m\u001b[0m\u001b[0;34m\u001b[0m\u001b[0m\n\u001b[0m\u001b[1;32m     86\u001b[0m \u001b[0;34m\u001b[0m\u001b[0m\n\u001b[1;32m     87\u001b[0m \u001b[0;34m\u001b[0m\u001b[0m\n",
      "\u001b[0;31mValueError\u001b[0m: invalid literal for int() with base 10: 'race'"
     ]
    }
   ],
   "source": [
    "print('Pad Sequences (samples x time)')\n",
    "X_train = sequence.pad_sequences(X_train, maxlen=maxlen)\n",
    "X_test = sequence.pad_sequences(X_test, maxlen=maxlen)\n",
    "print('X_train shape: ', X_train.shape)\n",
    "print('X_test shape: ', X_test.shape)"
   ]
  },
  {
   "cell_type": "code",
   "execution_count": null,
   "metadata": {},
   "outputs": [],
   "source": []
  }
 ],
 "metadata": {
  "kernelspec": {
   "display_name": "Python 3",
   "language": "python",
   "name": "python3"
  },
  "language_info": {
   "codemirror_mode": {
    "name": "ipython",
    "version": 3
   },
   "file_extension": ".py",
   "mimetype": "text/x-python",
   "name": "python",
   "nbconvert_exporter": "python",
   "pygments_lexer": "ipython3",
   "version": "3.7.4"
  }
 },
 "nbformat": 4,
 "nbformat_minor": 4
}
